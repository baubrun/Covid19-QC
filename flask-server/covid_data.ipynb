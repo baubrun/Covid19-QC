{
 "cells": [
  {
   "cell_type": "code",
   "execution_count": 53,
   "metadata": {},
   "outputs": [],
   "source": [
    "import httplib2\n",
    "from pprint import pprint\n",
    "import requests\n",
    "from bs4 import BeautifulSoup\n",
    "import webbrowser\n",
    "import re"
   ]
  },
  {
   "cell_type": "code",
   "execution_count": 54,
   "metadata": {},
   "outputs": [],
   "source": [
    "url = \"https://www.quebec.ca/sante/problemes-de-sante/a-z/coronavirus-2019/situation-coronavirus-quebec/\""
   ]
  },
  {
   "cell_type": "code",
   "execution_count": 55,
   "metadata": {},
   "outputs": [],
   "source": [
    "resp = requests.get(url)"
   ]
  },
  {
   "cell_type": "code",
   "execution_count": 56,
   "metadata": {},
   "outputs": [],
   "source": [
    "# resp"
   ]
  },
  {
   "cell_type": "code",
   "execution_count": 57,
   "metadata": {},
   "outputs": [],
   "source": [
    "soup = BeautifulSoup(resp.text, \"lxml\")"
   ]
  },
  {
   "cell_type": "code",
   "execution_count": 58,
   "metadata": {},
   "outputs": [],
   "source": [
    "# type(soup)"
   ]
  },
  {
   "cell_type": "code",
   "execution_count": 59,
   "metadata": {
    "scrolled": true
   },
   "outputs": [],
   "source": [
    "# pprint(soup)"
   ]
  },
  {
   "cell_type": "code",
   "execution_count": 60,
   "metadata": {},
   "outputs": [],
   "source": [
    "table = soup.find(\"table\")"
   ]
  },
  {
   "cell_type": "code",
   "execution_count": 61,
   "metadata": {},
   "outputs": [],
   "source": [
    "# print(table.prettify())"
   ]
  },
  {
   "cell_type": "code",
   "execution_count": 62,
   "metadata": {},
   "outputs": [],
   "source": [
    "# p_tag_in_table = table.find_all(\"p\")"
   ]
  },
  {
   "cell_type": "code",
   "execution_count": 63,
   "metadata": {},
   "outputs": [],
   "source": [
    "def get_p_tags(data):\n",
    "    return [str(i) for i in data.find_all(\"p\")]"
   ]
  },
  {
   "cell_type": "code",
   "execution_count": 64,
   "metadata": {},
   "outputs": [],
   "source": [
    "confirmes_p_tags = get_p_tags(table)"
   ]
  },
  {
   "cell_type": "code",
   "execution_count": 65,
   "metadata": {},
   "outputs": [],
   "source": [
    "# confirmes_p_tags"
   ]
  },
  {
   "cell_type": "code",
   "execution_count": 66,
   "metadata": {},
   "outputs": [],
   "source": [
    "def find_line(d):\n",
    "    l = []\n",
    "    for i in range(len(d)):\n",
    "        if d[i].startswith(\"<p>Données cumulatives\"):\n",
    "            l.append(d[i])\n",
    "    return l[0]"
   ]
  },
  {
   "cell_type": "code",
   "execution_count": 67,
   "metadata": {},
   "outputs": [],
   "source": [
    "date_str = find_line(confirmes_p_tags)"
   ]
  },
  {
   "cell_type": "code",
   "execution_count": 68,
   "metadata": {},
   "outputs": [],
   "source": [
    "# date_str"
   ]
  },
  {
   "cell_type": "code",
   "execution_count": 69,
   "metadata": {},
   "outputs": [],
   "source": [
    "date_str_ignore_ascii = date_str.encode(\"ascii\", \"replace\")"
   ]
  },
  {
   "cell_type": "code",
   "execution_count": 70,
   "metadata": {},
   "outputs": [],
   "source": [
    "# date_str_ignore_ascii"
   ]
  },
  {
   "cell_type": "code",
   "execution_count": 71,
   "metadata": {},
   "outputs": [],
   "source": [
    "date_str_decode_utf8 = date_str_ignore_ascii.decode(\"UTF8\")"
   ]
  },
  {
   "cell_type": "code",
   "execution_count": 72,
   "metadata": {},
   "outputs": [],
   "source": [
    "# date_str_decode_utf8"
   ]
  },
  {
   "cell_type": "code",
   "execution_count": 73,
   "metadata": {},
   "outputs": [],
   "source": [
    "date_str_regex = re.compile(\"(\\s?\\d{2}\\W\\w+\\W\\d{4})\")"
   ]
  },
  {
   "cell_type": "code",
   "execution_count": 74,
   "metadata": {},
   "outputs": [],
   "source": [
    "# date_str_regex"
   ]
  },
  {
   "cell_type": "code",
   "execution_count": 75,
   "metadata": {},
   "outputs": [],
   "source": [
    "date_found = date_str_regex.findall(date_str_decode_utf8)"
   ]
  },
  {
   "cell_type": "code",
   "execution_count": 76,
   "metadata": {},
   "outputs": [],
   "source": [
    "# date_found"
   ]
  },
  {
   "cell_type": "code",
   "execution_count": 77,
   "metadata": {},
   "outputs": [],
   "source": [
    "date = \" \".join(date_found[0].split(\"?\"))"
   ]
  },
  {
   "cell_type": "code",
   "execution_count": 116,
   "metadata": {},
   "outputs": [
    {
     "data": {
      "text/plain": [
       "' 31 mai 2020'"
      ]
     },
     "execution_count": 116,
     "metadata": {},
     "output_type": "execute_result"
    }
   ],
   "source": [
    "# date"
   ]
  },
  {
   "cell_type": "code",
   "execution_count": 117,
   "metadata": {},
   "outputs": [],
   "source": [
    " donnees_confirmes = confirmes_p_tags[3:]"
   ]
  },
  {
   "cell_type": "code",
   "execution_count": 118,
   "metadata": {},
   "outputs": [
    {
     "data": {
      "text/plain": [
       "['<p>01 - Bas-Saint-Laurent</p>',\n",
       " '<p class=\"texteCentre\">48</p>',\n",
       " '<p>02 - Saguenay – Lac-Saint-Jean</p>',\n",
       " '<p class=\"texteCentre\">321</p>',\n",
       " '<p>03 - Capitale-Nationale</p>',\n",
       " '<p class=\"texteCentre\">1\\xa0601</p>',\n",
       " '<p>04 - Mauricie-et-Centre-du-Québec</p>',\n",
       " '<p class=\"texteCentre\">1\\xa0972</p>',\n",
       " '<p>05 - Estrie</p>',\n",
       " '<p class=\"texteCentre\">942</p>',\n",
       " '<p>06 - Montréal</p>',\n",
       " '<p class=\"texteCentre\">25\\xa0545</p>',\n",
       " '<p>07 - Outaouais</p>',\n",
       " '<p class=\"texteCentre\">537</p>',\n",
       " '<p>08 - Abitibi-Témiscamingue</p>',\n",
       " '<p class=\"texteCentre\">167</p>',\n",
       " '<p>09 - Côte-Nord</p>',\n",
       " '<p class=\"texteCentre\">115</p>',\n",
       " '<p>10 - Nord-du-Québec</p>',\n",
       " '<p class=\"texteCentre\">8</p>',\n",
       " '<p>11 - Gaspésie-Îles-de-la-Madeleine</p>',\n",
       " '<p class=\"texteCentre\">184</p>',\n",
       " '<p>12 - Chaudière-Appalaches</p>',\n",
       " '<p class=\"texteCentre\">499</p>',\n",
       " '<p>13 - Laval</p>',\n",
       " '<p class=\"texteCentre\">5\\xa0456</p>',\n",
       " '<p>14 - Lanaudière</p>',\n",
       " '<p class=\"texteCentre\">4\\xa0018</p>',\n",
       " '<p>15 - Laurentides</p>',\n",
       " '<p class=\"texteCentre\">2\\xa0969</p>',\n",
       " '<p>16 - Montérégie</p>',\n",
       " '<p class=\"texteCentre\">6\\xa0930</p>',\n",
       " '<p>17 - Nunavik</p>',\n",
       " '<p class=\"texteCentre\">16</p>',\n",
       " '<p>18 - Terres-Cries-de-la-Baie-James</p>',\n",
       " '<p class=\"texteCentre\">10</p>',\n",
       " '<p>Hors Québec</p>',\n",
       " '<p class=\"texteCentre\">10</p>',\n",
       " '<p>Région à déterminer</p>',\n",
       " '<p class=\"texteCentre\">6</p>',\n",
       " '<p>Total</p>',\n",
       " '<p class=\"texteCentre\">51\\xa0354</p>']"
      ]
     },
     "execution_count": 118,
     "metadata": {},
     "output_type": "execute_result"
    }
   ],
   "source": [
    "donnees_confirmes"
   ]
  },
  {
   "cell_type": "markdown",
   "metadata": {},
   "source": [
    "#### Slice Regions"
   ]
  },
  {
   "cell_type": "code",
   "execution_count": 81,
   "metadata": {},
   "outputs": [],
   "source": [
    "slice_regions = donnees_confirmes[0::2]"
   ]
  },
  {
   "cell_type": "code",
   "execution_count": 82,
   "metadata": {},
   "outputs": [],
   "source": [
    "# slice_regions"
   ]
  },
  {
   "cell_type": "markdown",
   "metadata": {},
   "source": [
    "#### Regex Régions"
   ]
  },
  {
   "cell_type": "code",
   "execution_count": 83,
   "metadata": {},
   "outputs": [],
   "source": [
    "def regex_regions(r):\n",
    "    regex = [re.findall(r\"\\w+\", noms) for noms in r]\n",
    "    les_noms = []\n",
    "    regex_tranches = [i for i in regex]\n",
    "    for m in regex_tranches:\n",
    "        if len(m) > 1:\n",
    "            nom = \"-\".join(m)\n",
    "            les_noms.append(nom)\n",
    "        else:\n",
    "            les_noms.append(m[0])\n",
    "    les_noms_2 = []\n",
    "    for i in les_noms:\n",
    "        les_noms_2.append(re.sub(\"p-\\d.-|p-|-p\", \"\", i))\n",
    "    return les_noms_2        "
   ]
  },
  {
   "cell_type": "code",
   "execution_count": 84,
   "metadata": {},
   "outputs": [],
   "source": [
    "regions = regex_regions(slice_regions)"
   ]
  },
  {
   "cell_type": "code",
   "execution_count": 85,
   "metadata": {},
   "outputs": [],
   "source": [
    "# regions"
   ]
  },
  {
   "cell_type": "markdown",
   "metadata": {},
   "source": [
    "#### Slice Confirmés"
   ]
  },
  {
   "cell_type": "code",
   "execution_count": 86,
   "metadata": {
    "collapsed": true
   },
   "outputs": [
    {
     "data": {
      "text/plain": [
       "['<p class=\"texteCentre\">48</p>',\n",
       " '<p class=\"texteCentre\">321</p>',\n",
       " '<p class=\"texteCentre\">1\\xa0601</p>',\n",
       " '<p class=\"texteCentre\">1\\xa0972</p>',\n",
       " '<p class=\"texteCentre\">942</p>',\n",
       " '<p class=\"texteCentre\">25\\xa0545</p>',\n",
       " '<p class=\"texteCentre\">537</p>',\n",
       " '<p class=\"texteCentre\">167</p>',\n",
       " '<p class=\"texteCentre\">115</p>',\n",
       " '<p class=\"texteCentre\">8</p>',\n",
       " '<p class=\"texteCentre\">184</p>',\n",
       " '<p class=\"texteCentre\">499</p>',\n",
       " '<p class=\"texteCentre\">5\\xa0456</p>',\n",
       " '<p class=\"texteCentre\">4\\xa0018</p>',\n",
       " '<p class=\"texteCentre\">2\\xa0969</p>',\n",
       " '<p class=\"texteCentre\">6\\xa0930</p>',\n",
       " '<p class=\"texteCentre\">16</p>',\n",
       " '<p class=\"texteCentre\">10</p>',\n",
       " '<p class=\"texteCentre\">10</p>',\n",
       " '<p class=\"texteCentre\">6</p>',\n",
       " '<p class=\"texteCentre\">51\\xa0354</p>']"
      ]
     },
     "execution_count": 86,
     "metadata": {},
     "output_type": "execute_result"
    }
   ],
   "source": [
    "# donnees_confirmes[1::2]"
   ]
  },
  {
   "cell_type": "code",
   "execution_count": 87,
   "metadata": {},
   "outputs": [],
   "source": [
    "slice_confirmes = donnees_confirmes[1::2]"
   ]
  },
  {
   "cell_type": "code",
   "execution_count": 88,
   "metadata": {},
   "outputs": [],
   "source": [
    "# slice_confirmes"
   ]
  },
  {
   "cell_type": "markdown",
   "metadata": {},
   "source": [
    "#### Regex Nombres"
   ]
  },
  {
   "cell_type": "code",
   "execution_count": 89,
   "metadata": {},
   "outputs": [],
   "source": [
    "def nombre_de_cas(c):\n",
    "    if len(c) == 1:\n",
    "        regions_a_determine = []\n",
    "        regex = re.findall(r\"\\d+\", c[0])\n",
    "        regions_a_determine = int(regex[0])\n",
    "        return regions_a_determine\n",
    "    else:\n",
    "        les_cas = []\n",
    "        for i in c:\n",
    "            chiffre_regex = re.findall(r\"\\d+\", i)\n",
    "            les_cas.append(int(\"\".join(chiffre_regex)))\n",
    "        return les_cas"
   ]
  },
  {
   "cell_type": "code",
   "execution_count": 90,
   "metadata": {},
   "outputs": [],
   "source": [
    "confirmes = nombre_de_cas(donnees_confirmes[1::2]) # error"
   ]
  },
  {
   "cell_type": "code",
   "execution_count": 91,
   "metadata": {},
   "outputs": [
    {
     "data": {
      "text/plain": [
       "[48,\n",
       " 321,\n",
       " 1601,\n",
       " 1972,\n",
       " 942,\n",
       " 25545,\n",
       " 537,\n",
       " 167,\n",
       " 115,\n",
       " 8,\n",
       " 184,\n",
       " 499,\n",
       " 5456,\n",
       " 4018,\n",
       " 2969,\n",
       " 6930,\n",
       " 16,\n",
       " 10,\n",
       " 10,\n",
       " 6,\n",
       " 51354]"
      ]
     },
     "execution_count": 91,
     "metadata": {},
     "output_type": "execute_result"
    }
   ],
   "source": [
    "confirmes"
   ]
  },
  {
   "cell_type": "markdown",
   "metadata": {},
   "source": [
    "#### Régions Aleat"
   ]
  },
  {
   "cell_type": "code",
   "execution_count": 92,
   "metadata": {},
   "outputs": [],
   "source": [
    "# # total 21\n",
    "# len(confirmes)"
   ]
  },
  {
   "cell_type": "markdown",
   "metadata": {},
   "source": [
    "### Cas de Décès"
   ]
  },
  {
   "cell_type": "code",
   "execution_count": 93,
   "metadata": {},
   "outputs": [],
   "source": [
    "soup_deces = soup.find_all(\"table\")"
   ]
  },
  {
   "cell_type": "code",
   "execution_count": 94,
   "metadata": {},
   "outputs": [],
   "source": [
    "# len(soup_deces)"
   ]
  },
  {
   "cell_type": "code",
   "execution_count": 95,
   "metadata": {},
   "outputs": [],
   "source": [
    "# soup_deces"
   ]
  },
  {
   "cell_type": "code",
   "execution_count": 96,
   "metadata": {},
   "outputs": [],
   "source": [
    "donnees_deces = soup_deces[2]"
   ]
  },
  {
   "cell_type": "code",
   "execution_count": 106,
   "metadata": {
    "collapsed": true
   },
   "outputs": [
    {
     "data": {
      "text/plain": [
       "<table class=\"contenttable\"><thead><tr><th class=\"align-top\"><p>Régions</p></th><th><p class=\"texteCentre\">Nombre de décès, en date du 1<sup>er</sup> juin, 11 h</p></th></tr></thead><tfoot><tr><td colspan=\"2\"><p>Données cumulatives. Source : V10, MSSS, 31 mai 2020, 18 h</p></td></tr></tfoot><tbody><tr><td><p>01 - Bas-Saint-Laurent</p></td><td><p class=\"texteCentre\">2</p></td></tr><tr><td><p>02 - Saguenay – Lac-Saint-Jean</p></td><td><p class=\"texteCentre\">26</p></td></tr><tr><td><p>03 - Capitale-Nationale</p></td><td><p class=\"texteCentre\">118</p></td></tr><tr><td><p>04 - Mauricie-et-Centre-du-Québec</p></td><td><p class=\"texteCentre\">199</p></td></tr><tr><td><p>05 - Estrie</p></td><td><p class=\"texteCentre\">25</p></td></tr><tr><td><p>06 - Montréal</p></td><td><p class=\"texteCentre\">2 927</p></td></tr><tr><td><p>07 - Outaouais</p></td><td><p class=\"texteCentre\">18</p></td></tr><tr><td><p>08 - Abitibi-Témiscamingue</p></td><td><p class=\"texteCentre\">3</p></td></tr><tr><td><p>09 - Côte-Nord</p></td><td><p class=\"texteCentre\">0</p></td></tr><tr><td><p>10 - Nord-du-Québec</p></td><td><p class=\"texteCentre\">0</p></td></tr><tr><td><p>11 - Gaspésie-Îles-de-la-Madeleine</p></td><td><p class=\"texteCentre\">8</p></td></tr><tr><td><p>12 - Chaudière-Appalaches</p></td><td><p class=\"texteCentre\">8</p></td></tr><tr><td><p>13 - Laval</p></td><td><p class=\"texteCentre\">608</p></td></tr><tr><td><p>14 - Lanaudière</p></td><td><p class=\"texteCentre\">189</p></td></tr><tr><td><p>15 - Laurentides</p></td><td><p class=\"texteCentre\">142</p></td></tr><tr><td><p>16 - Montérégie</p></td><td><p class=\"texteCentre\">388</p></td></tr><tr><td><p>17 - Nunavik</p></td><td><p class=\"texteCentre\">0</p></td></tr><tr><td><p>18 - Terres-Cries-de-la-Baie-James</p></td><td><p class=\"texteCentre\">0</p></td></tr><tr><td><p>Hors Québec</p></td><td><p class=\"texteCentre\">0</p></td></tr><tr><td><p>Région à déterminer</p></td><td><p class=\"texteCentre\">0</p></td></tr><tr><td><p>Total</p></td><td><p class=\"texteCentre\">4 661</p></td></tr></tbody></table>"
      ]
     },
     "execution_count": 106,
     "metadata": {},
     "output_type": "execute_result"
    }
   ],
   "source": [
    "donnees_deces"
   ]
  },
  {
   "cell_type": "code",
   "execution_count": null,
   "metadata": {},
   "outputs": [],
   "source": []
  },
  {
   "cell_type": "code",
   "execution_count": 98,
   "metadata": {},
   "outputs": [],
   "source": [
    "p_tag_deces = get_p_tags(donnees_deces)\n",
    "# p_tag_deces = [str(i) for i in donnees_deces.find_all(\"p\")]"
   ]
  },
  {
   "cell_type": "code",
   "execution_count": 126,
   "metadata": {
    "collapsed": true
   },
   "outputs": [
    {
     "data": {
      "text/plain": [
       "['<p class=\"texteCentre\">2</p>',\n",
       " '<p class=\"texteCentre\">26</p>',\n",
       " '<p class=\"texteCentre\">118</p>',\n",
       " '<p class=\"texteCentre\">199</p>',\n",
       " '<p class=\"texteCentre\">25</p>',\n",
       " '<p class=\"texteCentre\">2\\xa0927</p>',\n",
       " '<p class=\"texteCentre\">18</p>',\n",
       " '<p class=\"texteCentre\">3</p>',\n",
       " '<p class=\"texteCentre\">0</p>',\n",
       " '<p class=\"texteCentre\">0</p>',\n",
       " '<p class=\"texteCentre\">8</p>',\n",
       " '<p class=\"texteCentre\">8</p>',\n",
       " '<p class=\"texteCentre\">608</p>',\n",
       " '<p class=\"texteCentre\">189</p>',\n",
       " '<p class=\"texteCentre\">142</p>',\n",
       " '<p class=\"texteCentre\">388</p>',\n",
       " '<p class=\"texteCentre\">0</p>',\n",
       " '<p class=\"texteCentre\">0</p>',\n",
       " '<p class=\"texteCentre\">0</p>',\n",
       " '<p class=\"texteCentre\">0</p>',\n",
       " '<p class=\"texteCentre\">4\\xa0661</p>']"
      ]
     },
     "execution_count": 126,
     "metadata": {},
     "output_type": "execute_result"
    }
   ],
   "source": [
    "# p_tag_deces[4::2]"
   ]
  },
  {
   "cell_type": "code",
   "execution_count": 103,
   "metadata": {},
   "outputs": [],
   "source": [
    "# len(p_tag_deces[1::2])"
   ]
  },
  {
   "cell_type": "code",
   "execution_count": 127,
   "metadata": {},
   "outputs": [],
   "source": [
    "deces = nombre_de_cas(p_tag_deces[4::2])"
   ]
  },
  {
   "cell_type": "code",
   "execution_count": 128,
   "metadata": {},
   "outputs": [
    {
     "data": {
      "text/plain": [
       "[2,\n",
       " 26,\n",
       " 118,\n",
       " 199,\n",
       " 25,\n",
       " 2927,\n",
       " 18,\n",
       " 3,\n",
       " 0,\n",
       " 0,\n",
       " 8,\n",
       " 8,\n",
       " 608,\n",
       " 189,\n",
       " 142,\n",
       " 388,\n",
       " 0,\n",
       " 0,\n",
       " 0,\n",
       " 0,\n",
       " 4661]"
      ]
     },
     "execution_count": 128,
     "metadata": {},
     "output_type": "execute_result"
    }
   ],
   "source": [
    "# deces"
   ]
  },
  {
   "cell_type": "code",
   "execution_count": null,
   "metadata": {},
   "outputs": [],
   "source": [
    "# len(deces)"
   ]
  },
  {
   "cell_type": "code",
   "execution_count": 130,
   "metadata": {
    "scrolled": true
   },
   "outputs": [],
   "source": [
    "donnees_covid = []\n",
    "for i in range(len(confirmes)):\n",
    "    donnees_covid.append(dict(confirmés=confirmes[i], date=date,\n",
    "                  décès=deces[i],  région=regions[i]))"
   ]
  },
  {
   "cell_type": "code",
   "execution_count": 131,
   "metadata": {},
   "outputs": [],
   "source": [
    " data = donnees_covid "
   ]
  },
  {
   "cell_type": "code",
   "execution_count": 132,
   "metadata": {},
   "outputs": [
    {
     "data": {
      "text/plain": [
       "[{'confirmés': 48,\n",
       "  'date': ' 31 mai 2020',\n",
       "  'décès': 2,\n",
       "  'région': 'Bas-Saint-Laurent'},\n",
       " {'confirmés': 321,\n",
       "  'date': ' 31 mai 2020',\n",
       "  'décès': 26,\n",
       "  'région': 'Saguenay-Lac-Saint-Jean'},\n",
       " {'confirmés': 1601,\n",
       "  'date': ' 31 mai 2020',\n",
       "  'décès': 118,\n",
       "  'région': 'Capitale-Nationale'},\n",
       " {'confirmés': 1972,\n",
       "  'date': ' 31 mai 2020',\n",
       "  'décès': 199,\n",
       "  'région': 'Mauricie-et-Centre-du-Québec'},\n",
       " {'confirmés': 942, 'date': ' 31 mai 2020', 'décès': 25, 'région': 'Estrie'},\n",
       " {'confirmés': 25545,\n",
       "  'date': ' 31 mai 2020',\n",
       "  'décès': 2927,\n",
       "  'région': 'Montréal'},\n",
       " {'confirmés': 537,\n",
       "  'date': ' 31 mai 2020',\n",
       "  'décès': 18,\n",
       "  'région': 'Outaouais'},\n",
       " {'confirmés': 167,\n",
       "  'date': ' 31 mai 2020',\n",
       "  'décès': 3,\n",
       "  'région': 'Abitibi-Témiscamingue'},\n",
       " {'confirmés': 115, 'date': ' 31 mai 2020', 'décès': 0, 'région': 'Côte-Nord'},\n",
       " {'confirmés': 8,\n",
       "  'date': ' 31 mai 2020',\n",
       "  'décès': 0,\n",
       "  'région': 'Nord-du-Québec'},\n",
       " {'confirmés': 184,\n",
       "  'date': ' 31 mai 2020',\n",
       "  'décès': 8,\n",
       "  'région': 'Gaspésie-Îles-de-la-Madeleine'},\n",
       " {'confirmés': 499,\n",
       "  'date': ' 31 mai 2020',\n",
       "  'décès': 8,\n",
       "  'région': 'Chaudière-Appalaches'},\n",
       " {'confirmés': 5456, 'date': ' 31 mai 2020', 'décès': 608, 'région': 'Laval'},\n",
       " {'confirmés': 4018,\n",
       "  'date': ' 31 mai 2020',\n",
       "  'décès': 189,\n",
       "  'région': 'Lanaudière'},\n",
       " {'confirmés': 2969,\n",
       "  'date': ' 31 mai 2020',\n",
       "  'décès': 142,\n",
       "  'région': 'Laurentides'},\n",
       " {'confirmés': 6930,\n",
       "  'date': ' 31 mai 2020',\n",
       "  'décès': 388,\n",
       "  'région': 'Montérégie'},\n",
       " {'confirmés': 16, 'date': ' 31 mai 2020', 'décès': 0, 'région': 'Nunavik'},\n",
       " {'confirmés': 10,\n",
       "  'date': ' 31 mai 2020',\n",
       "  'décès': 0,\n",
       "  'région': 'Terres-Cries-de-la-Baie-James'},\n",
       " {'confirmés': 10,\n",
       "  'date': ' 31 mai 2020',\n",
       "  'décès': 0,\n",
       "  'région': 'Hors-Québec'},\n",
       " {'confirmés': 6,\n",
       "  'date': ' 31 mai 2020',\n",
       "  'décès': 0,\n",
       "  'région': 'Région-à-déterminer'},\n",
       " {'confirmés': 51354,\n",
       "  'date': ' 31 mai 2020',\n",
       "  'décès': 4661,\n",
       "  'région': 'Total'}]"
      ]
     },
     "execution_count": 132,
     "metadata": {},
     "output_type": "execute_result"
    }
   ],
   "source": [
    "data"
   ]
  }
 ],
 "metadata": {
  "kernelspec": {
   "display_name": "Python 3.7.4 64-bit",
   "language": "python",
   "name": "python37464bit28eee607e8484323a139d6b32bf3ddd7"
  },
  "language_info": {
   "codemirror_mode": {
    "name": "ipython",
    "version": 3
   },
   "file_extension": ".py",
   "mimetype": "text/x-python",
   "name": "python",
   "nbconvert_exporter": "python",
   "pygments_lexer": "ipython3",
   "version": "3.7.4"
  }
 },
 "nbformat": 4,
 "nbformat_minor": 4
}
