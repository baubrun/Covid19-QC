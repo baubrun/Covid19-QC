{
 "cells": [
  {
   "cell_type": "code",
   "execution_count": 1,
   "metadata": {},
   "outputs": [],
   "source": [
    "import httplib2\n",
    "from pprint import pprint\n",
    "import requests\n",
    "from bs4 import BeautifulSoup\n",
    "import webbrowser\n",
    "import re"
   ]
  },
  {
   "cell_type": "code",
   "execution_count": 2,
   "metadata": {},
   "outputs": [],
   "source": [
    "url = \"https://www.quebec.ca/sante/problemes-de-sante/a-z/coronavirus-2019/situation-coronavirus-quebec/\""
   ]
  },
  {
   "cell_type": "code",
   "execution_count": 3,
   "metadata": {},
   "outputs": [
    {
     "data": {
      "text/plain": [
       "<Response [200]>"
      ]
     },
     "execution_count": 3,
     "metadata": {},
     "output_type": "execute_result"
    }
   ],
   "source": [
    "resp = requests.get(url)\n",
    "resp"
   ]
  },
  {
   "cell_type": "code",
   "execution_count": 4,
   "metadata": {},
   "outputs": [],
   "source": [
    "soup = BeautifulSoup(resp.text, \"lxml\")"
   ]
  },
  {
   "cell_type": "code",
   "execution_count": 5,
   "metadata": {},
   "outputs": [
    {
     "data": {
      "text/plain": [
       "bs4.BeautifulSoup"
      ]
     },
     "execution_count": 5,
     "metadata": {},
     "output_type": "execute_result"
    }
   ],
   "source": [
    "type(soup)"
   ]
  },
  {
   "cell_type": "code",
   "execution_count": 6,
   "metadata": {
    "scrolled": true
   },
   "outputs": [
    {
     "name": "stdout",
     "output_type": "stream",
     "text": [
      "<!DOCTYPE html>\n",
      "<html lang=\"fr\">\n",
      "<head>\n",
      "<meta charset=\"utf-8\"/>\n",
      "<!-- \n",
      "\tThis website is powered by TYPO3 - inspiring people to share!\n",
      "\tTYPO3 is a free open source Content Management Framework initially created by Kasper Skaarhoj and licensed under GNU/GPL.\n",
      "\tTYPO3 is copyright 1998-2020 of Kasper Skaarhoj. Extensions are copyright of their respective owners.\n",
      "\tInformation and contribution at https://typo3.org/\n",
      "-->\n",
      "<meta content=\"TYPO3 CMS\" name=\"generator\"/>\n",
      "<meta content=\"no\" name=\"apple-mobile-web-app-capable\"/>\n",
      "<meta content=\"IE=edge\" http-equiv=\"X-UA-Compatible\"/>\n",
      "<meta content=\"@GouvQc\" name=\"twitter:site\"/>\n",
      "<meta content=\"index,follow\" name=\"robots\"/>\n",
      "<link href=\"/typo3temp/assets/css/69ef29a9c7.css?1590326714\" media=\"all\" rel=\"stylesheet\" type=\"text/css\"/>\n",
      "<link href=\"/typo3conf/ext/solr/Resources/Public/StyleSheets/Frontend/suggest.css?1589563277\" media=\"all\" rel=\"stylesheet\" type=\"text/css\"/>\n",
      "<link href=\"/typo3conf/ext/powermail/Resources/Public/Css/Basic.css?1589563264\" media=\"all\" rel=\"stylesheet\" type=\"text/css\"/>\n",
      "<link href=\"/typo3conf/ext/gabarit_pgu/Resources/Public/Css/bootstrap.min.css?1589563275\" media=\"all\" rel=\"stylesheet\" type=\"text/css\"/>\n",
      "<link href=\"/typo3conf/ext/gabarit_pgu/Resources/Public/Css/gabarit_pgu.css?1589563271\" media=\"all\" rel=\"stylesheet\" type=\"text/css\"/>\n",
      "<link href=\"/typo3conf/ext/gabarit_pgu/Resources/Public/Css/print.css?1589563264\" media=\"print\" rel=\"stylesheet\" type=\"text/css\"/>\n",
      "<link href=\"/typo3conf/ext/pgu_publication/Resources/Public/Css/style_publication.css?1589563266\" media=\"all\" rel=\"stylesheet\" type=\"text/css\"/>\n",
      "<link href=\"https://fonts.googleapis.com/css?family=Open+Sans:400,400i,600,600i,700,700i%7CRoboto:400,400i,500,500i,700,700i,900,900i%7CLato:400,400i,500,500i,700,700i,900,900i%7CMerriweather:300,300i,400,400i,700,700i,900\" media=\"all\" rel=\"stylesheet\" type=\"text/css\"/>\n",
      "<link href=\"/typo3conf/ext/bootstrap_grids/Resources/Public/Flexslider2/flexslider.css?1589563267\" media=\"all\" rel=\"stylesheet\" type=\"text/css\"/>\n",
      "<link href=\"/typo3conf/ext/youtubevideo/Resources/Public/Styles/youtubevideo.css?1589563280\" media=\"all\" rel=\"stylesheet\" type=\"text/css\"/>\n",
      "<link href=\"/typo3conf/ext/solrdebugtools/Resources/Public/Css/explain.css?1589563278\" media=\"all\" rel=\"stylesheet\" type=\"text/css\"/>\n",
      "<link href=\"/typo3conf/ext/pgu_suivre_ms/Resources/Public/Css/style_pgu_suivre_ms.css?1589563266\" media=\"all\" rel=\"stylesheet\" type=\"text/css\"/>\n",
      "<link href=\"https://cdn-contenu.quebec.ca/cdn-contenu/minimum.css?1587656656\" media=\"all\" rel=\"stylesheet\" type=\"text/css\"/>\n",
      "<!-- uid:5834--><meta content=\"Situation au Québec en lien avec le coronavirus (COVID-19) : le nombre de cas et les mesures prises par le gouvernement.\" name=\"dc.description\"/><meta content=\"jPFRzVXjiRN4IY3KxNVfvEnDXeLPy6V7WVm7Xc1Ao0Q\" name=\"google-site-verification\"/><meta content=\"227484923738C2C47E0BD34049F13422\" name=\"msvalidate.01\"/><title>Situation du coronavirus (COVID-19) au Québec | Gouvernement du Québec</title><meta content=\"Situation au Québec en lien avec le coronavirus (COVID-19) : le nombre de cas et les mesures prises par le gouvernement.\" name=\"description\"/><link href=\"https://www.quebec.ca/sante/problemes-de-sante/a-z/coronavirus-2019/situation-coronavirus-quebec/\" rel=\"canonical\"/><meta content=\"website\" property=\"og:type\"/><meta content=\"Situation du coronavirus (COVID-19) au Québec\" property=\"og:title\"/><meta content=\"Situation au Québec en lien avec le coronavirus (COVID-19) : le nombre de cas et les mesures prises par le gouvernement.\" property=\"og:description\"/><meta content=\"https://www.quebec.ca/sante/problemes-de-sante/a-z/coronavirus-2019/situation-coronavirus-quebec/\" property=\"og:url\"/><meta content=\"\" property=\"og:site_name\"/><meta content=\"https://cdn-contenu.quebec.ca/_processed_/6/2/csm_opengraph-facebook-covid_a4bcf9e469.png?0\" property=\"og:image\"/><meta content=\"summary\" name=\"twitter:card\"/><meta content=\"Situation du coronavirus (COVID-19) au Québec\" name=\"twitter:title\"/><meta content=\"Situation au Québec en lien avec le coronavirus (COVID-19) : le nombre de cas et les mesures prises par le gouvernement.\" name=\"twitter:description\"/><meta content=\"https://cdn-contenu.quebec.ca/_processed_/f/c/csm_twitter-cards-covid_8ef506d1ea.png?0\" name=\"twitter:image\"/>\n",
      "<link href=\"/typo3conf/ext/gabarit_pgu/Resources/Public/Icons/Favicons/apple-touch-icon.png\" rel=\"apple-touch-icon\" sizes=\"180x180\"/>\n",
      "<link href=\"/typo3conf/ext/gabarit_pgu/Resources/Public/Icons/Favicons/favicon-32x32.png\" rel=\"icon\" sizes=\"32x32\" type=\"image/png\"/>\n",
      "<link href=\"/typo3conf/ext/gabarit_pgu/Resources/Public/Icons/Favicons/favicon-16x16.png\" rel=\"icon\" sizes=\"16x16\" type=\"image/png\"/>\n",
      "<link href=\"/typo3conf/ext/gabarit_pgu/Resources/Public/Icons/Favicons/site.webmanifest\" rel=\"manifest\"/>\n",
      "<link color=\"#5bbad5\" href=\"/typo3conf/ext/gabarit_pgu/Resources/Public/Icons/Favicons/safari-pinned-tab.svg\" rel=\"mask-icon\"/>\n",
      "<meta content=\"#da532c\" name=\"msapplication-TileColor\"/>\n",
      "<meta content=\"#ffffff\" name=\"theme-color\"/>\n",
      "<meta content=\"width=device-width, initial-scale=1\" name=\"viewport\"/>\n",
      "<link href=\"https://cdn-contenu.quebec.ca\" rel=\"dns-prefetch\"/>\n",
      "</head>\n",
      "<body><!-- Google Tag Manager (noscript) -->\n",
      "<noscript><iframe height=\"0\" src=\"https://www.googletagmanager.com/ns.html?id=GTM-TRWV88D\" style=\"display:none;visibility:hidden\" width=\"0\"></iframe></noscript>\n",
      "<!-- End Google Tag Manager (noscript) -->\n",
      "<noscript>\n",
      "<style>\n",
      "            form .powermail_fieldwrap_commentpage,\n",
      "            .powermail_fieldwrap_soumettrebaspage input[type='submit'],\n",
      "            #formBasPageCommentaire .g-recaptcha,\n",
      "            .formBasPage .powermail_fieldwrap_zoneinformationjs{\n",
      "                display:block;\n",
      "            }\n",
      "            #main .formBasPage .form-group:first-child.powermail_fieldwrap_servicesquebecform{\n",
      "                display:flex;\n",
      "            }\n",
      "            .tx-powermail .grecaptcha-badge{\n",
      "                display:block;\n",
      "                visibility: visible;\n",
      "             }\n",
      "         </style>\n",
      "</noscript>\n",
      "<div role=\"banner\">\n",
      "<div class=\"container-fluid piv\">\n",
      "<div class=\"container\">\n",
      "<div class=\"row\">\n",
      "<div class=\"col-4 d-flex align-items-center\">\n",
      "<a class=\"visuallyHidden passerContenu\" href=\"/sante/problemes-de-sante/a-z/coronavirus-2019/situation-coronavirus-quebec/#main\" tabindex=\"1\">Passer au contenu</a>\n",
      "</div>\n",
      "</div>\n",
      "<div class=\"row\" id=\"entetePiv\">\n",
      "<div class=\"col-4 d-flex align-items-center container_piv\" lang=\"fr\">\n",
      "<a href=\"/\" tabindex=\"5\"><img alt=\"Logo du gouvernement du Québec.\" height=\"91\" id=\"pivImage\" src=\"/typo3conf/ext/gabarit_pgu/Resources/Public/Images/Templates/signature-PIV.svg\" width=\"463\"/></a>\n",
      "<img alt=\"Logo du gouvernement du Québec.\" height=\"60\" id=\"pivImagePrint\" src=\"/typo3conf/ext/gabarit_pgu/Resources/Public/Images/Templates/quebecPrint.gif\" width=\"199\"/>\n",
      "</div>\n",
      "<div class=\"col-8 d-flex justify-content-end align-items-center\">\n",
      "<a href=\"/sante/problemes-de-sante/a-z/coronavirus-2019/situation-coronavirus-quebec/#recherchePiv\" id=\"lienOuvre\" tabindex=\"10\">\n",
      "<img alt=\"Bouton pour ouvrir ou fermer la recherche.\" class=\"loupeRecherche\" height=\"35\" id=\"lienOuvreImage\" src=\"/typo3conf/ext/gabarit_pgu/Resources/Public/Images/Templates/loupe-piv-droite.svg\" width=\"35\"/>\n",
      "</a>\n",
      "<ul class=\"listePiv\">\n",
      "<li><a href=\"/en/health/health-issues/a-z/2019-coronavirus/situation-coronavirus-in-quebec/\" lang=\"en\" tabindex=\"20\"><span>English</span></a></li>\n",
      "<li>\n",
      "<!-- -->\n",
      "<!-- Thème santé -->\n",
      "<a href=\"/nous-joindre/nous-joindre/?s=38&amp;cHash=57d52f485a47856dbbe4ee739b527189\" tabindex=\"25\">Nous joindre</a>\n",
      "</li>\n",
      "</ul>\n",
      "</div>\n",
      "<div class=\"row recherchePiv\" id=\"recherchePiv\">\n",
      "<div class=\"col-12\">\n",
      "<div class=\"tx_solr\">\n",
      "<div class=\"row\">\n",
      "<div class=\"col-md-12\">\n",
      "<div class=\"tx-solr-search-form\">\n",
      "<form accept-charset=\"utf-8\" action=\"/resultats-de-recherche/?no_cache=1\" data-suggest=\"/resultats-de-recherche/?type=7384&amp;no_cache=1&amp;tx_solr%5BadditionalFilters%5D%5BshowVisibleDocs%5D=%28%2A%3A%2A%20AND%20%21visible_boolS%3A%2A%29%20OR%20%28visible_boolS%3A1%29&amp;tx_solr%5BadditionalFilters%5D%5BexcludeImage%5D=%20%20%20%20%20%20%20%20%20%20%20%20%20%20%20%20%20%20%20%20%20%28fileExtension%3Apdf%29%0A%20%20%20%20%20%20%20%20%20%20%20%20%20%20%20%20%20%20%20%20%20OR%20%28fileExtension%3Adoc%29%0A%20%20%20%20%20%20%20%20%20%20%20%20%20%20%20%20%20%20%20%20%20OR%20%28fileExtension%3Adocx%29%0A%20%20%20%20%20%20%20%20%20%20%20%20%20%20%20%20%20%20%20%20%20OR%20%28fileExtension%3Ahtml%29%0A%20%20%20%20%20%20%20%20%20%20%20%20%20%20%20%20%20%20%20%20%20OR%20%28fileExtension%3Axls%29%0A%20%20%20%20%20%20%20%20%20%20%20%20%20%20%20%20%20%20%20%20%20OR%20%28fileExtension%3Axlsx%29%0A%20%20%20%20%20%20%20%20%20%20%20%20%20%20%20%20%20%20%20%20%20OR%20%28type%3Apages%29%0A%20%20%20%20%20%20%20%20%20%20%20%20%20%20%20%20%20%20%20%20%20OR%20%28type%3Atx_news_domain_model_news%29\" data-suggest-header=\"Top Results\" id=\"tx-solr-search-form-pi-results\" method=\"get\">\n",
      "<div class=\"input-group\">\n",
      "<input name=\"L\" type=\"hidden\" value=\"0\"/>\n",
      "<input name=\"id\" type=\"hidden\" value=\"1415\"/>\n",
      "<input class=\"tx-solr-q js-solr-q tx-solr-suggest tx-solr-suggest-focus form-control\" id=\"champsRecherche\" name=\"tx_solr[q]\" tabindex=\"15\" title=\"Recherche\" type=\"text\" value=\"\"/>\n",
      "<span class=\"input-group-btn\">\n",
      "<button class=\"btn btn-default tx-solr-submit\" tabindex=\"16\" type=\"submit\">\n",
      "<span class=\"glyphicon glyphicon-search\"></span>\n",
      "<span>\n",
      "\t\t\t\t\t\t\tRecherche\n",
      "\t\t\t\t\t\t</span>\n",
      "</button>\n",
      "</span>\n",
      "</div>\n",
      "</form>\n",
      "</div>\n",
      "</div>\n",
      "<div class=\"col-md-3\"></div>\n",
      "</div>\n",
      "</div>\n",
      "</div>\n",
      "</div>\n",
      "</div>\n",
      "</div>\n",
      "</div>\n",
      "<div class=\"container-fluid rangee-1\">\n",
      "<div class=\"container\">\n",
      "<div class=\"row\">\n",
      "<ol class=\"filAriane col-12 col-md-12\"><li class=\"first\"><a href=\"/\">Accueil</a>  </li><li><a href=\"/sante/\">Santé</a>  </li><li><a href=\"/sante/problemes-de-sante/\">Problèmes de santé</a>  </li><li class=\"last\"><a href=\"/sante/problemes-de-sante/a-z/\">A à Z</a>  </li><li class=\"curitem\"><a href=\"/sante/problemes-de-sante/a-z/coronavirus-2019/\">La maladie à coronavirus (COVID-19) au Québec</a></li></ol>\n",
      "</div>\n",
      "<!--TYPO3SEARCH_begin-->\n",
      "<div class=\"row\">\n",
      "<div class=\"col-12 col-md-8\">\n",
      "<h1 class=\"d-block themeTitre\" id=\"titreNo1\">\n",
      "                                            Situation du coronavirus (COVID-19) au Québec</h1>\n",
      "</div>\n",
      "</div>\n",
      "<!--TYPO3SEARCH_end-->\n",
      "</div>\n",
      "</div>\n",
      "</div>\n",
      "<span>\n",
      "</span>\n",
      "<div class=\"\" id=\"main\">\n",
      "<div class=\"container-fluid\">\n",
      "<div class=\"container\">\n",
      "<div class=\"row\">\n",
      "<div class=\"col-12 col-md-12\">\n",
      "</div>\n",
      "</div>\n",
      "</div>\n",
      "</div>\n",
      "<div class=\"container-fluid\">\n",
      "<!--TYPO3SEARCH_begin-->\n",
      "<div class=\"container\">\n",
      "<div class=\"row\">\n",
      "<div class=\"col-12 col-md-7 espaceUneColonne\" role=\"main\">\n",
      "<div class=\"frame frame-default frame-type-html frame-layout-0\" id=\"c47991\"><style>\r\n",
      "table{\r\n",
      "  width:100%;\r\n",
      "}\r\n",
      "</style></div>\n",
      "</div>\n",
      "<div class=\"col-12 col-md-4 colonneDroitePetite\" role=\"complementary\">\n",
      "<div class=\"frame frame-default frame-type-html frame-layout-0\" id=\"c46664\"><style>\r\n",
      "  .texteEmphase { font-size: 1.3rem; font-weight: bold; }\r\n",
      "  .nouveau {\r\n",
      "    font-size: 0.875rem;\r\n",
      "    line-height: 1.25rem;\r\n",
      "    background-color: #1479cc;\r\n",
      "    padding: 0px 5px;\r\n",
      "    margin: 2px 8px 0 0;\r\n",
      "    font-weight: 600;\r\n",
      "    display: inline-block;\r\n",
      "    margin-right: 100%;\r\n",
      "    color: #fff;\r\n",
      "  }\r\n",
      "  .ce-gallery figure.image {\r\n",
      "    margin-bottom: 0;\r\n",
      "  }\r\n",
      "  @media (max-width: 402px) {\r\n",
      "    .wordBreak { word-break: break-all; }\r\n",
      "  }\r\n",
      "</style></div>\n",
      "<div class=\"frame frame-default frame-type-html frame-layout-0\" id=\"c50725\"><style>\r\n",
      "  .tableauSections h2 {\r\n",
      "    font-size: 1.5rem; \r\n",
      "    line-height: 1.8rem;\r\n",
      "  }\r\n",
      "  #main .tableauSections ul li:first-child {\r\n",
      "    margin-top: 0; \r\n",
      "  }\r\n",
      "  #main .tableauSections ul li {\r\n",
      "    line-height: 1.4rem;\r\n",
      "  }\r\n",
      "  .enDemande { \r\n",
      "    font-size: 1rem;\r\n",
      "    font-weight: bold;\r\n",
      "    margin-bottom: 0.5rem;\r\n",
      "  }\r\n",
      "  .enDemande p { margin: 0; }\r\n",
      "  .tableauCovid-19 p {\r\n",
      "    font-size: 1rem;\r\n",
      "    font-weight: bold;\r\n",
      "    margin: 0 0 0.5rem;\r\n",
      "  }\r\n",
      "  .tableauCovid-19 p:last-of-type {\r\n",
      "    font-size: 2rem;\r\n",
      "    font-weight: 600;\r\n",
      "    color: #223654; \r\n",
      "  }\r\n",
      "  \r\n",
      "  #main ul.enDemande-liste { \r\n",
      "    padding: 0;\r\n",
      "    margin: 0;\r\n",
      "    margin-bottom: 2.7rem;\r\n",
      "  }\r\n",
      "  #main .enDemande-liste li { \r\n",
      "    list-style: none; \r\n",
      "    display: inline-block;\r\n",
      "    margin: 0 0.8rem 0.8rem 0;\r\n",
      "  }\r\n",
      "  .enDemande-liste li a { \r\n",
      "    color: #095797;\r\n",
      "    background-color: #dae6f0;\r\n",
      "    border: 1px solid #dae6f0;\r\n",
      "    font-weight: 600;\r\n",
      "    text-decoration: none;\r\n",
      "    padding: 0.2rem 0.5rem;\r\n",
      "    font-size: 0.875rem;\r\n",
      "    line-height: 1.75rem;\r\n",
      "    transition: border-color 0.25s linear;\r\n",
      "    display: inline-block;\r\n",
      "  }\r\n",
      "  .enDemande-liste li a:hover { \r\n",
      "    border: 1px solid #6991d1;\r\n",
      "    transition: border-color 0.25s linear;\r\n",
      "  }\r\n",
      "  hr { border-top-color: #c5cad2; }\r\n",
      "  hr.hrBas { margin-bottom: 0.2rem; }\r\n",
      "  a.flecheDroiteRTE.petitTexte { text-decoration: none; }\r\n",
      "  a.flecheDroiteRTE.petitTexte:hover { text-decoration: underline; }\r\n",
      "  .zoneMinMarginPadding p {\r\n",
      "    margin:0;\r\n",
      "    padding:0.1rem 0 0.3rem 0;\r\n",
      "  }\r\n",
      "  .zoneMinMarginPadding hr {\r\n",
      "    margin-top:0;\r\n",
      "    padding-top:0;\r\n",
      "  }\r\n",
      "  .zoneMinMarginPadding h2 {\r\n",
      "    margin-bottom:0;\r\n",
      "    padding-bottom:0;\r\n",
      "    margin-top: 1rem;\r\n",
      "  }\r\n",
      "  \r\n",
      "  h2.ligneSousTitre.grise { border-bottom: 1px solid #c5cad2; } \r\n",
      "  \r\n",
      "  @media (max-width: 767px) {\r\n",
      "    .tableauCovid-19 p:last-child {\r\n",
      "      padding-bottom: 1rem;\r\n",
      "    }\r\n",
      "    .tableauCovid-19:last-child  p:last-child {\r\n",
      "      padding-bottom: 0;\r\n",
      "    }\r\n",
      "    #main .enDemande-liste li, .enDemande-liste li a {\r\n",
      "      display: inline-block;\r\n",
      "      margin-bottom: 0.5rem;\r\n",
      "    }\r\n",
      "    #main .enDemande-liste li {\r\n",
      "      margin: 0 0.5rem 0.5rem 0;\r\n",
      "    }\r\n",
      "    .enDemande { \r\n",
      "      margin-top: 1rem;\r\n",
      "    }\r\n",
      "    .enDemande-liste li a {\r\n",
      "      line-height: 1.2rem;\r\n",
      "      padding: 0.44rem 0.5rem;\r\n",
      "    }\r\n",
      "    #main .enDemande-liste li {\r\n",
      "      margin-bottom: 0;\r\n",
      "    }\r\n",
      "    .zoneMinMarginPadding p {\r\n",
      "      margin: 0;\r\n",
      "      padding: 0rem 0 0.2rem 0;\r\n",
      "    }\r\n",
      "  \r\n",
      "  }\r\n",
      "  \r\n",
      "  @media (max-width: 404px) {\r\n",
      "    .tableauCovid-19 {\r\n",
      "      padding-right: 0;\r\n",
      "      padding-left: 0;\r\n",
      "    }\r\n",
      "    .pleine-largeur .col-12 .col-md-4 {\r\n",
      "      padding-right: 0;\r\n",
      "      padding-left: 0;\r\n",
      "    }\r\n",
      "  }\r\n",
      "</style></div>\n",
      "</div>\n",
      "</div>\n",
      "</div>\n",
      "</div>\n",
      "<div class=\"container-fluid pleine-largeur\">\n",
      "<div class=\"container\">\n",
      "<div class=\"row\">\n",
      "<div class=\"col-12 col-md-12\">\n",
      "<div class=\"frame frame-default frame-type-menu_section frame-layout-0\" id=\"c47915\"><p>Dans cette page :</p><nav aria-describedby=\"titreNo1\"><ul><li><a href=\"/sante/problemes-de-sante/a-z/coronavirus-2019/situation-coronavirus-quebec/#c47900\"><span>Situation au Québec</span></a></li><li><a href=\"/sante/problemes-de-sante/a-z/coronavirus-2019/situation-coronavirus-quebec/#c51903\"><span>Scénarios de l’évolution de la COVID-19</span></a></li><li><a href=\"/sante/problemes-de-sante/a-z/coronavirus-2019/situation-coronavirus-quebec/#c47907\"><span>Mesures prises par décrets et arrêtés ministériels</span></a></li><li><a href=\"/sante/problemes-de-sante/a-z/coronavirus-2019/situation-coronavirus-quebec/#c47916\"><span>Des réponses à vos questions</span></a></li></ul></nav></div>\n",
      "<!-- Tous les autres frames --><div class=\"frame frame-default frame-type-textmedia frame-layout-0\" id=\"c47900\"><h2 class=\"\">\n",
      "\t\t\t\tSituation au Québec\n",
      "\t\t\t</h2><div class=\"ce-textpic ce-left ce-above\"></div></div>\n",
      "<!-- Tous les autres frames --><div class=\"frame frame-avis frame-type-textmedia frame-layout-0\" id=\"c47902\"><div class=\"ce-textpic ce-left ce-above\"><div class=\"ce-bodytext\"><p>L’Organisation mondiale de la Santé a officiellement déclaré le statut de pandémie pour la COVID-19.</p><p>Au Québec, pour le moment, la propagation du coronavirus (COVID‑19) est sous contrôle, mais les présentes semaines sont critiques. Il y a désormais de la transmission communautaire du virus dans toutes les régions du Québec.</p><p>Le gouvernement prend donc toutes les mesures nécessaires pour freiner le plus possible la contagion.</p></div></div></div>\n",
      "<!-- Tous les autres frames --><div class=\"frame frame-default frame-type-textmedia frame-layout-0\" id=\"c47903\"><div class=\"ce-textpic ce-left ce-above\"><div class=\"ce-bodytext\"><p><strong>Au Québec</strong>, à ce jour, 46 838 cas confirmés de COVID‑19, dont 3 940 personnes décédées, ont été signalés.</p><p>Données sur l'éclosion de la COVID-19 au Québec :</p><ul><li><a href=\"/sante/problemes-de-sante/a-z/coronavirus-2019/situation-coronavirus-quebec/#c50214\">Nombre de cas confirmés par région</a></li><li><a href=\"/sante/problemes-de-sante/a-z/coronavirus-2019/situation-coronavirus-quebec/#c50213\">Répartition des cas confirmés selon le groupe d’âge</a></li><li><a href=\"/sante/problemes-de-sante/a-z/coronavirus-2019/situation-coronavirus-quebec/#c50212\">Nombre de prélèvements et d’analyses réalisés, de cas négatifs et confirmés</a></li><li><a href=\"/sante/problemes-de-sante/a-z/coronavirus-2019/situation-coronavirus-quebec/#c50210\">Nombre d’hospitalisations</a></li><li><a href=\"/sante/problemes-de-sante/a-z/coronavirus-2019/situation-coronavirus-quebec/#c51880\">Nombre de décès par région</a></li><li><a href=\"/sante/problemes-de-sante/a-z/coronavirus-2019/situation-coronavirus-quebec/#c51881\">Répartition des décès selon le groupe d'âge</a></li><li><a href=\"/sante/problemes-de-sante/a-z/coronavirus-2019/situation-coronavirus-quebec/#c53630\">Situation dans les milieux de vie pour personnes aînées et vulnérables</a></li><li><a href=\"/sante/problemes-de-sante/a-z/coronavirus-2019/situation-coronavirus-quebec/#c57309\">État de la situation dans les établissements de détention</a></li></ul></div></div></div>\n",
      "<!-- Tous les autres frames --><div class=\"frame frame-default frame-type-textmedia frame-layout-0\" id=\"c50214\"><h3 class=\"\">\n",
      "\t\t\t\tNombre de cas confirmés par région\n",
      "\t\t\t</h3><div class=\"ce-textpic ce-left ce-above\"><div class=\"ce-bodytext\"><div class=\"tableauOverflow\"><table class=\"contenttable\"><thead><tr><th class=\"align-top\"><p>Régions</p></th><th><p class=\"texteCentre\">Nombre de cas confirmés, en date du 23 mai, 13 h 15</p></th></tr></thead><tfoot><tr><td colspan=\"2\"><p>Données cumulatives. Source : V10, MSSS, 22 mai 2020, 18 h</p></td></tr></tfoot><tbody><tr><td><p>01 - Bas-Saint-Laurent</p></td><td><p class=\"texteCentre\">47</p></td></tr><tr><td><p>02 - Saguenay – Lac-Saint-Jean</p></td><td><p class=\"texteCentre\">318</p></td></tr><tr><td><p>03 - Capitale-Nationale</p></td><td><p class=\"texteCentre\">1 354</p></td></tr><tr><td><p>04 - Mauricie-et-Centre-du-Québec</p></td><td><p class=\"texteCentre\">1 856</p></td></tr><tr><td><p>05 - Estrie</p></td><td><p class=\"texteCentre\">933</p></td></tr><tr><td><p>06 - Montréal</p></td><td><p class=\"texteCentre\">23 696</p></td></tr><tr><td><p>07 - Outaouais</p></td><td><p class=\"texteCentre\">479</p></td></tr><tr><td><p>08 - Abitibi-Témiscamingue</p></td><td><p class=\"texteCentre\">164</p></td></tr><tr><td><p>09 - Côte-Nord</p></td><td><p class=\"texteCentre\">114</p></td></tr><tr><td><p>10 - Nord-du-Québec</p></td><td><p class=\"texteCentre\">8</p></td></tr><tr><td><p>11 - Gaspésie-Îles-de-la-Madeleine</p></td><td><p class=\"texteCentre\">179</p></td></tr><tr><td><p>12 - Chaudière-Appalaches</p></td><td><p class=\"texteCentre\">484</p></td></tr><tr><td><p>13 - Laval</p></td><td><p class=\"texteCentre\">5 090</p></td></tr><tr><td><p>14 - Lanaudière</p></td><td><p class=\"texteCentre\">3 708</p></td></tr><tr><td><p>15 - Laurentides</p></td><td><p class=\"texteCentre\">2 589</p></td></tr><tr><td><p>16 - Montérégie</p></td><td><p class=\"texteCentre\">5 783</p></td></tr><tr><td><p>17 - Nunavik</p></td><td><p class=\"texteCentre\">16</p></td></tr><tr><td><p>18 - Terres-Cries-de-la-Baie-James</p></td><td><p class=\"texteCentre\">10</p></td></tr><tr><td><p>Hors Québec</p></td><td><p class=\"texteCentre\">3</p></td></tr><tr><td><p>Région à déterminer</p></td><td><p class=\"texteCentre\">7</p></td></tr><tr><td><p>Total</p></td><td><p class=\"texteCentre\">46 838</p></td></tr></tbody></table></div></div></div></div>\n",
      "<!-- Tous les autres frames --><div class=\"frame frame-default frame-type-textmedia frame-layout-0\" id=\"c50213\"><h3 class=\"\">\n",
      "\t\t\t\tRépartition des cas confirmés selon le groupe d’âge\n",
      "\t\t\t</h3><div class=\"ce-textpic ce-left ce-above\"><div class=\"ce-bodytext\"><div class=\"tableauOverflow\"><table class=\"contenttable\"><thead><tr><th><p>Groupe d'âge</p></th><th><p>% de cas confirmés</p></th></tr></thead><tfoot><tr><td colspan=\"2\"><p>Données cumulatives. Source : V10, MSSS (consulté le 22 mai 2020).</p></td></tr></tfoot><tbody><tr><td><p>0-9 ans</p></td><td><p>2,6</p></td></tr><tr><td><p>10-19 ans</p></td><td><p>4,1</p></td></tr><tr><td><p>20-29 ans</p></td><td>12,1</td></tr><tr><td><p>30-39 ans</p></td><td><p>12,8</p></td></tr><tr><td><p>40-49 ans</p></td><td><p>15,1</p></td></tr><tr><td><p>50-59 ans</p></td><td><p>14,8</p></td></tr><tr><td><p>60-69 ans</p></td><td><p>9,1</p></td></tr><tr><td><p>70-79 ans</p></td><td><p>8,0</p></td></tr><tr><td><p>80-89 ans</p></td><td><p>12,5</p></td></tr><tr><td><p>90 ans ou plus</p></td><td><p>8,8</p></td></tr><tr><td><p>Âge à déterminer</p></td><td><p>0,2</p></td></tr></tbody></table></div></div></div></div>\n",
      "<!-- Tous les autres frames --><div class=\"frame frame-default frame-type-textmedia frame-layout-0\" id=\"c50212\"><h3 class=\"\">\n",
      "\t\t\t\tNombre de prélèvements et d’analyses réalisés, de cas négatifs et confirmés\n",
      "\t\t\t</h3><div class=\"ce-textpic ce-left ce-above\"><div class=\"ce-bodytext\"><ul><li>Prélèvements effectués le 21 mai 2020<sup>1</sup> : 16 273</li><li>Analyses réalisées le 21 mai 2020<sup>1</sup> : 14 572</li><li>Cas négatifs<sup>2</sup> : 329 677</li><li>Cas confirmés<sup>2</sup> : 46 838</li></ul><p>1 : Les plus récentes données journalières sur les prélèvements et les analyses réalisés sont disponibles avec un délai de 48 heures.</p><p>2 : Donnée cumulative. Source : Infocentre de santé publique (LSPQ et laboratoires suprarégionaux), 22 mai 2020, 18 h.</p></div></div></div>\n",
      "<!-- Tous les autres frames --><div class=\"frame frame-default frame-type-textmedia frame-layout-0\" id=\"c50210\"><h3 class=\"\">\n",
      "\t\t\t\tNombre d’hospitalisations\n",
      "\t\t\t</h3><div class=\"ce-textpic ce-left ce-above\"><div class=\"ce-bodytext\"><ul><li>Nombre d’hospitalisations régulières : 1 285</li><li>Nombre en soins intensifs : 167</li><li>Nombre total d’hospitalisations<sup>1</sup> : 1 452</li></ul><p>1 : Donnée journalière. Source : Transmissions préliminaires de MED-ÉCHO, données déclarées par les centres hospitaliers, le 22 mai 2020 à 18 h. Les centres hospitaliers retenus sont les centres hospitaliers de soins généraux et spécialisés offrant majoritairement des soins aigus.</p></div></div></div>\n",
      "<!-- Tous les autres frames --><div class=\"frame frame-default frame-type-textmedia frame-layout-0\" id=\"c51880\"><h3 class=\"\">\n",
      "\t\t\t\tNombre de décès par région\n",
      "\t\t\t</h3><div class=\"ce-textpic ce-left ce-above\"><div class=\"ce-bodytext\"><div class=\"tableauOverflow\"><table class=\"contenttable\"><thead><tr><th class=\"align-top\"><p>Régions</p></th><th><p class=\"texteCentre\">Nombre de décès, en date du 23 mai, 13 h 15</p></th></tr></thead><tfoot><tr><td colspan=\"2\"><p>Données cumulatives. Source : V10, MSSS, 22 mai 2020, 18 h</p></td></tr></tfoot><tbody><tr><td><p>01 - Bas-Saint-Laurent</p></td><td><p class=\"texteCentre\">2</p></td></tr><tr><td><p>02 - Saguenay – Lac-Saint-Jean</p></td><td><p class=\"texteCentre\">26</p></td></tr><tr><td><p>03 - Capitale-Nationale</p></td><td><p class=\"texteCentre\">92</p></td></tr><tr><td><p>04 - Mauricie-et-Centre-du-Québec</p></td><td><p class=\"texteCentre\">170</p></td></tr><tr><td><p>05 - Estrie</p></td><td><p class=\"texteCentre\">25</p></td></tr><tr><td><p>06 - Montréal</p></td><td><p class=\"texteCentre\">2 508</p></td></tr><tr><td><p>07 - Outaouais</p></td><td><p class=\"texteCentre\">12</p></td></tr><tr><td><p>08 - Abitibi-Témiscamingue</p></td><td><p class=\"texteCentre\">3</p></td></tr><tr><td><p>09 - Côte-Nord</p></td><td><p class=\"texteCentre\">0</p></td></tr><tr><td><p>10 - Nord-du-Québec</p></td><td><p class=\"texteCentre\">0</p></td></tr><tr><td><p>11 - Gaspésie-Îles-de-la-Madeleine</p></td><td><p class=\"texteCentre\">8</p></td></tr><tr><td><p>12 - Chaudière-Appalaches</p></td><td><p class=\"texteCentre\">8</p></td></tr><tr><td><p>13 - Laval</p></td><td><p class=\"texteCentre\">484</p></td></tr><tr><td><p>14 - Lanaudière</p></td><td><p class=\"texteCentre\">164</p></td></tr><tr><td><p>15 - Laurentides</p></td><td><p class=\"texteCentre\">106</p></td></tr><tr><td><p>16 - Montérégie</p></td><td><p class=\"texteCentre\">332</p></td></tr><tr><td><p>17 - Nunavik</p></td><td><p class=\"texteCentre\">0</p></td></tr><tr><td><p>18 - Terres-Cries-de-la-Baie-James</p></td><td><p class=\"texteCentre\">0</p></td></tr><tr><td><p>Hors Québec</p></td><td><p class=\"texteCentre\">0</p></td></tr><tr><td><p>Région à déterminer</p></td><td><p class=\"texteCentre\">0</p></td></tr><tr><td><p>Total</p></td><td><p class=\"texteCentre\">3 940</p></td></tr></tbody></table></div></div></div></div>\n",
      "<!-- Tous les autres frames --><div class=\"frame frame-default frame-type-textmedia frame-layout-0\" id=\"c51881\"><h3 class=\"\">\n",
      "\t\t\t\tRépartition des décès selon le groupe d'âge\n",
      "\t\t\t</h3><div class=\"ce-textpic ce-left ce-above\"><div class=\"ce-bodytext\"><div class=\"tableauOverflow\"><table class=\"contenttable\"><thead><tr><th class=\"align-top\"><p>Groupe d'âge</p></th><th><p class=\"texteCentre\">% de décès</p></th></tr></thead><tfoot><tr><td colspan=\"2\"><p>Données cumulatives. Source : V10, MSSS, Mise à jour 22 mai 2020, 18 h</p></td></tr></tfoot><tbody><tr><td><p>Moins de 20 ans</p></td><td><p class=\"texteCentre\">0</p></td></tr><tr><td><p>20-29 ans</p></td><td><p class=\"texteCentre\">0,1</p></td></tr><tr><td><p>30-39 ans</p></td><td><p class=\"texteCentre\">0,2</p></td></tr><tr><td><p>40-49 ans</p></td><td><p class=\"texteCentre\">0,4</p></td></tr><tr><td><p>50-59 ans</p></td><td><p class=\"texteCentre\">1,8</p></td></tr><tr><td><p>60-69 ans</p></td><td><p class=\"texteCentre\">6,1</p></td></tr><tr><td><p>70-79 ans</p></td><td><p class=\"texteCentre\">18,0</p></td></tr><tr><td><p>80-89 ans</p></td><td><p class=\"texteCentre\">40,4</p></td></tr><tr><td><p>90 ans et plus</p></td><td><p class=\"texteCentre\">33,0</p></td></tr><tr><td><p>Âge à déterminer</p></td><td><p class=\"texteCentre\">0,1</p></td></tr></tbody></table></div></div></div></div>\n",
      "<!-- Tous les autres frames --><div class=\"frame frame-default frame-type-textmedia frame-layout-0\" id=\"c53630\"><h3 class=\"\">\n",
      "\t\t\t\tSituation dans les milieux de vie pour personnes aînées et vulnérables\n",
      "\t\t\t</h3><div class=\"ce-textpic ce-left ce-above\"><div class=\"ce-bodytext\"><p>Les tableaux sur la situation dans les CHSLD et sur la situation dans les résidences privées pour aînés (RPA) ont fait l’objet d’une mise à jour.</p><p><a href=\"https://cdn-contenu.quebec.ca/cdn-contenu/sante/documents/Problemes_de_sante/covid-19/etat_situation_rpa.pdf?1590167988\">État de situation des cas confirmés et des décès par RPA<span class=\"infoFichier\"> (PDF 95 Ko)</span></a></p><p><a href=\"https://cdn-contenu.quebec.ca/cdn-contenu/sante/documents/Problemes_de_sante/covid-19/etat_situation_chsld.pdf?1590167975\" target=\"_blank\">État de situation des cas confirmés et des décès par CHSLD<span class=\"infoFichier\"> (PDF 79 Ko)</span></a></p><p></p></div></div></div>\n",
      "<div class=\"frame frame-default frame-type-html frame-layout-0\" id=\"c59290\"><style>\r\n",
      "#main ul.highcharts-menu li{\r\n",
      "  margin:0;\r\n",
      "  }\r\n",
      "\r\n",
      "div[id*=\"chart\"],\r\n",
      "div[id*=\"Chart\"],\r\n",
      "table{\r\n",
      "      margin-bottom: 3rem;  \r\n",
      "}  \r\n",
      ".tableauxGraphique{\r\n",
      "  margin-top:3rem;\r\n",
      "}  \r\n",
      "@media (min-width: 1200px){\r\n",
      ".col-md-12 h2 {\r\n",
      "    padding-right: 0;\r\n",
      " }\r\n",
      "}\r\n",
      ".col-md-12 h2 {\r\n",
      "    padding-right: 0;\r\n",
      "} \r\n",
      "  \r\n",
      " table td.visuelTitre {\r\n",
      "    background-color: #223654;\r\n",
      "    color: #fff;\r\n",
      "    border-right: none;\r\n",
      "} \r\n",
      "  h2.titreTableau{\r\n",
      "    font-size: 1.1rem;\r\n",
      "    font-weight: 600;\r\n",
      "    color: #223654;\r\n",
      "        margin-top: 1rem;\r\n",
      "    line-height: 1.1;\r\n",
      "  }\r\n",
      "  .descriptionTableau{\r\n",
      "  font-size: .9rem;\r\n",
      "    line-height: 1rem;\r\n",
      "  }\r\n",
      "  p.note-tableau {\r\n",
      "    margin-top: -0.5em;\r\n",
      "    font-size: 0.85em;\r\n",
      "    margin-bottom: 1.5em;\r\n",
      "    color: #767676;\r\n",
      "}\r\n",
      "</style></div>\n",
      "<div class=\"frame frame-default frame-type-html frame-layout-0\" id=\"c59292\"><h4 class=\"titreTableau\">Répartition des décès liés à la COVID-19 au Québec selon le milieu de vie et la date de décès</h4><p class=\"note-tableau\">Le nombre de décès peut être moins élevé pour les journées les plus récentes en raison d’un retard dans la déclaration du décès ou dans la saisie de l’information. Certains décès sont absents de la figure car l’information sur la date de décès est manquante.</p><script src=\"https://code.highcharts.com/stock/highstock.js\"></script><script src=\"https://code.jquery.com/jquery-3.4.1.min.js\" type=\"text/javascript\"></script><script src=\"https://code.highcharts.com/modules/data.js\" type=\"text/javascript\"></script><script src=\"https://code.highcharts.com/modules/export-data.js\"></script><script src=\"https://code.highcharts.com/modules/exporting.js\"></script><div id=\"deces_declaration\" style=\"width:100%; height:400px;\"></div><script>\r\n",
      "  \r\n",
      "Highcharts.setOptions({\r\n",
      "  lang: {\r\n",
      "        contextButtonTitle:'Chart context menu',\r\n",
      "        downloadCSV:'Télécharger le CSV',\r\n",
      "        downloadJPEG:'Télécharger l\\'image en JPEG',\r\n",
      "        downloadPDF:'Télécharger le PDF',\r\n",
      "        downloadPNG:'Télécharger l\\'image en PNG',\r\n",
      "        downloadSVG:'Télécharger l\\'image en SVG',\r\n",
      "        downloadXLS:'Télécharger le XLS',\r\n",
      "        printChart:'Imprimer le graphique',\r\n",
      "        resetZoom:'Réinitialiser le zoom',\r\n",
      "        viewFullscreen:'Plein écran',\r\n",
      "    viewData:'Voir la table de données',\r\n",
      "    months: [\"janvier\", \"février\", \"mars\", \"avril\", \"mai\", \"juin\", \"juillet\", \"août\", \"septembre\", \"octobre\", \"novembre\", \"décembre\"],\r\n",
      "        shortMonths: [\"jan\", \"fév\", \"mar\", \"avr\", \"mai\", \"juin\", \"juil\", \"aou\", \"sep\", \"oct\", \"nov\", \"déc\"]\r\n",
      "    },\r\n",
      "  exporting: {\r\n",
      "     buttons: {\r\n",
      "            contextButton: {\r\n",
      "                menuItems: ['viewFullscreen', 'printChart', 'separator', 'downloadPNG', \"downloadJPEG\", \"downloadPDF\"]\r\n",
      "            }\r\n",
      "        }\r\n",
      "    },\r\n",
      "      plotOptions: {\r\n",
      "        series: {\r\n",
      "            label: {\r\n",
      "                enabled: false\r\n",
      "            }\r\n",
      "        }\r\n",
      "    },\r\n",
      "  credits: {\r\n",
      "        enabled: false\r\n",
      "    }\r\n",
      "  });\r\n",
      "  \r\n",
      "$(document).ready(function() {\r\n",
      "  var maintenant = new Date(); \r\n",
      "  var ms = 1000 * 60 * 5; // ms in 5 minutes.\r\n",
      "  dateArrondie = new Date( Math.floor(maintenant / ms) * ms); \r\n",
      "  injectTS = new Date(dateArrondie).getTime() / 1000;\r\n",
      "  \r\n",
      "  $.get('https://cdn-contenu.quebec.ca/cdn-contenu/sante/documents/Problemes_de_sante/covid-19/csv/decesquotidien.csv', { t: injectTS }, function(csvData) { \r\n",
      "          //Graphique 2.1 Cas Date décès\r\n",
      "        Highcharts.stockChart('deces_declaration', {\r\n",
      "            credits: {\r\n",
      "                enabled: false\r\n",
      "            },\r\n",
      "            legend: {\r\n",
      "                enabled: true\r\n",
      "            },\r\n",
      "            tooltip: {\r\n",
      "                shared: true,\r\n",
      "                split: false,\r\n",
      "\r\n",
      "                xDateFormat: '%d %B %Y',\r\n",
      "                pointFormatter: function() {\r\n",
      "                    return this.series.name + ': ' + Highcharts.numberFormat(this.y, 0) + ' décès<br/>';\r\n",
      "                },\r\n",
      "                footerFormat: '<b>Total</b>: {point.total:,.0f} décès'\r\n",
      "\r\n",
      "            },\r\n",
      "            chart: {\r\n",
      "                type: 'column',\r\n",
      "                events: {\r\n",
      "                load: function () {         \r\n",
      "                    var extremes = this.xAxis[0].getExtremes();\r\n",
      "                    var maxX = extremes.max;\r\n",
      "                    var minX = extremes.min;\r\n",
      "                    this.xAxis[0].addPlotBand({\r\n",
      "                                 color: {\r\n",
      "                                    linearGradient: { x1: 0, y1: 1, x2: 1, y2: 1 },\r\n",
      "                                    stops: [\r\n",
      "                                        [0, 'rgba(255, 255, 255, 0.0)'],\r\n",
      "                                        [1, 'rgba(200, 200, 255, 0.8)']\r\n",
      "                                    ]\r\n",
      "                                },\r\n",
      "                                from: maxX - (1000*60 * 60 * 24 * 6.5),\r\n",
      "                                to: maxX + (1000*60 * 60 * 24 * 2.5),\r\n",
      "                                zIndex: 1000\r\n",
      "                    });\r\n",
      "\r\n",
      "}\r\n",
      "        }\r\n",
      "            },\r\n",
      "            rangeSelector: {\r\n",
      "                enabled: true,\r\n",
      "                inputEnabled: false,\r\n",
      "                inputDateFormat: '%e-%m-%Y',\r\n",
      "                inputEditDateFormat: '%e-%m-%Y',\r\n",
      "                allButtonsEnabled: true,\r\n",
      "                buttons: [{\r\n",
      "                    type: 'month',\r\n",
      "                    count: 3,\r\n",
      "                    text: 'Par jour',\r\n",
      "                    dataGrouping: {\r\n",
      "                        forced: true,\r\n",
      "                        units: [\r\n",
      "                            ['day', [1]]\r\n",
      "                        ],\r\n",
      "                        dateTimeLabelFormats: {\r\n",
      "                            day: [\"%e %B %Y\"],\r\n",
      "\r\n",
      "                        }\r\n",
      "                    }\r\n",
      "                }, {\r\n",
      "                    type: 'year',\r\n",
      "                    count: 1,\r\n",
      "                    text: 'Par semaine',\r\n",
      "                    dataGrouping: {\r\n",
      "                        forced: true,\r\n",
      "                        units: [\r\n",
      "                            ['week', [1]]\r\n",
      "                        ],\r\n",
      "                        dateTimeLabelFormats: {\r\n",
      "                            week: [\"Semaine du %e %B %Y\"],\r\n",
      "\r\n",
      "                        }\r\n",
      "                    }\r\n",
      "                }],\r\n",
      "                buttonTheme: { \r\n",
      "                    width: 120,\r\n",
      "                    style: {\r\n",
      "                        color: '#1C819a',\r\n",
      "                        fontWeight: 'bold'\r\n",
      "                    },\r\n",
      "                        hover: {\r\n",
      "                        },\r\n",
      "                        select: {\r\n",
      "                            style: {\r\n",
      "                            }\r\n",
      "                        }\r\n",
      "                },\r\n",
      "\r\n",
      "            },\r\n",
      "            title: {\r\n",
      "                text: ''\r\n",
      "            },\r\n",
      "            xAxis: {\r\n",
      "                type: 'datetime',\r\n",
      "                dateTimeLabelFormats: {\r\n",
      "                    day: '%e %B',\r\n",
      "                    week: '%e %b'\r\n",
      "                },\r\n",
      "                title: {\r\n",
      "                    text: 'Date de décès'\r\n",
      "                },\r\n",
      "            },\r\n",
      "            exporting: {\r\n",
      "                buttons: {\r\n",
      "                    contextButton: {\r\n",
      "                        menuItems: ['viewFullscreen', 'printChart', 'separator', 'downloadPNG', \"downloadJPEG\", \"downloadPDF\", 'separator', \"downloadCSV\"]\r\n",
      "                    }\r\n",
      "                },\r\n",
      "                chartOptions: {\r\n",
      "                    title: {\r\n",
      "                        text: 'Répartition des décès liés à  la COVID-19 au Québec selon le milieu de vie et la date de décès'\r\n",
      "                    }\r\n",
      "                }\r\n",
      "            },\r\n",
      "            yAxis: {\r\n",
      "                opposite: false,\r\n",
      "                min: 0,\r\n",
      "                title: {\r\n",
      "                    text: 'Nombre de décès'\r\n",
      "                },\r\n",
      "                stackLabels: {\r\n",
      "                    enabled: false,\r\n",
      "                    style: {\r\n",
      "                        fontWeight: 'bold',\r\n",
      "\r\n",
      "                    }\r\n",
      "                }\r\n",
      "            },\r\n",
      "\r\n",
      "            plotOptions: {\r\n",
      "                column: {\r\n",
      "                    stacking: 'normal',\r\n",
      "                    dataLabels: {\r\n",
      "                        enabled: false\r\n",
      "                    }\r\n",
      "                },\r\n",
      "            },\r\n",
      "            series: [{\r\n",
      "                name: 'CHSLD',\r\n",
      "                //color: Highcharts.getOptions().colors[0],\r\n",
      "                color: '#002060',//#b31e3a\r\n",
      "                index: 3,\r\n",
      "                legendIndex: 0\r\n",
      "            }, {\r\n",
      "                name: 'RPA',\r\n",
      "                color: '#00b0f0',//#ef7516\r\n",
      "                index: 2,\r\n",
      "                legendIndex: 1\r\n",
      "            }, {\r\n",
      "                name: 'Domicile',\r\n",
      "                color: '#bdd7ee',//#689527\r\n",
      "                index: 1,\r\n",
      "                legendIndex: 2\r\n",
      "            }, {\r\n",
      "                name: 'RI, Autres et Inconnu',\r\n",
      "                color: '#bfbfbf',//#464646\r\n",
      "                index: 0,\r\n",
      "                legendIndex: 3\r\n",
      "            }],\r\n",
      "            data: {\r\n",
      "                csv: csvData,\r\n",
      "                startRow: 1,\r\n",
      "                itemDelimiter: ';',\r\n",
      "                firstRowAsNames: false\r\n",
      "            }\r\n",
      "        });\r\n",
      "});\r\n",
      "  });\r\n",
      "\r\n",
      "</script></div>\n",
      "<!-- Tous les autres frames --><div class=\"frame frame-default frame-type-textmedia frame-layout-0\" id=\"c59295\"><div class=\"ce-textpic ce-left ce-above\"><div class=\"ce-bodytext\"><p>Source : V10, MSSS (mise à jour du 23 mai 2020, 18 h)<br/> Note : Un total de 7 décès est absent du tableau, car l'information sur la date de décès est manquante.</p></div></div></div>\n",
      "<!-- Tous les autres frames --><div class=\"frame frame-default frame-type-textmedia frame-layout-0\" id=\"c57309\"><h3 class=\"\">\n",
      "\t\t\t\tÉtat de la situation dans les établissements de détention\n",
      "\t\t\t</h3><div class=\"ce-textpic ce-left ce-above\"></div></div>\n",
      "<div class=\"frame frame-default frame-type-shortcut frame-layout-0\" id=\"c57394\"><!-- Tous les autres frames --><div class=\"frame frame-default frame-type-textmedia frame-layout-0\" id=\"c57294\"><div class=\"ce-textpic ce-left ce-above\"><div class=\"ce-bodytext\"><div class=\"tableauOverflow\"><table class=\"contenttable\"><thead><tr><th><p>Établissement de détention</p></th><th><p>Nombre de personnes incarcérées présentes à minuit</p></th><th><p>Nombre de personnes incarcérées actuellement atteintes de la COVID-19 (cas actifs)</p></th><th><p>Nombre de personnes incarcérées ayant passé un test de dépistage</p></th><th><p>Nombre de résultats positifs</p></th></tr></thead><tbody><tr><td><p>Amos</p></td><td><p>169</p></td><td><p>0</p></td><td><p>7</p></td><td><p>0</p></td></tr><tr><td><p>Baie-Comeau</p></td><td><p>31</p></td><td><p>0</p></td><td><p>0</p></td><td><p>0</p></td></tr><tr><td><p>Hull</p></td><td><p>145</p></td><td><p>0</p></td><td><p>7</p></td><td><p>0</p></td></tr><tr><td><p>Leclerc de Laval</p></td><td><p>138</p></td><td><p>0</p></td><td><p>19</p></td><td><p>0</p></td></tr><tr><td><p>Montréal</p></td><td><p>862</p></td><td><p>51</p></td><td><p>408</p></td><td><p>93</p></td></tr><tr><td><p>New Carlisle</p></td><td><p>53</p></td><td><p>0</p></td><td><p>1</p></td><td><p>0</p></td></tr><tr><td><p>Percé</p></td><td><p>39</p></td><td><p>0</p></td><td><p>0</p></td><td><p>0</p></td></tr><tr><td><p>Québec<br/> \t\t\t(secteur féminin)</p></td><td><p>19</p></td><td><p>0</p></td><td><p>5</p></td><td><p>0</p></td></tr><tr><td><p>Québec<br/> \t\t\t(secteur masculin)</p></td><td><p>449</p></td><td><p>0</p></td><td><p>19</p></td><td><p>0</p></td></tr><tr><td><p>Rimouski</p></td><td><p>81</p></td><td><p>0</p></td><td><p>2</p></td><td><p>0</p></td></tr><tr><td><p>Rivière-des-Prairies</p></td><td><p>406</p></td><td><p>0</p></td><td><p>34</p></td><td><p>1</p></td></tr><tr><td><p>Roberval</p></td><td><p>171</p></td><td><p>0</p></td><td><p>2</p></td><td><p>0</p></td></tr><tr><td><p>Saint-Jérôme</p></td><td><p>272</p></td><td><p>0</p></td><td><p>13</p></td><td><p>0</p></td></tr><tr><td><p>Sept-Îles</p></td><td><p>36</p></td><td><p>0</p></td><td><p>0</p></td><td><p>0</p></td></tr><tr><td><p>Sherbrooke</p></td><td><p>176</p></td><td><p>0</p></td><td><p>18</p></td><td><p>1</p></td></tr><tr><td><p>Sorel-Tracy</p></td><td><p>220</p></td><td><p>0</p></td><td><p>6</p></td><td><p>1</p></td></tr><tr><td><p>Trois-Rivières</p></td><td><p>172</p></td><td><p>0</p></td><td><p>13</p></td><td><p>0</p></td></tr><tr><td><p><strong>Total</strong></p></td><td><p><strong>3 439</strong></p></td><td><p><strong>51</strong></p></td><td><p><strong>554</strong></p></td><td><p><strong>96</strong></p></td></tr></tbody><tfoot><tr><td colspan=\"5\"><p>Proportion de la population carcérale atteinte de la COVID-19 : 1,5 %.</p><p>Nombre de personnes incarcérées décédées de la COVID-19 : 1</p><p>Consulter les <a href=\"https://www.quebec.ca/sante/problemes-de-sante/a-z/coronavirus-2019/reponses-questions-coronavirus-covid19/services-juridiques-carceraux-covid-19/#c54112\" target=\"_blank\">questions et réponses concernant les personnes incarcérées et contrevenantes dans le contexte de la COVID-19 <img alt=\"Cet hyperlien s'ouvrira dans une nouvelle fenêtre.\" class=\"linkExtImg\" src=\"/typo3conf/ext/gabarit_pgu/Resources/Public/Images/Templates/lien-externe.svg\"/></a></p></td></tr></tfoot></table></div><div class=\"tableauOverflow\"><table class=\"contenttable\"><thead><tr><th><p>Établissement de détention</p></th><th><p>Nombre d'employés des Services correctionnels atteints de la COVID-19 (cas actifs)</p></th><th><p>Nombre d'employés rétablis</p></th></tr></thead><tbody><tr><td><p>Amos</p></td><td><p>0</p></td><td><p>0</p></td></tr><tr><td><p>Baie-Comeau</p></td><td><p>0</p></td><td><p>0</p></td></tr><tr><td><p>Hull</p></td><td><p>0</p></td><td><p>0</p></td></tr><tr><td><p>Leclerc de Laval</p></td><td><p>3</p></td><td><p>1</p></td></tr><tr><td><p>Montréal</p></td><td><p>12</p></td><td><p>25</p></td></tr><tr><td><p>New Carlisle</p></td><td><p>0</p></td><td><p>0</p></td></tr><tr><td><p>Percé</p></td><td><p>0</p></td><td><p>0</p></td></tr><tr><td><p>Québec<br/> \t\t\t(secteur féminin)</p></td><td><p>0</p></td><td><p>0</p></td></tr><tr><td><p>Québec<br/> \t\t\t(secteur masculin)</p></td><td><p>0</p></td><td><p>0</p></td></tr><tr><td><p>Rimouski</p></td><td><p>0</p></td><td><p>0</p></td></tr><tr><td><p>Rivière-des-Prairies</p></td><td><p>3</p></td><td><p>2</p></td></tr><tr><td><p>Roberval</p></td><td><p>0</p></td><td><p>0</p></td></tr><tr><td><p>Saint-Jérôme</p></td><td><p>0</p></td><td><p>1</p></td></tr><tr><td><p>Sept-Îles</p></td><td><p>0</p></td><td><p>0</p></td></tr><tr><td><p>Sherbrooke</p></td><td><p>0</p></td><td><p>0</p></td></tr><tr><td><p>Sorel-Tracy</p></td><td><p>0</p></td><td><p>0</p></td></tr><tr><td><p>Trois-Rivières</p></td><td><p>1</p></td><td><p>0</p></td></tr><tr><td><p><strong>Total</strong></p></td><td><p><strong>19</strong></p></td><td><p><strong>29</strong></p></td></tr></tbody><tfoot><tr><td colspan=\"3\"><p>Consulter les <a href=\"https://www.quebec.ca/sante/problemes-de-sante/a-z/coronavirus-2019/reponses-questions-coronavirus-covid19/services-juridiques-carceraux-covid-19/#c54112\" target=\"_blank\">questions et réponses concernant les personnes incarcérées et contrevenantes dans le contexte de la COVID-19 <img alt=\"Cet hyperlien s'ouvrira dans une nouvelle fenêtre.\" class=\"linkExtImg\" src=\"/typo3conf/ext/gabarit_pgu/Resources/Public/Images/Templates/lien-externe.svg\"/></a></p></td></tr></tfoot></table></div></div></div></div></div>\n",
      "<!-- Tous les autres frames --><div class=\"frame frame-default frame-type-textmedia frame-layout-0\" id=\"c50211\"><div class=\"ce-textpic ce-left ce-above\"><div class=\"ce-bodytext\"><p><strong>Au Canada</strong>, la COVID-19 représente une menace grave pour la santé et la situation évolue quotidiennement. Le risque variera à l’intérieur d’une même communauté et d’une communauté à l’autre, mais étant donné le nombre grandissant de cas au Canada, le risque que courent les Canadiens est considéré comme élevé. Les informations relatives à l’éclosion sont présentées dans la section <a href=\"https://www.canada.ca/fr/sante-publique/services/maladies/2019-nouveau-coronavirus.html#a1\" target=\"_blank\">Situation actuelle <img alt=\"Cet hyperlien s'ouvrira dans une nouvelle fenêtre.\" class=\"linkExtImg\" src=\"/typo3conf/ext/gabarit_pgu/Resources/Public/Images/Templates/lien-externe.svg\"/></a> du site du gouvernement du Canada.</p></div></div></div>\n",
      "<!-- Tous les autres frames --><div class=\"frame frame-default frame-type-textmedia frame-layout-0\" id=\"c51903\"><h2 class=\"\">\n",
      "\t\t\t\tScénarios de l’évolution de la COVID-19\n",
      "\t\t\t</h2><div class=\"ce-textpic ce-left ce-above\"><div class=\"ce-bodytext\"><p>Au moment où une reprise progressive des activités économiques, sociales et cliniques est envisagée par les autorités, les experts se sont penchés sur les impacts que celle-ci pourrait avoir sur la trajectoire de la pandémie et sur les ressources pour y faire face. Pour en savoir plus, consultez la page <a href=\"https://www.inspq.qc.ca/covid-19/donnees/projections\" target=\"_blank\">Projections des impacts d’une reprise progressive des activités économiques, sociales et cliniques <img alt=\"Cet hyperlien s'ouvrira dans une nouvelle fenêtre.\" class=\"linkExtImg\" src=\"/typo3conf/ext/gabarit_pgu/Resources/Public/Images/Templates/lien-externe.svg\"/></a> sur le site Web de l’Institut national de santé publique du Québec.</p></div></div></div>\n",
      "<!-- Tous les autres frames --><div class=\"frame frame-default frame-type-textmedia frame-layout-0\" id=\"c47907\"><h2 class=\"\">\n",
      "\t\t\t\tMesures prises par décrets et arrêtés ministériels\n",
      "\t\t\t</h2><div class=\"ce-textpic ce-left ce-above\"><div class=\"ce-bodytext\"><p>Plusieurs décrets et arrêtés ministériels ont été signés par le gouvernement en lien avec la COVID-19.</p><p>L’adoption :</p><ul><li>le 13 mars 2020, d’un <a href=\"https://cdn-contenu.quebec.ca/cdn-contenu/adm/min/sante-services-sociaux/publications-adm/lois-reglements/decret-177-2020.pdf?1584224223\" target=\"_blank\">décret déclarant l’état d’urgence sanitaire sur tout le territoire québécois<span class=\"infoFichier\"> (PDF 19,36 Ko)</span></a>;</li><li>le 20 mars 2020, du <a href=\"https://cdn-contenu.quebec.ca/cdn-contenu/adm/min/sante-services-sociaux/publications-adm/lois-reglements/decret-222-2020.pdf?1584822791\" target=\"_blank\">décret de renouvellement de l'état d'urgence sanitaire sur tout le territoire québécois<span class=\"infoFichier\"> (PDF 25 Ko)</span></a>;</li><li>le 29 mars 2020, du <a href=\"https://cdn-contenu.quebec.ca/cdn-contenu/adm/min/sante-services-sociaux/publications-adm/lois-reglements/decret-388-2020.pdf?1585512705\" target=\"_blank\">décret de renouvellement de l'état d'urgence sanitaire sur tout le territoire québécois<span class=\"infoFichier\"> (PDF 19,85 Ko)</span></a>;</li><li>le 7 avril 2020, du <a href=\"https://cdn-contenu.quebec.ca/cdn-contenu/adm/min/sante-services-sociaux/publications-adm/lois-reglements/decret-418-2020.pdf?1586293884\" target=\"_blank\">décret de renouvellement de l'état d'urgence sanitaire sur tout le territoire québécois<span class=\"infoFichier\"> (PDF 18,27 Ko)</span></a>;</li><li>le 15 avril 2020, du <a href=\"https://cdn-contenu.quebec.ca/cdn-contenu/adm/min/sante-services-sociaux/publications-adm/lois-reglements/decret-460-2020.pdf?1586988086\">décret de renouvellement de l'état d'urgence sanitaire sur tout le territoire québécois<span class=\"infoFichier\"> (PDF 26 Ko)</span></a>;</li><li>le 22 avril 2020, du <a href=\"https://cdn-contenu.quebec.ca/cdn-contenu/adm/min/sante-services-sociaux/publications-adm/lois-reglements/decret-478-2020.pdf?1587599123\">décret de renouvellement de l'état d'urgence sanitaire sur tout le territoire québécois<span class=\"infoFichier\"> (PDF 23 Ko)</span></a>;</li><li>le 29 avril 2020, du <a href=\"https://cdn-contenu.quebec.ca/cdn-contenu/adm/min/sante-services-sociaux/publications-adm/lois-reglements/decret-483-2020.pdf?1588203324\">décret de renouvellement de l'état d'urgence sanitaire sur tout le territoire québécois<span class=\"infoFichier\"> (PDF 23 Ko)</span></a> et du <a href=\"https://cdn-contenu.quebec.ca/cdn-contenu/adm/min/sante-services-sociaux/publications-adm/lois-reglements/decret-496-2020.pdf?1588275285\">décret numéro 496-2020<span class=\"infoFichier\"> (PDF 23 Ko)</span></a>;</li><li>le 1<sup>er</sup> mai 2020, du <a href=\"https://cdn-contenu.quebec.ca/cdn-contenu/adm/min/sante-services-sociaux/publications-adm/lois-reglements/decret-500-2020.pdf?1588358580\">décret numéro 500-2020<span class=\"infoFichier\"> (PDF 26 Ko)</span></a>;</li><li>le 6 mai 2020, du <a href=\"https://cdn-contenu.quebec.ca/cdn-contenu/adm/min/sante-services-sociaux/publications-adm/lois-reglements/decret-501-2020.pdf?1588805763\">décret de renouvellement de l'état d'urgence sanitaire sur tout le territoire québécois<span class=\"infoFichier\"> (PDF 24 Ko)</span></a> et du <a href=\"https://cdn-contenu.quebec.ca/cdn-contenu/adm/min/sante-services-sociaux/publications-adm/lois-reglements/decret-505-2020.pdf?1588805763\">décret numéro 505-2020<span class=\"infoFichier\"> (PDF 42 Ko)</span></a>;</li><li>le 13 mai 2020, du <a href=\"https://cdn-contenu.quebec.ca/cdn-contenu/adm/min/sante-services-sociaux/publications-adm/lois-reglements/decret-509-2020.pdf?1589413072\">décret de renouvellement de l'état d'urgence sanitaire sur tout le territoire québécois<span class=\"infoFichier\"> (PDF 24 Ko)</span></a>;</li><li>le 13 mai 2020, du <a href=\"https://cdn-contenu.quebec.ca/cdn-contenu/adm/min/sante-services-sociaux/publications-adm/lois-reglements/decret-529-2020.pdf?1589460016\">décret numéro 529-2020<span class=\"infoFichier\"> (PDF 22 Ko)</span></a>;</li><li>le 19 mai 2020, du <a href=\"https://cdn-contenu.quebec.ca/cdn-contenu/adm/min/sante-services-sociaux/publications-adm/lois-reglements/decret-530-2020.pdf?1589924842\">décret numéro 530-2020<span class=\"infoFichier\"> (PDF 24 Ko)</span></a>;</li><li>le 20 mai 2020, du <a href=\"https://cdn-contenu.quebec.ca/cdn-contenu/adm/min/sante-services-sociaux/publications-adm/lois-reglements/decret-531-2020.pdf?1590017533\">décret de renouvellement de l'état d'urgence sanitaire sur tout le territoire québécois<span class=\"infoFichier\"> (PDF 24 Ko)</span></a>, du <a href=\"https://cdn-contenu.quebec.ca/cdn-contenu/adm/min/sante-services-sociaux/publications-adm/lois-reglements/decret-539-2020.pdf?1590017533\">décret numéro 539-2020<span class=\"infoFichier\"> (PDF 29 Ko)</span></a> et du <a href=\"https://cdn-contenu.quebec.ca/cdn-contenu/adm/min/sante-services-sociaux/publications-adm/lois-reglements/decret-540-2020.pdf?1590017532\">décret numéro 540-2020<span class=\"infoFichier\"> (PDF 29 Ko)</span></a>;</li><li>le 22 mai 2020, du <a href=\"https://cdn-contenu.quebec.ca/cdn-contenu/adm/min/sante-services-sociaux/publications-adm/lois-reglements/decret-543-2020.pdf?1590166601\">décret numéro 543-2020 concernant l’ordonnance de mesures visant à protéger la santé de la population dans la situation de pandémie de la COVID-19<span class=\"infoFichier\"> (PDF 24 Ko)</span></a>.</li></ul><p>Cette mesure exceptionnelle permet par exemple à la ministre de la Santé et des Services sociaux et aux établissements de procéder sans délai à l’achat d’équipements ou de conclure les contrats nécessaires pour protéger la santé de la population :</p><ul><li><a href=\"https://cdn-contenu.quebec.ca/cdn-contenu/adm/min/sante-services-sociaux/publications-adm/lois-reglements/AM_numero_2020-003.pdf?1584373200\" target=\"_blank\">l'Arrêté numéro 2020-003 de la ministre de la Santé et des Services sociaux en date du 14 mars 2020<span class=\"infoFichier\"> (PDF 56 Ko)</span></a> (élection partielle);</li><li><a href=\"https://cdn-contenu.quebec.ca/cdn-contenu/adm/min/sante-services-sociaux/publications-adm/lois-reglements/AM_numero_2020-004.pdf?1584380124\" target=\"_blank\">l'Arrêté numéro 2020-004 de la ministre de la Santé et des Services sociaux en date du 15 mars 2020<span class=\"infoFichier\"> (PDF 168 Ko)</span></a>;</li><li><a href=\"https://cdn-contenu.quebec.ca/cdn-contenu/adm/min/sante-services-sociaux/publications-adm/lois-reglements/AM_numero_2020-005.pdf?1584488945\" target=\"_blank\">l'Arrêté numéro 2020-005 de la ministre de la Santé et des Services sociaux en date du 17 mars 2020<span class=\"infoFichier\"> (PDF 126 Ko)</span></a>;</li><li><a href=\"https://cdn-contenu.quebec.ca/cdn-contenu/adm/min/sante-services-sociaux/publications-adm/lois-reglements/AM_numero_2020-006.pdf?1584709255\" target=\"_blank\">l'Arrêté numéro 2020-006 de la ministre de la Santé et des Services sociaux en date du 19 mars 2020<span class=\"infoFichier\"> (PDF 46 Ko)</span></a>;</li><li><a href=\"https://cdn-contenu.quebec.ca/cdn-contenu/adm/min/sante-services-sociaux/publications-adm/lois-reglements/AM_numero_2020-007.pdf?1584823544\" target=\"_blank\">l'Arrêté numéro 2020-007 de la ministre de la Santé et des Services sociaux en date du 21 mars 2020<span class=\"infoFichier\"> (PDF 120 Ko)</span></a>;</li><li><a href=\"https://cdn-contenu.quebec.ca/cdn-contenu/adm/min/sante-services-sociaux/publications-adm/lois-reglements/AM_numero_2020-008.pdf?1584983804\" target=\"_blank\">l'Arrêté numéro 2020-008 de la ministre de la Santé et des Services sociaux en date du 22 mars 2020<span class=\"infoFichier\"> (PDF 141 Ko)</span></a>;</li><li><a href=\"https://cdn-contenu.quebec.ca/cdn-contenu/adm/min/sante-services-sociaux/publications-adm/lois-reglements/AM_numero_2020-009.pdf?1585060917\" target=\"_blank\">l'Arrêté numéro 2020-009 de la ministre de la Santé et des Services sociaux en date du 23 mars 2020<span class=\"infoFichier\"> (PDF 115 Ko)</span></a>;</li><li><a href=\"https://cdn-contenu.quebec.ca/cdn-contenu/adm/min/sante-services-sociaux/publications-adm/lois-reglements/AM_numero_2020-010.pdf?1585401770\" target=\"_blank\">l'Arrêté numéro 2020-010 de la ministre de la Santé et des Services sociaux en date du 27 mars 2020<span class=\"infoFichier\"> (PDF 120 Ko)</span></a>;</li><li><a href=\"https://cdn-contenu.quebec.ca/cdn-contenu/adm/min/sante-services-sociaux/publications-adm/lois-reglements/AM_numero_2020-011.pdf?1585431873\" target=\"_blank\">l'Arrêté numéro 2020-011 de la ministre de la Santé et des Services sociaux en date du 28 mars 2020<span class=\"infoFichier\"> (PDF 117 Ko)</span></a>;</li><li><a href=\"https://cdn-contenu.quebec.ca/cdn-contenu/adm/min/sante-services-sociaux/publications-adm/lois-reglements/AM_numero_2020-012.pdf?1585617584\" target=\"_blank\">l'Arrêté numéro 2020-012 de la ministre de la Santé et des Services sociaux en date du 30 mars 2020<span class=\"infoFichier\"> (PDF 111 Ko)</span></a>;</li><li><a href=\"https://cdn-contenu.quebec.ca/cdn-contenu/adm/min/sante-services-sociaux/publications-adm/lois-reglements/AM_numero_2020-013.pdf?1585747101\" target=\"_blank\">l'Arrêté numéro 2020-013 de la ministre de la Santé et des Services sociaux en date du 1<sup>er</sup> avril 2020<span class=\"infoFichier\"> (PDF 125 Ko)</span></a>;</li><li><a href=\"https://cdn-contenu.quebec.ca/cdn-contenu/adm/min/sante-services-sociaux/publications-adm/lois-reglements/AM_numero_2020-014.pdf?1585915528\" target=\"_blank\">l'Arrêté numéro 2020-014 de la ministre de la Santé et des Services sociaux en date du 2 avril 2020<span class=\"infoFichier\"> (PDF 115 Ko)</span></a>;</li><li><a href=\"https://cdn-contenu.quebec.ca/cdn-contenu/adm/min/sante-services-sociaux/publications-adm/lois-reglements/AM_numero_2020-015.pdf?1586042112\" target=\"_blank\">l'Arrêté numéro 2020-015 de la ministre de la Santé et des Services sociaux en date du 4 avril 2020<span class=\"infoFichier\"> (PDF 131 Ko)</span></a>;</li><li><a href=\"https://cdn-contenu.quebec.ca/cdn-contenu/adm/min/sante-services-sociaux/publications-adm/lois-reglements/AM_numero2020-016.pdf?1586301572\" target=\"_blank\">l'Arrêté numéro 2020-016 de la ministre de la Santé et des Services sociaux en date du 7 avril 2020<span class=\"infoFichier\"> (PDF 115 Ko)</span></a>;</li><li><a href=\"https://cdn-contenu.quebec.ca/cdn-contenu/adm/min/sante-services-sociaux/publications-adm/lois-reglements/AM_numero_2020-017.pdf?1586435993\" target=\"_blank\">l'Arrêté numéro 2020-017 de la ministre de la Santé et des Services sociaux en date du 8 avril 2020<span class=\"infoFichier\"> (PDF 116 Ko)</span></a>;</li><li><a href=\"https://cdn-contenu.quebec.ca/cdn-contenu/adm/min/sante-services-sociaux/publications-adm/lois-reglements/AM_2020-018.pdf?1586521101\" target=\"_blank\">l'Arrêté numéro 2020-018 de la ministre de la Santé et des Services sociaux en date du 9 avril 2020<span class=\"infoFichier\"> (PDF 116 Ko)</span></a>;</li><li><a href=\"https://cdn-contenu.quebec.ca/cdn-contenu/adm/min/sante-services-sociaux/publications-adm/lois-reglements/AM_2020-019.pdf?1586606750\" target=\"_blank\">l'Arrêté numéro 2020-019 de la ministre de la Santé et des Services sociaux en date du 10 avril 2020<span class=\"infoFichier\"> (PDF 113 Ko)</span></a>;</li><li><a href=\"https://cdn-contenu.quebec.ca/cdn-contenu/adm/min/sante-services-sociaux/publications-adm/lois-reglements/AM_2020-020.pdf?1586613278\" target=\"_blank\">l'Arrêté numéro 2020-020 de la ministre de la Santé et des Services sociaux en date du 10 avril 2020<span class=\"infoFichier\"> (PDF 110 Ko)</span></a>;</li><li><a href=\"https://cdn-contenu.quebec.ca/cdn-contenu/adm/min/sante-services-sociaux/publications-adm/lois-reglements/AM_numero_2020-021.pdf?1586952805\" target=\"_blank\">l'Arrêté numéro 2020-021 de la ministre de la Santé et des Services sociaux en date du 14 avril 2020<span class=\"infoFichier\"> (PDF 117 Ko)</span></a>;</li><li><a href=\"https://cdn-contenu.quebec.ca/cdn-contenu/adm/min/sante-services-sociaux/publications-adm/lois-reglements/AM_numero_2020-022.pdf?1587039154\" target=\"_blank\">l'Arrêté numéro 2020-022 de la ministre de la Santé et des Services sociaux en date du 15 avril 2020<span class=\"infoFichier\"> (PDF 120 Ko)</span></a>;</li><li><a href=\"https://cdn-contenu.quebec.ca/cdn-contenu/adm/min/sante-services-sociaux/publications-adm/lois-reglements/AM_numero_2020-023.pdf?1587168754\" target=\"_blank\">l'Arrêté numéro 2020-023 de la ministre de la Santé et des Services sociaux en date du 17 avril 2020<span class=\"infoFichier\"> (PDF 112 Ko)</span></a>;</li><li><a href=\"https://cdn-contenu.quebec.ca/cdn-contenu/adm/min/sante-services-sociaux/publications-adm/lois-reglements/AM_2020-025.pdf?1587337341\" target=\"_blank\">l'Arrêté numéro 2020-025 de la ministre de la Santé et des Services sociaux en date du 19 avril 2020<span class=\"infoFichier\"> (PDF 114 Ko)</span></a>;</li><li><a href=\"https://cdn-contenu.quebec.ca/cdn-contenu/adm/min/sante-services-sociaux/publications-adm/lois-reglements/AM_numero_2020-026.pdf?1587471025\" target=\"_blank\">l'Arrêté numéro 2020-026 de la ministre de la Santé et des Services sociaux en date du 20 avril 2020<span class=\"infoFichier\"> (PDF 114 Ko)</span></a>;</li><li><a href=\"https://cdn-contenu.quebec.ca/cdn-contenu/adm/min/sante-services-sociaux/publications-adm/lois-reglements/AM_numero_2020-027.pdf?1587644265\" target=\"_blank\">l'Arrêté numéro 2020-027 de la ministre de la Santé et des Services sociaux en date du 22 avril 2020<span class=\"infoFichier\"> (PDF 116 Ko)</span></a>;</li><li><a href=\"https://cdn-contenu.quebec.ca/cdn-contenu/adm/min/sante-services-sociaux/publications-adm/lois-reglements/AM_2020-028.pdf?1587902806\" target=\"_blank\">l'Arrêté numéro 2020-028 de la ministre de la Santé et des Services sociaux en date du 25 avril 2020<span class=\"infoFichier\"> (PDF 113 Ko)</span></a>;</li><li><a href=\"https://cdn-contenu.quebec.ca/cdn-contenu/adm/min/sante-services-sociaux/publications-adm/lois-reglements/AM_numero_2020-029.pdf?1588008772\" target=\"_blank\">l'Arrêté numéro 2020-029 de la ministre de la Santé et des Services sociaux en date du 26 avril 2020<span class=\"infoFichier\"> (PDF 115 Ko)</span></a>;</li><li><a href=\"https://cdn-contenu.quebec.ca/cdn-contenu/adm/min/sante-services-sociaux/publications-adm/lois-reglements/AM_numero_2020-030.pdf?1588249735\" target=\"_blank\">l'Arrêté numéro 2020-030 de la ministre de la Santé et des Services sociaux en date du 29 avril 2020<span class=\"infoFichier\"> (PDF 114 Ko)</span></a>;</li><li><a href=\"https://cdn-contenu.quebec.ca/cdn-contenu/adm/min/sante-services-sociaux/publications-adm/lois-reglements/AM_numero_2020-031.pdf?1588594521\" target=\"_blank\">l'Arrêté numéro 2020-031 de la ministre de la Santé et des Services sociaux en date du 3 mai 2020<span class=\"infoFichier\"> (PDF 115 Ko)</span></a>;</li><li><a href=\"https://cdn-contenu.quebec.ca/cdn-contenu/adm/min/sante-services-sociaux/publications-adm/lois-reglements/AM_numero_2020-032.pdf?1588767838\" target=\"_blank\">l'Arrêté numéro 2020-032 de la ministre de la Santé et des Services sociaux en date du 5 mai 2020<span class=\"infoFichier\"> (PDF 117 Ko)</span></a>;</li><li><a href=\"https://cdn-contenu.quebec.ca/cdn-contenu/adm/min/sante-services-sociaux/publications-adm/lois-reglements/AM_numero_2020-033.pdf?1588866336\" target=\"_blank\">l'Arrêté numéro 2020-033 de la ministre de la Santé et des Services sociaux en date du 7 mai 2020<span class=\"infoFichier\"> (PDF 118 Ko)</span></a>;</li><li><a href=\"https://cdn-contenu.quebec.ca/cdn-contenu/adm/min/sante-services-sociaux/publications-adm/lois-reglements/AM_numero_2020-034.pdf?1589125930\" target=\"_blank\">l'Arrêté numéro 2020-034 de la ministre de la Santé et des Services sociaux en date du 9 mai 2020<span class=\"infoFichier\"> (PDF 98 Ko)</span></a>;</li><li><a href=\"https://cdn-contenu.quebec.ca/cdn-contenu/adm/min/sante-services-sociaux/publications-adm/lois-reglements/AM_numero_2020-035.pdf?1589232237\" target=\"_blank\">l'Arrêté numéro 2020-035 de la ministre de la Santé et des Services sociaux en date du 10 mai 2020<span class=\"infoFichier\"> (PDF 124 Ko)</span></a>;</li><li><a href=\"https://cdn-contenu.quebec.ca/cdn-contenu/adm/min/sante-services-sociaux/publications-adm/lois-reglements/AM_numero_2020-037.pdf?1589556167\" target=\"_blank\">l'Arrêté numéro 2020-037 de la ministre de la Santé et des Services sociaux en date du 14 mai 2020<span class=\"infoFichier\"> (PDF 114 Ko)</span></a>;</li><li><a href=\"https://cdn-contenu.quebec.ca/cdn-contenu/adm/min/sante-services-sociaux/publications-adm/lois-reglements/AM_2020-038.pdf?1589646712\">l'Arrêté numéro 2020-038 de la ministre de la Santé et des Services sociaux en date du 15 mai 2020<span class=\"infoFichier\"> (PDF 147 Ko)</span></a>;</li><li><a href=\"https://cdn-contenu.quebec.ca/cdn-contenu/adm/min/sante-services-sociaux/publications-adm/lois-reglements/AM_2020-039.pdf?1590257990\">l'Arrêté numéro 2020-039 de la ministre de la Santé et des Services sociaux en date du 22 mai 2020<span class=\"infoFichier\"> (PDF 113 Ko)</span></a>.</li></ul><p>La <a href=\"/sante/problemes-de-sante/a-z/coronavirus-2019/fermeture-endroits-publics-commerces-services-covid19/\">réduction au minimum des services et activités non prioritaires</a> par l’adoption du <a href=\"https://cdn-contenu.quebec.ca/cdn-contenu/adm/min/sante-services-sociaux/publications-adm/lois-reglements/Decret-223-2020.pdf?1585098631\" target=\"_blank\">décret 223-2020 déclarant la suspension de toute activité effectuée en milieu de travail jugée non prioritaire<span class=\"infoFichier\"> (PDF 36 Ko)</span></a>.</p></div></div></div>\n",
      "<!-- Tous les autres frames --><div class=\"frame frame-default frame-type-textmedia frame-layout-0\" id=\"c47916\"><h2 class=\"\">\n",
      "\t\t\t\tDes réponses à vos questions\n",
      "\t\t\t</h2><div class=\"ce-textpic ce-left ce-above\"></div></div>\n",
      "<!-- Tous les autres frames --><div class=\"frame frame-avis frame-type-textmedia frame-layout-0\" id=\"c47918\"><div class=\"ce-textpic ce-left ce-above\"><div class=\"ce-bodytext\"><p class=\"texteEmphase\">Vous avez d'autres questions?</p><p class=\"texteEmphase\">Consultez les <a href=\"/sante/problemes-de-sante/a-z/coronavirus-2019/reponses-questions-coronavirus-covid19/\">réponses aux questions les plus souvent posées</a>.</p></div></div></div>\n",
      "</div>\n",
      "</div>\n",
      "</div>\n",
      "<!--TYPO3SEARCH_end-->\n",
      "</div>\n",
      "<div class=\"container-fluid\">\n",
      "<div class=\"container\">\n",
      "<div class=\"row\">\n",
      "<div class=\"col-12 col-md-12\">\n",
      "<p class=\"dateMiseAJour\">\r\n",
      "\t\t\t\t\tDernière mise à jour : \r\n",
      "\t\t\t\t\t\r\n",
      "\t\t\t\t\t\t\t\r\n",
      "\t\t\t\t\t\t\t\t\t23 mai 2020\r\n",
      "\t\t\t\t\t\t\t\t\r\n",
      "\t\t\t\t\t\t\r\n",
      "\t\t\t\t</p>\n",
      "</div>\n",
      "</div>\n",
      "</div>\n",
      "<div class=\"container\">\n",
      "<div class=\"row\">\n",
      "<div class=\"col-12 col-md-12 avisBasPage\">\n",
      "<!-- Tous les autres frames --><div class=\"frame frame-default frame-type-textmedia frame-layout-0\" id=\"c118\"><h2 class=\"\">\n",
      "\t\t\t\tAvis\n",
      "\t\t\t</h2><div class=\"ce-textpic ce-center ce-above\"><div class=\"ce-bodytext\"><p>L’information contenue sur le site ne remplace en aucun cas l’avis d’une ressource professionnelle de la santé. Si vous avez des questions concernant votre état de santé, consultez une ressource professionnelle.</p></div></div></div>\n",
      "</div>\n",
      "</div>\n",
      "</div>\n",
      "<div class=\"container\">\n",
      "<div class=\"row\">\n",
      "<div class=\"col-12 formBasPage\" id=\"formBasPageCommentaire\">\n",
      "<div class=\"frame frame-default frame-type-list frame-layout-0\" id=\"c34503\"><h2 class=\"\">\n",
      "\t\t\t\tÉvaluation de page\n",
      "\t\t\t</h2><div class=\"tx-powermail\"><div class=\"container-fluid\"><form action=\"/sante/problemes-de-sante/a-z/coronavirus-2019/situation-coronavirus-quebec/?tx_powermail_pi1%5Baction%5D=create&amp;tx_powermail_pi1%5Bcontroller%5D=Form&amp;cHash=71bc707644eaf152485e0824f3aca092#c34503\" class=\"powermail_form powermail_form_3 nolabel form-horizontal recaptchaJsMessage\" data-parsley-validate=\"data-parsley-validate\" enctype=\"multipart/form-data\" id=\"powermailform3\" method=\"post\" name=\"field\"><div><input name=\"tx_powermail_pi1[__referrer][@extension]\" type=\"hidden\" value=\"Powermail\"/><input name=\"tx_powermail_pi1[__referrer][@vendor]\" type=\"hidden\" value=\"In2code\"/><input name=\"tx_powermail_pi1[__referrer][@controller]\" type=\"hidden\" value=\"Form\"/><input name=\"tx_powermail_pi1[__referrer][@action]\" type=\"hidden\" value=\"form\"/><input name=\"tx_powermail_pi1[__referrer][arguments]\" type=\"hidden\" value=\"YTowOnt9accde9f1bd6e0272723e735dee9ab05094eba92f\"/><input name=\"tx_powermail_pi1[__referrer][@request]\" type=\"hidden\" value='a:4:{s:10:\"@extension\";s:9:\"Powermail\";s:11:\"@controller\";s:4:\"Form\";s:7:\"@action\";s:4:\"form\";s:7:\"@vendor\";s:7:\"In2code\";}9936b518c47e6d7ed0ce9e6e3e6f932c6796fcd0'/><input name=\"tx_powermail_pi1[__trustedProperties]\" type=\"hidden\" value='a:2:{s:5:\"field\";a:3:{s:9:\"pageutile\";i:1;s:11:\"commentpage\";i:1;s:4:\"__hp\";i:1;}s:4:\"mail\";a:1:{s:4:\"form\";i:1;}}f09059e82390f7427943560b47024e0ca14fe218'/></div><div class=\"powermail_fieldset powermail_fieldset_4 commentaireBasPage\"><div class=\"row\"><div class=\"col-12 col-lg-8\"><div class=\"powermail_fieldwrap powermail_fieldwrap_type_radio powermail_fieldwrap_pageutile form-group col-md-12\"><fieldset><legend class=\"control-label\">\n",
      "                L’information sur cette page vous a-t-elle été utile? \n",
      "            </legend><div class=\"flex-radio\"><div class=\"flex-row radio\"><input aria-required=\"true\" class=\"powermail_radio\" data-parsley-class-handler=\".powermail_fieldwrap_pageutile div:first &gt; div\" data-parsley-errors-container=\".powermail_field_error_container_pageutile\" data-parsley-required=\"true\" data-parsley-required-message=\"Vous devez entrer une valeur pour ce champ obligatoire.\" id=\"powermail_field_pageutile_1\" name=\"tx_powermail_pi1[field][pageutile]\" type=\"radio\" value=\"1\"/><label for=\"powermail_field_pageutile_1\">Oui</label></div><div class=\"flex-row radio\"><input class=\"powermail_radio\" id=\"powermail_field_pageutile_2\" name=\"tx_powermail_pi1[field][pageutile]\" type=\"radio\" value=\"0\"/><label for=\"powermail_field_pageutile_2\">Non</label></div><div class=\"powermail_field_error_container powermail_field_error_container_pageutile\"></div></div></fieldset></div><div class=\"powermail_fieldwrap powermail_fieldwrap_type_textarea powermail_fieldwrap_commentpage form-group col-md-12\"><label class=\"control-label\" for=\"powermail_field_commentpage\" title=\"\">\n",
      "                                Avez-vous un commentaire à nous transmettre ou un problème à signaler ?  \n",
      "\n",
      "                        \n",
      "                \n",
      "                    \n",
      "                            \n",
      "                                <span class=\"complementLabel\" id=\"commentpage_complement\">\n",
      "                            \n",
      "                                 Évitez d’inscrire des renseignements  personnels. Notez que vous ne recevrez aucune réponse.\n",
      "                            \n",
      "                                </span></label><div class=\"\"><textarea class=\"powermail_textarea form-control\" cols=\"20\" data-parsley-error-message=\"La valeur entrée est trop courte ou trop longue.\" data-parsley-length=\"[3, 500]\" id=\"powermail_field_commentpage\" name=\"tx_powermail_pi1[field][commentpage]\" rows=\"5\"></textarea></div></div><div class=\"powermail_fieldwrap powermail_fieldwrap_type_typoscript powermail_fieldwrap_zoneinformationjs form-group col-md-12\"><div class=\"col-sm-offset-2\"><div aria-hidden=\"true\" class=\"infoSupplJs\" id=\"infoMaxCaracteres\">Maximum 500 caractères</div></div></div><script>\n",
      "   function onScriptLoad() {\n",
      "        var htmlEl = document.querySelector('.g-recaptcha');\n",
      "\n",
      "        var captchaOptions = {\n",
      "            sitekey: '6LfBkFUUAAAAAL3jTg74taA_tdgFdXHojMYIOcey',\n",
      "            size: 'invisible',\n",
      "            callback: function (token) {\n",
      "                $('.powermail_form').submit();\n",
      "            }\n",
      "        };\n",
      "\n",
      "        recaptchaId = window.grecaptcha.render(htmlEl, captchaOptions, false);\n",
      "\n",
      "        $('.powermail_submit').click(function(e){\n",
      "            e.preventDefault();\n",
      "\n",
      "            if(grecaptcha.getResponse() != ''){\n",
      "                grecaptcha.reset();\n",
      "            }\n",
      "            grecaptcha.execute();\n",
      "        });\n",
      "    }\n",
      "    var submitAmount = 0;\n",
      "</script><noscript><div class=\"jsDesactivePowermail\"><div class=\"alert alert-info\">\n",
      "            Veuillez activer javascript pour remplir la demande.\n",
      "        </div><style>\n",
      "            .recaptchaJsMessage div[class*=\"powermail_fieldwrap_type_\"],\n",
      "            .formBasPage .recaptchaJsMessage .form-group:first-child,\n",
      "            #main .formBasPage .recaptchaJsMessage .form-group:first-child.powermail_fieldwrap_servicesquebecform {\n",
      "                display:none;\n",
      "            }\n",
      "        </style></div></noscript><script async=\"\" defer=\"\" src=\"https://www.google.com/recaptcha/api.js?render=explicit&amp;onload=onScriptLoad&amp;hl=fr\"></script><div class=\"powermail_fieldwrap powermail_fieldwrap_type_submit powermail_fieldwrap_recaptcha form-group col-md-12\"><div class=\"col-sm-offset-2\"><button class=\"powermail_submit btn btn-primary g-recaptcha\" onmousedown=\"submitAmount++;var field=this;if(submitAmount&gt;1)field.disabled=true;setTimeout(function enable(){submitAmount=0;field.disabled=false;}, 6000);\">Soumettre</button></div></div></div><div class=\"col-12 col-lg-4 flex-wrap flex-lg-wrap-reverse\"><div class=\"powermail_fieldwrap powermail_fieldwrap_type_content powermail_fieldwrap_servicesquebecform form-group col-md-12\"><div class=\"col-sm-offset-2\"><!-- Tous les autres frames --><div class=\"frame frame-avisInterr frame-type-textmedia frame-layout-0\" id=\"c34335\"><div class=\"ce-textpic ce-left ce-above\"><div class=\"ce-bodytext\"><h3>Des questions ou besoin de renseignements?</h3><p><a href=\"/nous-joindre/\">Communiquez avec Services Québec</a></p></div></div></div></div></div><div class=\"powermail_fieldwrap powermail_fieldwrap_type_content powermail_fieldwrap_aider_nous form-group col-md-12\"><div class=\"col-sm-offset-2\"><!-- Tous les autres frames --><div class=\"frame frame-default frame-type-textmedia frame-layout-0\" id=\"c34336\"><div class=\"ce-textpic ce-left ce-above\"><div class=\"ce-bodytext\"><p>Aidez-nous à améliorer Québec.ca</p></div></div></div></div></div></div></div></div><input class=\"powermail_form_uid\" name=\"tx_powermail_pi1[mail][form]\" type=\"hidden\" value=\"3\"/><div class=\"hpCache\"><label for=\"powermail_hp_3\">\n",
      "            Ne pas remplir ce champ!\n",
      "        </label><input autocomplete=\"off\" id=\"powermail_hp_3\" name=\"tx_powermail_pi1[field][__hp]\" type=\"text\" value=\"\"/></div></form></div></div></div>\n",
      "</div>\n",
      "</div>\n",
      "</div>\n",
      "</div>\n",
      "</div>\n",
      "<!-- Fat footer -->\n",
      "<div class=\"container-fluid rangee-footer\">\n",
      "<div class=\"container\">\n",
      "<div class=\"row\">\n",
      "<div class=\"col-12\">\n",
      "<a href=\"/\"><img alt=\"Signature de Québec.ca\" class=\"signatureFooter\" height=\"25\" src=\"/typo3conf/ext/gabarit_pgu/Resources/Public/Images/Templates/signature-footer.svg\" width=\"138\"/></a>\n",
      "<h2 class=\"visuallyHidden\">Navigation de pied de page de Québec.ca</h2>\n",
      "</div>\n",
      "</div>\n",
      "<div class=\"row\">\n",
      "<div class=\"col-12 col-lg-4\">\n",
      "<nav aria-labelledby=\"titrePiedDePage1\">\n",
      "<h3 class=\"ligneGriseTexte\" id=\"titrePiedDePage1\"><a href=\"/informations-et-services/\">Informations et services</a></h3>\n",
      "<ul><li><a class=\"themeFooter\" href=\"/culture/\">Culture</a></li><li><a class=\"themeFooter\" href=\"/education/\">Éducation</a></li><li><a class=\"themeFooter\" href=\"/emploi/\">Emploi</a></li><li><a class=\"themeFooter\" href=\"/entreprises-et-travailleurs-autonomes/\">Entreprises et travailleurs autonomes</a></li><li><a class=\"themeFooter\" href=\"/environnement-et-ressources-naturelles/\">Environnement et ressources naturelles</a></li><li><a class=\"themeFooter\" href=\"/famille-et-soutien-aux-personnes/\">Famille et soutien aux personnes</a></li><li><a class=\"themeFooter\" href=\"/finances-impots-et-taxes/\">Finances, impôts et taxes</a></li><li><a class=\"themeFooter\" href=\"/habitation-et-logement/\">Habitation et logement</a></li><li><a class=\"themeFooter\" href=\"/immigration/\">Immigration</a></li><li><a class=\"themeFooter\" href=\"/justice-et-etat-civil/\">Justice et état civil</a></li><li><a class=\"themeFooter\" href=\"/sante/\">Santé</a></li><li><a class=\"themeFooter\" href=\"/securite-situations-urgence/\">Sécurité et situations d'urgence</a></li><li><a class=\"themeFooter\" href=\"/tourisme-et-loisirs/\">Tourisme et loisirs</a></li><li><a class=\"themeFooter\" href=\"/transports/\">Transports</a></li></ul>\n",
      "</nav>\n",
      "</div>\n",
      "<div class=\"col-12 col-lg-4\">\n",
      "<nav aria-labelledby=\"titrePiedDePage2\">\n",
      "<h3 class=\"ligneGriseTexte\" id=\"titrePiedDePage2\"><a href=\"/gouv/\">Gouvernement</a></h3>\n",
      "<ul><li><a href=\"/gouvernement/ministeres-et-organismes/\">Ministères et organismes</a></li><li><a href=\"/gouvernement/services-quebec/\">Services Québec</a></li><li><a href=\"/gouvernement/transparence/\">Transparence</a></li><li><a href=\"/gouvernement/carriere/\" target=\"_blank\">Carrière <img alt=\"Cet hyperlien s'ouvrira dans une nouvelle fenêtre.\" class=\"linkExtImg\" src=\"/typo3conf/ext/gabarit_pgu/Resources/Public/Images/Templates/lien-externe-blanc.svg\"/></a></li><li><a href=\"/gouvernement/donnees-ouvertes/\" target=\"_blank\">Données ouvertes <img alt=\"Cet hyperlien s'ouvrira dans une nouvelle fenêtre.\" class=\"linkExtImg\" src=\"/typo3conf/ext/gabarit_pgu/Resources/Public/Images/Templates/lien-externe-blanc.svg\"/></a></li><li><a href=\"/gouvernement/fil-dinformation/\" target=\"_blank\">Fil d’information <img alt=\"Cet hyperlien s'ouvrira dans une nouvelle fenêtre.\" class=\"linkExtImg\" src=\"/typo3conf/ext/gabarit_pgu/Resources/Public/Images/Templates/lien-externe-blanc.svg\"/></a></li><li><a href=\"/gouvernement/gazette-officielle/\" target=\"_blank\">Gazette officielle <img alt=\"Cet hyperlien s'ouvrira dans une nouvelle fenêtre.\" class=\"linkExtImg\" src=\"/typo3conf/ext/gabarit_pgu/Resources/Public/Images/Templates/lien-externe-blanc.svg\"/></a></li><li><a href=\"/gouvernement/lois-et-reglements/\" target=\"_blank\">Lois et règlements <img alt=\"Cet hyperlien s'ouvrira dans une nouvelle fenêtre.\" class=\"linkExtImg\" src=\"/typo3conf/ext/gabarit_pgu/Resources/Public/Images/Templates/lien-externe-blanc.svg\"/></a></li><li><a href=\"/gouvernement/publications/\" target=\"_blank\">Publications <img alt=\"Cet hyperlien s'ouvrira dans une nouvelle fenêtre.\" class=\"linkExtImg\" src=\"/typo3conf/ext/gabarit_pgu/Resources/Public/Images/Templates/lien-externe-blanc.svg\"/></a></li></ul>\n",
      "</nav>\n",
      "</div>\n",
      "<div class=\"col-12 col-lg-4\">\n",
      "<nav aria-labelledby=\"titrePiedDePage3\">\n",
      "<!-- Thème  -->\n",
      "<!-- -->\n",
      "<!-- -->\n",
      "<!-- thème  -->\n",
      "<h3 class=\"ligneGriseTexte\" id=\"titrePiedDePage3\">\n",
      "<a href=\"/nous-joindre/nous-joindre/?s=38&amp;cHash=57d52f485a47856dbbe4ee739b527189\">\n",
      "                                                                        Nous joindre\n",
      "                                                                    </a>\n",
      "</h3>\n",
      "<ul>\n",
      "<li>\n",
      "<!-- Code pour S=38 -->\n",
      "<a href=\"/nous-joindre/nous-joindre/?s=38&amp;cHash=57d52f485a47856dbbe4ee739b527189\">\n",
      "                                                                            Téléphone\n",
      "                                                                        </a>\n",
      "</li>\n",
      "<li><a href=\"/bureaux-de-services/\" target=\"_blank\">Bureaux de services <img alt=\"Cet hyperlien s'ouvrira dans une nouvelle fenêtre.\" class=\"linkExtImg\" src=\"/typo3conf/ext/gabarit_pgu/Resources/Public/Images/Templates/lien-externe-blanc.svg\"/></a></li>\n",
      "<li>\n",
      "<a href=\"/nous-joindre/courriel/?s=38&amp;cHash=a4e4fb5619e20d5b13b8733340441acc\">Courriel  </a>\n",
      "</li>\n",
      "<li>\n",
      "<a href=\"mailto:info@quebec.ca?subject=Problèmes%20techniques%20reliés%20à%20la%20plateforme\">\n",
      "                                        Problèmes techniques\n",
      "                                    </a>\n",
      "</li>\n",
      "</ul>\n",
      "</nav>\n",
      "<nav aria-labelledby=\"titrePiedDePage4\">\n",
      "<h3 id=\"titrePiedDePage4\">Suivez-nous</h3>\n",
      "<div class=\"row\">\n",
      "<ul class=\"col-12 d-flex iconesHorizontal\">\n",
      "<li>\n",
      "<a href=\"https://www.facebook.com/GouvQc/\" target=\"_blank\">\n",
      "<img alt=\"Facebook pictogramme\" class=\"icon\" height=\"97\" src=\"/typo3conf/ext/gabarit_pgu/Resources/Public/Images/Templates/Facebook.svg\" width=\"97\"/>\n",
      "</a>\n",
      "</li>\n",
      "<li>\n",
      "<a href=\"https://twitter.com/gouvqc\" target=\"_blank\">\n",
      "<img alt=\"Twitter pictogramme\" class=\"icon\" height=\"97\" src=\"/typo3conf/ext/gabarit_pgu/Resources/Public/Images/Templates/Twitter.svg\" width=\"97\"/>\n",
      "</a>\n",
      "</li>\n",
      "<li>\n",
      "<a href=\"https://www.youtube.com/channel/UCgi4UW4SNeYNl4n-AEvgKoQ/featured\" target=\"_blank\">\n",
      "<img alt=\"YouTube pictogramme\" class=\"icon\" height=\"68\" src=\"/typo3conf/ext/gabarit_pgu/Resources/Public/Images/Templates/Youtube.svg\" width=\"97\"/>\n",
      "</a>\n",
      "</li>\n",
      "</ul>\n",
      "</div>\n",
      "</nav>\n",
      "</div>\n",
      "</div>\n",
      "</div>\n",
      "</div>\n",
      "<!-- footer -->\n",
      "<div class=\"container-fluid piv_bas\" role=\"contentinfo\">\n",
      "<div class=\"container\">\n",
      "<div class=\"row\">\n",
      "<div class=\"col-12 d-flex\">\n",
      "<ul class=\"list-inline mx-auto justify-content-center\">\n",
      "<li><a href=\"/accessibilite/\">Accessibilité</a></li><li><a href=\"/plan-du-site/\">Plan du site</a></li><li><a href=\"/acces-a-linformation/\">Accès à l'information</a></li><li><a href=\"/politique-de-confidentialite/\">Politique de confidentialité</a></li><li><a href=\"/a-propos/\">À propos de Québec.ca</a></li>\n",
      "</ul>\n",
      "</div>\n",
      "<div class=\"col-12 d-flex align-items-center justify-content-center\" lang=\"fr\"><a href=\"https://quebec.ca\"><img alt=\"Gouvernement du Québec.\" height=\"35\" id=\"logoFooter\" src=\"/typo3conf/ext/gabarit_pgu/Resources/Public/Images/Templates/piv-pied-page.svg\" width=\"117\"/></a></div>\n",
      "<div class=\"col-12 d-flex align-items-center justify-content-center\"><p><a href=\"http://www.droitauteur.gouv.qc.ca/copyright.php\" target=\"_self\">© Gouvernement du Québec, 2020</a></p></div>\n",
      "</div>\n",
      "</div>\n",
      "<div id=\"flecheHaut\"><img alt=\"Retour en haut\" aria-hidden=\"true\" src=\"/typo3conf/ext/gabarit_pgu/Resources/Public/Images/Templates/fleche-haut.svg\"/></div>\n",
      "</div>\n",
      "<script src=\"https://code.jquery.com/jquery-3.4.1.min.js\" type=\"text/javascript\"></script>\n",
      "<script src=\"https://code.jquery.com/ui/1.12.1/jquery-ui.min.js\" type=\"text/javascript\"></script>\n",
      "<script src=\"https://cdnjs.cloudflare.com/ajax/libs/popper.js/1.14.7/umd/popper.min.js\" type=\"text/javascript\"></script>\n",
      "<script src=\"https://stackpath.bootstrapcdn.com/bootstrap/4.3.1/js/bootstrap.min.js\" type=\"text/javascript\"></script>\n",
      "<script src=\"https://www.youtube.com/iframe_api\" type=\"text/javascript\"></script>\n",
      "<script src=\"/typo3conf/ext/solr/Resources/Public/JavaScript/JQuery/jquery.autocomplete.min.js?1589563265\" type=\"text/javascript\"></script>\n",
      "<script src=\"/typo3conf/ext/bootstrap_grids/Resources/Public/Flexslider2/jquery.flexslider-min.js?1589563275\" type=\"text/javascript\"></script>\n",
      "<script src=\"/typo3conf/ext/youtubevideo/Resources/Public/JavaScript/youtubevideo.js?1589563265\" type=\"text/javascript\"></script>\n",
      "<script src=\"/typo3conf/ext/powermail/Resources/Public/JavaScript/Libraries/jquery.datetimepicker.min.js?1589563270\" type=\"text/javascript\"></script>\n",
      "<script src=\"/typo3conf/ext/powermail/Resources/Public/JavaScript/Libraries/parsley.min.js?1589563265\" type=\"text/javascript\"></script>\n",
      "<script src=\"/typo3conf/ext/powermail/Resources/Public/JavaScript/Powermail/Tabs.min.js?1589563274\" type=\"text/javascript\"></script>\n",
      "<script src=\"/typo3conf/ext/powermail/Resources/Public/JavaScript/Powermail/Form.min.js?1589563267\" type=\"text/javascript\"></script>\n",
      "<script src=\"/typo3conf/ext/gabarit_pgu/Resources/Public/JavaScript/Src/main.js?1589563274\" type=\"text/javascript\"></script>\n",
      "<script type=\"text/javascript\">\n",
      "/*<![CDATA[*/\n",
      "/*TS_inlineJS*/\n",
      "\n",
      "/* Google Tag Manager */\n",
      "\t\t(function(w,d,s,l,i){w[l]=w[l]||[];w[l].push({'gtm.start':\n",
      "\t\tnew Date().getTime(),event:'gtm.js'});var f=d.getElementsByTagName(s)[0],\n",
      "\t\tj=d.createElement(s),dl=l!='dataLayer'?'&l='+l:'';j.async=true;j.src=\n",
      "\t\t'https://www.googletagmanager.com/gtm.js?id='+i+dl;f.parentNode.insertBefore(j,f);\n",
      "\t\t})(window,document,'script','dataLayer','GTM-TRWV88D');\n",
      "\t\t/* End Google Tag Manager */    /* Recaptcha invisible */\n",
      "    function onRecaptchaSubmit() {\n",
      "        var idForm = $(\".frame-type-form_formframework form\").attr('id');\n",
      "        var tousForms =\"infoutile,nousjoindre,listedecourriels,formulairedecontactcourriel,plaintes\";\n",
      "        if(tousForms.indexOf(idForm)>= 0){\n",
      "            document.getElementById(idForm).submit(); return false;\n",
      "        }\n",
      "    }\n",
      "\n",
      "\n",
      "/*]]>*/\n",
      "</script>\n",
      "<script type=\"text/javascript\">\n",
      "/*<![CDATA[*/\n",
      "/*TS_inlineFooter*/\n",
      "\t\tjQuery( document ).ready(function() {\n",
      "\t\t\tjQuery('.youtubeVideo').each(function() {\n",
      "\t\t\t  if (jQuery(this).width() < 600){\n",
      "\t\t\t  \tjQuery(this).addClass( 'small' );\n",
      "\t\t\t  } else{\n",
      "\t\t\t\t\tjQuery(this).removeClass('small')\n",
      "\t\t\t\t}\n",
      "\t\t\t});\n",
      "\t\t});\n",
      "\t\tjQuery(window).resize(function(){\n",
      "\t\t  jQuery('.youtubeVideo').each(function() {\n",
      "\t\t\t  if (jQuery(this).width() < 600){\n",
      "\t\t\t  \tjQuery(this).addClass( 'small' );\n",
      "\t\t\t  } else{\n",
      "\t\t\t\t\tjQuery(this).removeClass('small')\n",
      "\t\t\t\t}\n",
      "\t\t\t});\n",
      "\t\t});\n",
      "\n",
      "/*]]>*/\n",
      "</script>\n",
      "</body>\n",
      "</html>\n"
     ]
    }
   ],
   "source": [
    "pprint(soup)"
   ]
  },
  {
   "cell_type": "code",
   "execution_count": 7,
   "metadata": {},
   "outputs": [],
   "source": [
    "table = soup.find(\"table\")"
   ]
  },
  {
   "cell_type": "code",
   "execution_count": 8,
   "metadata": {},
   "outputs": [
    {
     "name": "stdout",
     "output_type": "stream",
     "text": [
      "<table class=\"contenttable\">\n",
      " <thead>\n",
      "  <tr>\n",
      "   <th class=\"align-top\">\n",
      "    <p>\n",
      "     Régions\n",
      "    </p>\n",
      "   </th>\n",
      "   <th>\n",
      "    <p class=\"texteCentre\">\n",
      "     Nombre de cas confirmés, en date du 23 mai, 13 h 15\n",
      "    </p>\n",
      "   </th>\n",
      "  </tr>\n",
      " </thead>\n",
      " <tfoot>\n",
      "  <tr>\n",
      "   <td colspan=\"2\">\n",
      "    <p>\n",
      "     Données cumulatives. Source : V10, MSSS, 22 mai 2020, 18 h\n",
      "    </p>\n",
      "   </td>\n",
      "  </tr>\n",
      " </tfoot>\n",
      " <tbody>\n",
      "  <tr>\n",
      "   <td>\n",
      "    <p>\n",
      "     01 - Bas-Saint-Laurent\n",
      "    </p>\n",
      "   </td>\n",
      "   <td>\n",
      "    <p class=\"texteCentre\">\n",
      "     47\n",
      "    </p>\n",
      "   </td>\n",
      "  </tr>\n",
      "  <tr>\n",
      "   <td>\n",
      "    <p>\n",
      "     02 - Saguenay – Lac-Saint-Jean\n",
      "    </p>\n",
      "   </td>\n",
      "   <td>\n",
      "    <p class=\"texteCentre\">\n",
      "     318\n",
      "    </p>\n",
      "   </td>\n",
      "  </tr>\n",
      "  <tr>\n",
      "   <td>\n",
      "    <p>\n",
      "     03 - Capitale-Nationale\n",
      "    </p>\n",
      "   </td>\n",
      "   <td>\n",
      "    <p class=\"texteCentre\">\n",
      "     1 354\n",
      "    </p>\n",
      "   </td>\n",
      "  </tr>\n",
      "  <tr>\n",
      "   <td>\n",
      "    <p>\n",
      "     04 - Mauricie-et-Centre-du-Québec\n",
      "    </p>\n",
      "   </td>\n",
      "   <td>\n",
      "    <p class=\"texteCentre\">\n",
      "     1 856\n",
      "    </p>\n",
      "   </td>\n",
      "  </tr>\n",
      "  <tr>\n",
      "   <td>\n",
      "    <p>\n",
      "     05 - Estrie\n",
      "    </p>\n",
      "   </td>\n",
      "   <td>\n",
      "    <p class=\"texteCentre\">\n",
      "     933\n",
      "    </p>\n",
      "   </td>\n",
      "  </tr>\n",
      "  <tr>\n",
      "   <td>\n",
      "    <p>\n",
      "     06 - Montréal\n",
      "    </p>\n",
      "   </td>\n",
      "   <td>\n",
      "    <p class=\"texteCentre\">\n",
      "     23 696\n",
      "    </p>\n",
      "   </td>\n",
      "  </tr>\n",
      "  <tr>\n",
      "   <td>\n",
      "    <p>\n",
      "     07 - Outaouais\n",
      "    </p>\n",
      "   </td>\n",
      "   <td>\n",
      "    <p class=\"texteCentre\">\n",
      "     479\n",
      "    </p>\n",
      "   </td>\n",
      "  </tr>\n",
      "  <tr>\n",
      "   <td>\n",
      "    <p>\n",
      "     08 - Abitibi-Témiscamingue\n",
      "    </p>\n",
      "   </td>\n",
      "   <td>\n",
      "    <p class=\"texteCentre\">\n",
      "     164\n",
      "    </p>\n",
      "   </td>\n",
      "  </tr>\n",
      "  <tr>\n",
      "   <td>\n",
      "    <p>\n",
      "     09 - Côte-Nord\n",
      "    </p>\n",
      "   </td>\n",
      "   <td>\n",
      "    <p class=\"texteCentre\">\n",
      "     114\n",
      "    </p>\n",
      "   </td>\n",
      "  </tr>\n",
      "  <tr>\n",
      "   <td>\n",
      "    <p>\n",
      "     10 - Nord-du-Québec\n",
      "    </p>\n",
      "   </td>\n",
      "   <td>\n",
      "    <p class=\"texteCentre\">\n",
      "     8\n",
      "    </p>\n",
      "   </td>\n",
      "  </tr>\n",
      "  <tr>\n",
      "   <td>\n",
      "    <p>\n",
      "     11 - Gaspésie-Îles-de-la-Madeleine\n",
      "    </p>\n",
      "   </td>\n",
      "   <td>\n",
      "    <p class=\"texteCentre\">\n",
      "     179\n",
      "    </p>\n",
      "   </td>\n",
      "  </tr>\n",
      "  <tr>\n",
      "   <td>\n",
      "    <p>\n",
      "     12 - Chaudière-Appalaches\n",
      "    </p>\n",
      "   </td>\n",
      "   <td>\n",
      "    <p class=\"texteCentre\">\n",
      "     484\n",
      "    </p>\n",
      "   </td>\n",
      "  </tr>\n",
      "  <tr>\n",
      "   <td>\n",
      "    <p>\n",
      "     13 - Laval\n",
      "    </p>\n",
      "   </td>\n",
      "   <td>\n",
      "    <p class=\"texteCentre\">\n",
      "     5 090\n",
      "    </p>\n",
      "   </td>\n",
      "  </tr>\n",
      "  <tr>\n",
      "   <td>\n",
      "    <p>\n",
      "     14 - Lanaudière\n",
      "    </p>\n",
      "   </td>\n",
      "   <td>\n",
      "    <p class=\"texteCentre\">\n",
      "     3 708\n",
      "    </p>\n",
      "   </td>\n",
      "  </tr>\n",
      "  <tr>\n",
      "   <td>\n",
      "    <p>\n",
      "     15 - Laurentides\n",
      "    </p>\n",
      "   </td>\n",
      "   <td>\n",
      "    <p class=\"texteCentre\">\n",
      "     2 589\n",
      "    </p>\n",
      "   </td>\n",
      "  </tr>\n",
      "  <tr>\n",
      "   <td>\n",
      "    <p>\n",
      "     16 - Montérégie\n",
      "    </p>\n",
      "   </td>\n",
      "   <td>\n",
      "    <p class=\"texteCentre\">\n",
      "     5 783\n",
      "    </p>\n",
      "   </td>\n",
      "  </tr>\n",
      "  <tr>\n",
      "   <td>\n",
      "    <p>\n",
      "     17 - Nunavik\n",
      "    </p>\n",
      "   </td>\n",
      "   <td>\n",
      "    <p class=\"texteCentre\">\n",
      "     16\n",
      "    </p>\n",
      "   </td>\n",
      "  </tr>\n",
      "  <tr>\n",
      "   <td>\n",
      "    <p>\n",
      "     18 - Terres-Cries-de-la-Baie-James\n",
      "    </p>\n",
      "   </td>\n",
      "   <td>\n",
      "    <p class=\"texteCentre\">\n",
      "     10\n",
      "    </p>\n",
      "   </td>\n",
      "  </tr>\n",
      "  <tr>\n",
      "   <td>\n",
      "    <p>\n",
      "     Hors Québec\n",
      "    </p>\n",
      "   </td>\n",
      "   <td>\n",
      "    <p class=\"texteCentre\">\n",
      "     3\n",
      "    </p>\n",
      "   </td>\n",
      "  </tr>\n",
      "  <tr>\n",
      "   <td>\n",
      "    <p>\n",
      "     Région à déterminer\n",
      "    </p>\n",
      "   </td>\n",
      "   <td>\n",
      "    <p class=\"texteCentre\">\n",
      "     7\n",
      "    </p>\n",
      "   </td>\n",
      "  </tr>\n",
      "  <tr>\n",
      "   <td>\n",
      "    <p>\n",
      "     Total\n",
      "    </p>\n",
      "   </td>\n",
      "   <td>\n",
      "    <p class=\"texteCentre\">\n",
      "     46 838\n",
      "    </p>\n",
      "   </td>\n",
      "  </tr>\n",
      " </tbody>\n",
      "</table>\n"
     ]
    }
   ],
   "source": [
    "print(table.prettify())"
   ]
  },
  {
   "cell_type": "code",
   "execution_count": 9,
   "metadata": {},
   "outputs": [],
   "source": [
    "p_tag_in_table = table.find_all(\"p\")"
   ]
  },
  {
   "cell_type": "code",
   "execution_count": 10,
   "metadata": {},
   "outputs": [
    {
     "name": "stdout",
     "output_type": "stream",
     "text": [
      "[<p>Régions</p>,\n",
      " <p class=\"texteCentre\">Nombre de cas confirmés, en date du 23 mai, 13 h 15</p>,\n",
      " <p>Données cumulatives. Source : V10, MSSS, 22 mai 2020, 18 h</p>,\n",
      " <p>01 - Bas-Saint-Laurent</p>,\n",
      " <p class=\"texteCentre\">47</p>,\n",
      " <p>02 - Saguenay – Lac-Saint-Jean</p>,\n",
      " <p class=\"texteCentre\">318</p>,\n",
      " <p>03 - Capitale-Nationale</p>,\n",
      " <p class=\"texteCentre\">1 354</p>,\n",
      " <p>04 - Mauricie-et-Centre-du-Québec</p>,\n",
      " <p class=\"texteCentre\">1 856</p>,\n",
      " <p>05 - Estrie</p>,\n",
      " <p class=\"texteCentre\">933</p>,\n",
      " <p>06 - Montréal</p>,\n",
      " <p class=\"texteCentre\">23 696</p>,\n",
      " <p>07 - Outaouais</p>,\n",
      " <p class=\"texteCentre\">479</p>,\n",
      " <p>08 - Abitibi-Témiscamingue</p>,\n",
      " <p class=\"texteCentre\">164</p>,\n",
      " <p>09 - Côte-Nord</p>,\n",
      " <p class=\"texteCentre\">114</p>,\n",
      " <p>10 - Nord-du-Québec</p>,\n",
      " <p class=\"texteCentre\">8</p>,\n",
      " <p>11 - Gaspésie-Îles-de-la-Madeleine</p>,\n",
      " <p class=\"texteCentre\">179</p>,\n",
      " <p>12 - Chaudière-Appalaches</p>,\n",
      " <p class=\"texteCentre\">484</p>,\n",
      " <p>13 - Laval</p>,\n",
      " <p class=\"texteCentre\">5 090</p>,\n",
      " <p>14 - Lanaudière</p>,\n",
      " <p class=\"texteCentre\">3 708</p>,\n",
      " <p>15 - Laurentides</p>,\n",
      " <p class=\"texteCentre\">2 589</p>,\n",
      " <p>16 - Montérégie</p>,\n",
      " <p class=\"texteCentre\">5 783</p>,\n",
      " <p>17 - Nunavik</p>,\n",
      " <p class=\"texteCentre\">16</p>,\n",
      " <p>18 - Terres-Cries-de-la-Baie-James</p>,\n",
      " <p class=\"texteCentre\">10</p>,\n",
      " <p>Hors Québec</p>,\n",
      " <p class=\"texteCentre\">3</p>,\n",
      " <p>Région à déterminer</p>,\n",
      " <p class=\"texteCentre\">7</p>,\n",
      " <p>Total</p>,\n",
      " <p class=\"texteCentre\">46 838</p>]\n"
     ]
    }
   ],
   "source": [
    "pprint(p_tag_in_table)"
   ]
  },
  {
   "cell_type": "code",
   "execution_count": 11,
   "metadata": {},
   "outputs": [
    {
     "data": {
      "text/plain": [
       "<p class=\"texteCentre\">Nombre de cas confirmés, en date du 23 mai, 13 h 15</p>"
      ]
     },
     "execution_count": 11,
     "metadata": {},
     "output_type": "execute_result"
    }
   ],
   "source": [
    "p_tag_in_table[1]"
   ]
  },
  {
   "cell_type": "code",
   "execution_count": 12,
   "metadata": {},
   "outputs": [
    {
     "data": {
      "text/plain": [
       "bs4.element.ResultSet"
      ]
     },
     "execution_count": 12,
     "metadata": {},
     "output_type": "execute_result"
    }
   ],
   "source": [
    "type(p_tag_in_table)"
   ]
  },
  {
   "cell_type": "code",
   "execution_count": 13,
   "metadata": {
    "scrolled": true
   },
   "outputs": [],
   "source": [
    "donnees_en_chaine = [str(tag) for tag in table.findAll(re.compile(\"p\"))]"
   ]
  },
  {
   "cell_type": "code",
   "execution_count": 14,
   "metadata": {},
   "outputs": [
    {
     "data": {
      "text/plain": [
       "['<p>Régions</p>',\n",
       " '<p class=\"texteCentre\">Nombre de cas confirmés, en date du 23\\xa0mai, 13\\xa0h\\xa015</p>',\n",
       " '<p>Données cumulatives. Source\\xa0: V10, MSSS, 22\\xa0mai\\xa02020, 18\\xa0h</p>',\n",
       " '<p>01 - Bas-Saint-Laurent</p>',\n",
       " '<p class=\"texteCentre\">47</p>',\n",
       " '<p>02 - Saguenay – Lac-Saint-Jean</p>',\n",
       " '<p class=\"texteCentre\">318</p>',\n",
       " '<p>03 - Capitale-Nationale</p>',\n",
       " '<p class=\"texteCentre\">1\\xa0354</p>',\n",
       " '<p>04 - Mauricie-et-Centre-du-Québec</p>',\n",
       " '<p class=\"texteCentre\">1\\xa0856</p>',\n",
       " '<p>05 - Estrie</p>',\n",
       " '<p class=\"texteCentre\">933</p>',\n",
       " '<p>06 - Montréal</p>',\n",
       " '<p class=\"texteCentre\">23 696</p>',\n",
       " '<p>07 - Outaouais</p>',\n",
       " '<p class=\"texteCentre\">479</p>',\n",
       " '<p>08 - Abitibi-Témiscamingue</p>',\n",
       " '<p class=\"texteCentre\">164</p>',\n",
       " '<p>09 - Côte-Nord</p>',\n",
       " '<p class=\"texteCentre\">114</p>',\n",
       " '<p>10 - Nord-du-Québec</p>',\n",
       " '<p class=\"texteCentre\">8</p>',\n",
       " '<p>11 - Gaspésie-Îles-de-la-Madeleine</p>',\n",
       " '<p class=\"texteCentre\">179</p>',\n",
       " '<p>12 - Chaudière-Appalaches</p>',\n",
       " '<p class=\"texteCentre\">484</p>',\n",
       " '<p>13 - Laval</p>',\n",
       " '<p class=\"texteCentre\">5\\xa0090</p>',\n",
       " '<p>14 - Lanaudière</p>',\n",
       " '<p class=\"texteCentre\">3 708</p>',\n",
       " '<p>15 - Laurentides</p>',\n",
       " '<p class=\"texteCentre\">2\\xa0589</p>',\n",
       " '<p>16 - Montérégie</p>',\n",
       " '<p class=\"texteCentre\">5 783</p>',\n",
       " '<p>17 - Nunavik</p>',\n",
       " '<p class=\"texteCentre\">16</p>',\n",
       " '<p>18 - Terres-Cries-de-la-Baie-James</p>',\n",
       " '<p class=\"texteCentre\">10</p>',\n",
       " '<p>Hors Québec</p>',\n",
       " '<p class=\"texteCentre\">3</p>',\n",
       " '<p>Région à déterminer</p>',\n",
       " '<p class=\"texteCentre\">7</p>',\n",
       " '<p>Total</p>',\n",
       " '<p class=\"texteCentre\">46 838</p>']"
      ]
     },
     "execution_count": 14,
     "metadata": {},
     "output_type": "execute_result"
    }
   ],
   "source": [
    "donnees_en_chaine"
   ]
  },
  {
   "cell_type": "code",
   "execution_count": 15,
   "metadata": {},
   "outputs": [],
   "source": [
    "date_str = donnees_en_chaine[2]"
   ]
  },
  {
   "cell_type": "code",
   "execution_count": 16,
   "metadata": {},
   "outputs": [],
   "source": [
    "total_confirmes_str = donnees_en_chaine[-1]"
   ]
  },
  {
   "cell_type": "code",
   "execution_count": 17,
   "metadata": {},
   "outputs": [
    {
     "data": {
      "text/plain": [
       "'<p class=\"texteCentre\">46 838</p>'"
      ]
     },
     "execution_count": 17,
     "metadata": {},
     "output_type": "execute_result"
    }
   ],
   "source": [
    "total_confirmes_str"
   ]
  },
  {
   "cell_type": "code",
   "execution_count": 18,
   "metadata": {},
   "outputs": [],
   "source": [
    "total_confirmes = int(\"\".join(re.findall(\"\\d+\",total_confirmes_str ))) "
   ]
  },
  {
   "cell_type": "code",
   "execution_count": 19,
   "metadata": {},
   "outputs": [
    {
     "data": {
      "text/plain": [
       "46838"
      ]
     },
     "execution_count": 19,
     "metadata": {},
     "output_type": "execute_result"
    }
   ],
   "source": [
    "total_confirmes"
   ]
  },
  {
   "cell_type": "code",
   "execution_count": 20,
   "metadata": {},
   "outputs": [
    {
     "data": {
      "text/plain": [
       "'<p>Données cumulatives. Source\\xa0: V10, MSSS, 22\\xa0mai\\xa02020, 18\\xa0h</p>'"
      ]
     },
     "execution_count": 20,
     "metadata": {},
     "output_type": "execute_result"
    }
   ],
   "source": [
    "date_str"
   ]
  },
  {
   "cell_type": "code",
   "execution_count": 21,
   "metadata": {},
   "outputs": [],
   "source": [
    "date_str_ignore_ascii = date_str.encode(\"ascii\", \"replace\")"
   ]
  },
  {
   "cell_type": "code",
   "execution_count": 22,
   "metadata": {},
   "outputs": [
    {
     "data": {
      "text/plain": [
       "b'<p>Donn?es cumulatives. Source?: V10, MSSS, 22?mai?2020, 18?h</p>'"
      ]
     },
     "execution_count": 22,
     "metadata": {},
     "output_type": "execute_result"
    }
   ],
   "source": [
    "date_str_ignore_ascii"
   ]
  },
  {
   "cell_type": "code",
   "execution_count": 23,
   "metadata": {},
   "outputs": [],
   "source": [
    "date_str_decode_utf8 = date_str_ignore_ascii.decode(\"UTF8\")"
   ]
  },
  {
   "cell_type": "code",
   "execution_count": 24,
   "metadata": {},
   "outputs": [
    {
     "data": {
      "text/plain": [
       "'<p>Donn?es cumulatives. Source?: V10, MSSS, 22?mai?2020, 18?h</p>'"
      ]
     },
     "execution_count": 24,
     "metadata": {},
     "output_type": "execute_result"
    }
   ],
   "source": [
    "date_str_decode_utf8"
   ]
  },
  {
   "cell_type": "code",
   "execution_count": 25,
   "metadata": {},
   "outputs": [],
   "source": [
    "date_str_regex = re.compile(\"\\d{2}\\?\\w+\\?\\d{4}\")"
   ]
  },
  {
   "cell_type": "code",
   "execution_count": 26,
   "metadata": {},
   "outputs": [],
   "source": [
    "date_found = date_str_regex.findall(date_str_decode_utf8)"
   ]
  },
  {
   "cell_type": "code",
   "execution_count": 27,
   "metadata": {},
   "outputs": [
    {
     "data": {
      "text/plain": [
       "['22?mai?2020']"
      ]
     },
     "execution_count": 27,
     "metadata": {},
     "output_type": "execute_result"
    }
   ],
   "source": [
    "date_found"
   ]
  },
  {
   "cell_type": "code",
   "execution_count": 28,
   "metadata": {},
   "outputs": [],
   "source": [
    "date = \" \".join(date_found[0].split(\"?\"))"
   ]
  },
  {
   "cell_type": "code",
   "execution_count": 29,
   "metadata": {},
   "outputs": [
    {
     "data": {
      "text/plain": [
       "'22 mai 2020'"
      ]
     },
     "execution_count": 29,
     "metadata": {},
     "output_type": "execute_result"
    }
   ],
   "source": [
    "date"
   ]
  },
  {
   "cell_type": "code",
   "execution_count": 30,
   "metadata": {},
   "outputs": [],
   "source": [
    " donnees_nommees = donnees_en_chaine[3:]"
   ]
  },
  {
   "cell_type": "code",
   "execution_count": 31,
   "metadata": {
    "scrolled": true
   },
   "outputs": [
    {
     "data": {
      "text/plain": [
       "['<p>01 - Bas-Saint-Laurent</p>',\n",
       " '<p class=\"texteCentre\">47</p>',\n",
       " '<p>02 - Saguenay – Lac-Saint-Jean</p>',\n",
       " '<p class=\"texteCentre\">318</p>',\n",
       " '<p>03 - Capitale-Nationale</p>',\n",
       " '<p class=\"texteCentre\">1\\xa0354</p>',\n",
       " '<p>04 - Mauricie-et-Centre-du-Québec</p>',\n",
       " '<p class=\"texteCentre\">1\\xa0856</p>',\n",
       " '<p>05 - Estrie</p>',\n",
       " '<p class=\"texteCentre\">933</p>',\n",
       " '<p>06 - Montréal</p>',\n",
       " '<p class=\"texteCentre\">23 696</p>',\n",
       " '<p>07 - Outaouais</p>',\n",
       " '<p class=\"texteCentre\">479</p>',\n",
       " '<p>08 - Abitibi-Témiscamingue</p>',\n",
       " '<p class=\"texteCentre\">164</p>',\n",
       " '<p>09 - Côte-Nord</p>',\n",
       " '<p class=\"texteCentre\">114</p>',\n",
       " '<p>10 - Nord-du-Québec</p>',\n",
       " '<p class=\"texteCentre\">8</p>',\n",
       " '<p>11 - Gaspésie-Îles-de-la-Madeleine</p>',\n",
       " '<p class=\"texteCentre\">179</p>',\n",
       " '<p>12 - Chaudière-Appalaches</p>',\n",
       " '<p class=\"texteCentre\">484</p>',\n",
       " '<p>13 - Laval</p>',\n",
       " '<p class=\"texteCentre\">5\\xa0090</p>',\n",
       " '<p>14 - Lanaudière</p>',\n",
       " '<p class=\"texteCentre\">3 708</p>',\n",
       " '<p>15 - Laurentides</p>',\n",
       " '<p class=\"texteCentre\">2\\xa0589</p>',\n",
       " '<p>16 - Montérégie</p>',\n",
       " '<p class=\"texteCentre\">5 783</p>',\n",
       " '<p>17 - Nunavik</p>',\n",
       " '<p class=\"texteCentre\">16</p>',\n",
       " '<p>18 - Terres-Cries-de-la-Baie-James</p>',\n",
       " '<p class=\"texteCentre\">10</p>',\n",
       " '<p>Hors Québec</p>',\n",
       " '<p class=\"texteCentre\">3</p>',\n",
       " '<p>Région à déterminer</p>',\n",
       " '<p class=\"texteCentre\">7</p>',\n",
       " '<p>Total</p>',\n",
       " '<p class=\"texteCentre\">46 838</p>']"
      ]
     },
     "execution_count": 31,
     "metadata": {},
     "output_type": "execute_result"
    }
   ],
   "source": [
    "donnees_nommees"
   ]
  },
  {
   "cell_type": "markdown",
   "metadata": {},
   "source": [
    "#### Slice Regions"
   ]
  },
  {
   "cell_type": "code",
   "execution_count": 32,
   "metadata": {},
   "outputs": [],
   "source": [
    "slice_regions = donnees_nommees[::2]"
   ]
  },
  {
   "cell_type": "code",
   "execution_count": 33,
   "metadata": {},
   "outputs": [
    {
     "data": {
      "text/plain": [
       "['<p>01 - Bas-Saint-Laurent</p>',\n",
       " '<p>02 - Saguenay – Lac-Saint-Jean</p>',\n",
       " '<p>03 - Capitale-Nationale</p>',\n",
       " '<p>04 - Mauricie-et-Centre-du-Québec</p>',\n",
       " '<p>05 - Estrie</p>',\n",
       " '<p>06 - Montréal</p>',\n",
       " '<p>07 - Outaouais</p>',\n",
       " '<p>08 - Abitibi-Témiscamingue</p>',\n",
       " '<p>09 - Côte-Nord</p>',\n",
       " '<p>10 - Nord-du-Québec</p>',\n",
       " '<p>11 - Gaspésie-Îles-de-la-Madeleine</p>',\n",
       " '<p>12 - Chaudière-Appalaches</p>',\n",
       " '<p>13 - Laval</p>',\n",
       " '<p>14 - Lanaudière</p>',\n",
       " '<p>15 - Laurentides</p>',\n",
       " '<p>16 - Montérégie</p>',\n",
       " '<p>17 - Nunavik</p>',\n",
       " '<p>18 - Terres-Cries-de-la-Baie-James</p>',\n",
       " '<p>Hors Québec</p>',\n",
       " '<p>Région à déterminer</p>',\n",
       " '<p>Total</p>']"
      ]
     },
     "execution_count": 33,
     "metadata": {},
     "output_type": "execute_result"
    }
   ],
   "source": [
    "slice_regions"
   ]
  },
  {
   "cell_type": "markdown",
   "metadata": {},
   "source": [
    "#### Regex Régions"
   ]
  },
  {
   "cell_type": "code",
   "execution_count": 34,
   "metadata": {},
   "outputs": [],
   "source": [
    "def regex_regions(r):\n",
    "    regex = [re.findall(r\"\\w+\", noms) for noms in r]\n",
    "    les_noms = []\n",
    "    regex_tranches = [i for i in regex]\n",
    "    for m in regex_tranches:\n",
    "        if len(m) > 1:\n",
    "            nom = \"-\".join(m)\n",
    "            les_noms.append(nom)\n",
    "        else:\n",
    "            les_noms.append(m[0])\n",
    "    les_noms_2 = []\n",
    "    for i in les_noms:\n",
    "        les_noms_2.append(re.sub(\"p-\\d.-|p-|-p\", \"\", i))\n",
    "    return les_noms_2        "
   ]
  },
  {
   "cell_type": "code",
   "execution_count": 35,
   "metadata": {},
   "outputs": [],
   "source": [
    "regions = regex_regions(slice_regions)"
   ]
  },
  {
   "cell_type": "code",
   "execution_count": 36,
   "metadata": {},
   "outputs": [
    {
     "data": {
      "text/plain": [
       "['Bas-Saint-Laurent',\n",
       " 'Saguenay-Lac-Saint-Jean',\n",
       " 'Capitale-Nationale',\n",
       " 'Mauricie-et-Centre-du-Québec',\n",
       " 'Estrie',\n",
       " 'Montréal',\n",
       " 'Outaouais',\n",
       " 'Abitibi-Témiscamingue',\n",
       " 'Côte-Nord',\n",
       " 'Nord-du-Québec',\n",
       " 'Gaspésie-Îles-de-la-Madeleine',\n",
       " 'Chaudière-Appalaches',\n",
       " 'Laval',\n",
       " 'Lanaudière',\n",
       " 'Laurentides',\n",
       " 'Montérégie',\n",
       " 'Nunavik',\n",
       " 'Terres-Cries-de-la-Baie-James',\n",
       " 'Hors-Québec',\n",
       " 'Région-à-déterminer',\n",
       " 'Total']"
      ]
     },
     "execution_count": 36,
     "metadata": {},
     "output_type": "execute_result"
    }
   ],
   "source": [
    "regions"
   ]
  },
  {
   "cell_type": "markdown",
   "metadata": {},
   "source": [
    "#### Slice Confirmés"
   ]
  },
  {
   "cell_type": "code",
   "execution_count": 42,
   "metadata": {},
   "outputs": [],
   "source": [
    "slice_confirmes = donnees_nommees[1::2]"
   ]
  },
  {
   "cell_type": "code",
   "execution_count": 43,
   "metadata": {},
   "outputs": [
    {
     "data": {
      "text/plain": [
       "['<p class=\"texteCentre\">47</p>',\n",
       " '<p class=\"texteCentre\">318</p>',\n",
       " '<p class=\"texteCentre\">1\\xa0354</p>',\n",
       " '<p class=\"texteCentre\">1\\xa0856</p>',\n",
       " '<p class=\"texteCentre\">933</p>',\n",
       " '<p class=\"texteCentre\">23 696</p>',\n",
       " '<p class=\"texteCentre\">479</p>',\n",
       " '<p class=\"texteCentre\">164</p>',\n",
       " '<p class=\"texteCentre\">114</p>',\n",
       " '<p class=\"texteCentre\">8</p>',\n",
       " '<p class=\"texteCentre\">179</p>',\n",
       " '<p class=\"texteCentre\">484</p>',\n",
       " '<p class=\"texteCentre\">5\\xa0090</p>',\n",
       " '<p class=\"texteCentre\">3 708</p>',\n",
       " '<p class=\"texteCentre\">2\\xa0589</p>',\n",
       " '<p class=\"texteCentre\">5 783</p>',\n",
       " '<p class=\"texteCentre\">16</p>',\n",
       " '<p class=\"texteCentre\">10</p>',\n",
       " '<p class=\"texteCentre\">3</p>',\n",
       " '<p class=\"texteCentre\">7</p>',\n",
       " '<p class=\"texteCentre\">46 838</p>']"
      ]
     },
     "execution_count": 43,
     "metadata": {},
     "output_type": "execute_result"
    }
   ],
   "source": [
    "slice_confirmes"
   ]
  },
  {
   "cell_type": "markdown",
   "metadata": {},
   "source": [
    "#### Regex Nombres"
   ]
  },
  {
   "cell_type": "code",
   "execution_count": 44,
   "metadata": {},
   "outputs": [],
   "source": [
    "def nombre_de_cas(c):\n",
    "    if len(c) == 1:\n",
    "        regions_a_determine = []\n",
    "        regex = re.findall(r\"\\d+\", c[0])\n",
    "        regions_a_determine = int(regex[0])\n",
    "        return regions_a_determine\n",
    "    else:\n",
    "        les_cas = []\n",
    "        for i in c:\n",
    "            chiffre_regex = re.findall(r\"\\d+\", i)\n",
    "            les_cas.append(int(\"\".join(chiffre_regex)))\n",
    "        return les_cas"
   ]
  },
  {
   "cell_type": "code",
   "execution_count": 45,
   "metadata": {},
   "outputs": [],
   "source": [
    "confirmes = nombre_de_cas(slice_confirmes)"
   ]
  },
  {
   "cell_type": "code",
   "execution_count": 46,
   "metadata": {},
   "outputs": [
    {
     "data": {
      "text/plain": [
       "[47,\n",
       " 318,\n",
       " 1354,\n",
       " 1856,\n",
       " 933,\n",
       " 23696,\n",
       " 479,\n",
       " 164,\n",
       " 114,\n",
       " 8,\n",
       " 179,\n",
       " 484,\n",
       " 5090,\n",
       " 3708,\n",
       " 2589,\n",
       " 5783,\n",
       " 16,\n",
       " 10,\n",
       " 3,\n",
       " 7,\n",
       " 46838]"
      ]
     },
     "execution_count": 46,
     "metadata": {},
     "output_type": "execute_result"
    }
   ],
   "source": [
    "confirmes"
   ]
  },
  {
   "cell_type": "markdown",
   "metadata": {},
   "source": [
    "#### Régions Aleat"
   ]
  },
  {
   "cell_type": "code",
   "execution_count": 72,
   "metadata": {},
   "outputs": [
    {
     "data": {
      "text/plain": [
       "21"
      ]
     },
     "execution_count": 72,
     "metadata": {},
     "output_type": "execute_result"
    }
   ],
   "source": [
    "# total 21\n",
    "len(confirmes)"
   ]
  },
  {
   "cell_type": "markdown",
   "metadata": {},
   "source": [
    "### Cas de Décès"
   ]
  },
  {
   "cell_type": "code",
   "execution_count": 54,
   "metadata": {},
   "outputs": [],
   "source": [
    "soup_deces = soup.find_all(\"table\")"
   ]
  },
  {
   "cell_type": "code",
   "execution_count": 55,
   "metadata": {},
   "outputs": [
    {
     "data": {
      "text/plain": [
       "6"
      ]
     },
     "execution_count": 55,
     "metadata": {},
     "output_type": "execute_result"
    }
   ],
   "source": [
    "len(soup_deces)"
   ]
  },
  {
   "cell_type": "code",
   "execution_count": 56,
   "metadata": {
    "scrolled": true
   },
   "outputs": [
    {
     "data": {
      "text/plain": [
       "[<table class=\"contenttable\"><thead><tr><th class=\"align-top\"><p>Régions</p></th><th><p class=\"texteCentre\">Nombre de cas confirmés, en date du 23 mai, 13 h 15</p></th></tr></thead><tfoot><tr><td colspan=\"2\"><p>Données cumulatives. Source : V10, MSSS, 22 mai 2020, 18 h</p></td></tr></tfoot><tbody><tr><td><p>01 - Bas-Saint-Laurent</p></td><td><p class=\"texteCentre\">47</p></td></tr><tr><td><p>02 - Saguenay – Lac-Saint-Jean</p></td><td><p class=\"texteCentre\">318</p></td></tr><tr><td><p>03 - Capitale-Nationale</p></td><td><p class=\"texteCentre\">1 354</p></td></tr><tr><td><p>04 - Mauricie-et-Centre-du-Québec</p></td><td><p class=\"texteCentre\">1 856</p></td></tr><tr><td><p>05 - Estrie</p></td><td><p class=\"texteCentre\">933</p></td></tr><tr><td><p>06 - Montréal</p></td><td><p class=\"texteCentre\">23 696</p></td></tr><tr><td><p>07 - Outaouais</p></td><td><p class=\"texteCentre\">479</p></td></tr><tr><td><p>08 - Abitibi-Témiscamingue</p></td><td><p class=\"texteCentre\">164</p></td></tr><tr><td><p>09 - Côte-Nord</p></td><td><p class=\"texteCentre\">114</p></td></tr><tr><td><p>10 - Nord-du-Québec</p></td><td><p class=\"texteCentre\">8</p></td></tr><tr><td><p>11 - Gaspésie-Îles-de-la-Madeleine</p></td><td><p class=\"texteCentre\">179</p></td></tr><tr><td><p>12 - Chaudière-Appalaches</p></td><td><p class=\"texteCentre\">484</p></td></tr><tr><td><p>13 - Laval</p></td><td><p class=\"texteCentre\">5 090</p></td></tr><tr><td><p>14 - Lanaudière</p></td><td><p class=\"texteCentre\">3 708</p></td></tr><tr><td><p>15 - Laurentides</p></td><td><p class=\"texteCentre\">2 589</p></td></tr><tr><td><p>16 - Montérégie</p></td><td><p class=\"texteCentre\">5 783</p></td></tr><tr><td><p>17 - Nunavik</p></td><td><p class=\"texteCentre\">16</p></td></tr><tr><td><p>18 - Terres-Cries-de-la-Baie-James</p></td><td><p class=\"texteCentre\">10</p></td></tr><tr><td><p>Hors Québec</p></td><td><p class=\"texteCentre\">3</p></td></tr><tr><td><p>Région à déterminer</p></td><td><p class=\"texteCentre\">7</p></td></tr><tr><td><p>Total</p></td><td><p class=\"texteCentre\">46 838</p></td></tr></tbody></table>,\n",
       " <table class=\"contenttable\"><thead><tr><th><p>Groupe d'âge</p></th><th><p>% de cas confirmés</p></th></tr></thead><tfoot><tr><td colspan=\"2\"><p>Données cumulatives. Source : V10, MSSS (consulté le 22 mai 2020).</p></td></tr></tfoot><tbody><tr><td><p>0-9 ans</p></td><td><p>2,6</p></td></tr><tr><td><p>10-19 ans</p></td><td><p>4,1</p></td></tr><tr><td><p>20-29 ans</p></td><td>12,1</td></tr><tr><td><p>30-39 ans</p></td><td><p>12,8</p></td></tr><tr><td><p>40-49 ans</p></td><td><p>15,1</p></td></tr><tr><td><p>50-59 ans</p></td><td><p>14,8</p></td></tr><tr><td><p>60-69 ans</p></td><td><p>9,1</p></td></tr><tr><td><p>70-79 ans</p></td><td><p>8,0</p></td></tr><tr><td><p>80-89 ans</p></td><td><p>12,5</p></td></tr><tr><td><p>90 ans ou plus</p></td><td><p>8,8</p></td></tr><tr><td><p>Âge à déterminer</p></td><td><p>0,2</p></td></tr></tbody></table>,\n",
       " <table class=\"contenttable\"><thead><tr><th class=\"align-top\"><p>Régions</p></th><th><p class=\"texteCentre\">Nombre de décès, en date du 23 mai, 13 h 15</p></th></tr></thead><tfoot><tr><td colspan=\"2\"><p>Données cumulatives. Source : V10, MSSS, 22 mai 2020, 18 h</p></td></tr></tfoot><tbody><tr><td><p>01 - Bas-Saint-Laurent</p></td><td><p class=\"texteCentre\">2</p></td></tr><tr><td><p>02 - Saguenay – Lac-Saint-Jean</p></td><td><p class=\"texteCentre\">26</p></td></tr><tr><td><p>03 - Capitale-Nationale</p></td><td><p class=\"texteCentre\">92</p></td></tr><tr><td><p>04 - Mauricie-et-Centre-du-Québec</p></td><td><p class=\"texteCentre\">170</p></td></tr><tr><td><p>05 - Estrie</p></td><td><p class=\"texteCentre\">25</p></td></tr><tr><td><p>06 - Montréal</p></td><td><p class=\"texteCentre\">2 508</p></td></tr><tr><td><p>07 - Outaouais</p></td><td><p class=\"texteCentre\">12</p></td></tr><tr><td><p>08 - Abitibi-Témiscamingue</p></td><td><p class=\"texteCentre\">3</p></td></tr><tr><td><p>09 - Côte-Nord</p></td><td><p class=\"texteCentre\">0</p></td></tr><tr><td><p>10 - Nord-du-Québec</p></td><td><p class=\"texteCentre\">0</p></td></tr><tr><td><p>11 - Gaspésie-Îles-de-la-Madeleine</p></td><td><p class=\"texteCentre\">8</p></td></tr><tr><td><p>12 - Chaudière-Appalaches</p></td><td><p class=\"texteCentre\">8</p></td></tr><tr><td><p>13 - Laval</p></td><td><p class=\"texteCentre\">484</p></td></tr><tr><td><p>14 - Lanaudière</p></td><td><p class=\"texteCentre\">164</p></td></tr><tr><td><p>15 - Laurentides</p></td><td><p class=\"texteCentre\">106</p></td></tr><tr><td><p>16 - Montérégie</p></td><td><p class=\"texteCentre\">332</p></td></tr><tr><td><p>17 - Nunavik</p></td><td><p class=\"texteCentre\">0</p></td></tr><tr><td><p>18 - Terres-Cries-de-la-Baie-James</p></td><td><p class=\"texteCentre\">0</p></td></tr><tr><td><p>Hors Québec</p></td><td><p class=\"texteCentre\">0</p></td></tr><tr><td><p>Région à déterminer</p></td><td><p class=\"texteCentre\">0</p></td></tr><tr><td><p>Total</p></td><td><p class=\"texteCentre\">3 940</p></td></tr></tbody></table>,\n",
       " <table class=\"contenttable\"><thead><tr><th class=\"align-top\"><p>Groupe d'âge</p></th><th><p class=\"texteCentre\">% de décès</p></th></tr></thead><tfoot><tr><td colspan=\"2\"><p>Données cumulatives. Source : V10, MSSS, Mise à jour 22 mai 2020, 18 h</p></td></tr></tfoot><tbody><tr><td><p>Moins de 20 ans</p></td><td><p class=\"texteCentre\">0</p></td></tr><tr><td><p>20-29 ans</p></td><td><p class=\"texteCentre\">0,1</p></td></tr><tr><td><p>30-39 ans</p></td><td><p class=\"texteCentre\">0,2</p></td></tr><tr><td><p>40-49 ans</p></td><td><p class=\"texteCentre\">0,4</p></td></tr><tr><td><p>50-59 ans</p></td><td><p class=\"texteCentre\">1,8</p></td></tr><tr><td><p>60-69 ans</p></td><td><p class=\"texteCentre\">6,1</p></td></tr><tr><td><p>70-79 ans</p></td><td><p class=\"texteCentre\">18,0</p></td></tr><tr><td><p>80-89 ans</p></td><td><p class=\"texteCentre\">40,4</p></td></tr><tr><td><p>90 ans et plus</p></td><td><p class=\"texteCentre\">33,0</p></td></tr><tr><td><p>Âge à déterminer</p></td><td><p class=\"texteCentre\">0,1</p></td></tr></tbody></table>,\n",
       " <table class=\"contenttable\"><thead><tr><th><p>Établissement de détention</p></th><th><p>Nombre de personnes incarcérées présentes à minuit</p></th><th><p>Nombre de personnes incarcérées actuellement atteintes de la COVID-19 (cas actifs)</p></th><th><p>Nombre de personnes incarcérées ayant passé un test de dépistage</p></th><th><p>Nombre de résultats positifs</p></th></tr></thead><tbody><tr><td><p>Amos</p></td><td><p>169</p></td><td><p>0</p></td><td><p>7</p></td><td><p>0</p></td></tr><tr><td><p>Baie-Comeau</p></td><td><p>31</p></td><td><p>0</p></td><td><p>0</p></td><td><p>0</p></td></tr><tr><td><p>Hull</p></td><td><p>145</p></td><td><p>0</p></td><td><p>7</p></td><td><p>0</p></td></tr><tr><td><p>Leclerc de Laval</p></td><td><p>138</p></td><td><p>0</p></td><td><p>19</p></td><td><p>0</p></td></tr><tr><td><p>Montréal</p></td><td><p>862</p></td><td><p>51</p></td><td><p>408</p></td><td><p>93</p></td></tr><tr><td><p>New Carlisle</p></td><td><p>53</p></td><td><p>0</p></td><td><p>1</p></td><td><p>0</p></td></tr><tr><td><p>Percé</p></td><td><p>39</p></td><td><p>0</p></td><td><p>0</p></td><td><p>0</p></td></tr><tr><td><p>Québec<br/> \t\t\t(secteur féminin)</p></td><td><p>19</p></td><td><p>0</p></td><td><p>5</p></td><td><p>0</p></td></tr><tr><td><p>Québec<br/> \t\t\t(secteur masculin)</p></td><td><p>449</p></td><td><p>0</p></td><td><p>19</p></td><td><p>0</p></td></tr><tr><td><p>Rimouski</p></td><td><p>81</p></td><td><p>0</p></td><td><p>2</p></td><td><p>0</p></td></tr><tr><td><p>Rivière-des-Prairies</p></td><td><p>406</p></td><td><p>0</p></td><td><p>34</p></td><td><p>1</p></td></tr><tr><td><p>Roberval</p></td><td><p>171</p></td><td><p>0</p></td><td><p>2</p></td><td><p>0</p></td></tr><tr><td><p>Saint-Jérôme</p></td><td><p>272</p></td><td><p>0</p></td><td><p>13</p></td><td><p>0</p></td></tr><tr><td><p>Sept-Îles</p></td><td><p>36</p></td><td><p>0</p></td><td><p>0</p></td><td><p>0</p></td></tr><tr><td><p>Sherbrooke</p></td><td><p>176</p></td><td><p>0</p></td><td><p>18</p></td><td><p>1</p></td></tr><tr><td><p>Sorel-Tracy</p></td><td><p>220</p></td><td><p>0</p></td><td><p>6</p></td><td><p>1</p></td></tr><tr><td><p>Trois-Rivières</p></td><td><p>172</p></td><td><p>0</p></td><td><p>13</p></td><td><p>0</p></td></tr><tr><td><p><strong>Total</strong></p></td><td><p><strong>3 439</strong></p></td><td><p><strong>51</strong></p></td><td><p><strong>554</strong></p></td><td><p><strong>96</strong></p></td></tr></tbody><tfoot><tr><td colspan=\"5\"><p>Proportion de la population carcérale atteinte de la COVID-19 : 1,5 %.</p><p>Nombre de personnes incarcérées décédées de la COVID-19 : 1</p><p>Consulter les <a href=\"https://www.quebec.ca/sante/problemes-de-sante/a-z/coronavirus-2019/reponses-questions-coronavirus-covid19/services-juridiques-carceraux-covid-19/#c54112\" target=\"_blank\">questions et réponses concernant les personnes incarcérées et contrevenantes dans le contexte de la COVID-19 <img alt=\"Cet hyperlien s'ouvrira dans une nouvelle fenêtre.\" class=\"linkExtImg\" src=\"/typo3conf/ext/gabarit_pgu/Resources/Public/Images/Templates/lien-externe.svg\"/></a></p></td></tr></tfoot></table>,\n",
       " <table class=\"contenttable\"><thead><tr><th><p>Établissement de détention</p></th><th><p>Nombre d'employés des Services correctionnels atteints de la COVID-19 (cas actifs)</p></th><th><p>Nombre d'employés rétablis</p></th></tr></thead><tbody><tr><td><p>Amos</p></td><td><p>0</p></td><td><p>0</p></td></tr><tr><td><p>Baie-Comeau</p></td><td><p>0</p></td><td><p>0</p></td></tr><tr><td><p>Hull</p></td><td><p>0</p></td><td><p>0</p></td></tr><tr><td><p>Leclerc de Laval</p></td><td><p>3</p></td><td><p>1</p></td></tr><tr><td><p>Montréal</p></td><td><p>12</p></td><td><p>25</p></td></tr><tr><td><p>New Carlisle</p></td><td><p>0</p></td><td><p>0</p></td></tr><tr><td><p>Percé</p></td><td><p>0</p></td><td><p>0</p></td></tr><tr><td><p>Québec<br/> \t\t\t(secteur féminin)</p></td><td><p>0</p></td><td><p>0</p></td></tr><tr><td><p>Québec<br/> \t\t\t(secteur masculin)</p></td><td><p>0</p></td><td><p>0</p></td></tr><tr><td><p>Rimouski</p></td><td><p>0</p></td><td><p>0</p></td></tr><tr><td><p>Rivière-des-Prairies</p></td><td><p>3</p></td><td><p>2</p></td></tr><tr><td><p>Roberval</p></td><td><p>0</p></td><td><p>0</p></td></tr><tr><td><p>Saint-Jérôme</p></td><td><p>0</p></td><td><p>1</p></td></tr><tr><td><p>Sept-Îles</p></td><td><p>0</p></td><td><p>0</p></td></tr><tr><td><p>Sherbrooke</p></td><td><p>0</p></td><td><p>0</p></td></tr><tr><td><p>Sorel-Tracy</p></td><td><p>0</p></td><td><p>0</p></td></tr><tr><td><p>Trois-Rivières</p></td><td><p>1</p></td><td><p>0</p></td></tr><tr><td><p><strong>Total</strong></p></td><td><p><strong>19</strong></p></td><td><p><strong>29</strong></p></td></tr></tbody><tfoot><tr><td colspan=\"3\"><p>Consulter les <a href=\"https://www.quebec.ca/sante/problemes-de-sante/a-z/coronavirus-2019/reponses-questions-coronavirus-covid19/services-juridiques-carceraux-covid-19/#c54112\" target=\"_blank\">questions et réponses concernant les personnes incarcérées et contrevenantes dans le contexte de la COVID-19 <img alt=\"Cet hyperlien s'ouvrira dans une nouvelle fenêtre.\" class=\"linkExtImg\" src=\"/typo3conf/ext/gabarit_pgu/Resources/Public/Images/Templates/lien-externe.svg\"/></a></p></td></tr></tfoot></table>]"
      ]
     },
     "execution_count": 56,
     "metadata": {},
     "output_type": "execute_result"
    }
   ],
   "source": [
    "soup_deces"
   ]
  },
  {
   "cell_type": "code",
   "execution_count": 57,
   "metadata": {},
   "outputs": [],
   "source": [
    "donnees_deces = soup_deces[2]"
   ]
  },
  {
   "cell_type": "code",
   "execution_count": 58,
   "metadata": {},
   "outputs": [
    {
     "data": {
      "text/plain": [
       "<table class=\"contenttable\"><thead><tr><th class=\"align-top\"><p>Régions</p></th><th><p class=\"texteCentre\">Nombre de décès, en date du 23 mai, 13 h 15</p></th></tr></thead><tfoot><tr><td colspan=\"2\"><p>Données cumulatives. Source : V10, MSSS, 22 mai 2020, 18 h</p></td></tr></tfoot><tbody><tr><td><p>01 - Bas-Saint-Laurent</p></td><td><p class=\"texteCentre\">2</p></td></tr><tr><td><p>02 - Saguenay – Lac-Saint-Jean</p></td><td><p class=\"texteCentre\">26</p></td></tr><tr><td><p>03 - Capitale-Nationale</p></td><td><p class=\"texteCentre\">92</p></td></tr><tr><td><p>04 - Mauricie-et-Centre-du-Québec</p></td><td><p class=\"texteCentre\">170</p></td></tr><tr><td><p>05 - Estrie</p></td><td><p class=\"texteCentre\">25</p></td></tr><tr><td><p>06 - Montréal</p></td><td><p class=\"texteCentre\">2 508</p></td></tr><tr><td><p>07 - Outaouais</p></td><td><p class=\"texteCentre\">12</p></td></tr><tr><td><p>08 - Abitibi-Témiscamingue</p></td><td><p class=\"texteCentre\">3</p></td></tr><tr><td><p>09 - Côte-Nord</p></td><td><p class=\"texteCentre\">0</p></td></tr><tr><td><p>10 - Nord-du-Québec</p></td><td><p class=\"texteCentre\">0</p></td></tr><tr><td><p>11 - Gaspésie-Îles-de-la-Madeleine</p></td><td><p class=\"texteCentre\">8</p></td></tr><tr><td><p>12 - Chaudière-Appalaches</p></td><td><p class=\"texteCentre\">8</p></td></tr><tr><td><p>13 - Laval</p></td><td><p class=\"texteCentre\">484</p></td></tr><tr><td><p>14 - Lanaudière</p></td><td><p class=\"texteCentre\">164</p></td></tr><tr><td><p>15 - Laurentides</p></td><td><p class=\"texteCentre\">106</p></td></tr><tr><td><p>16 - Montérégie</p></td><td><p class=\"texteCentre\">332</p></td></tr><tr><td><p>17 - Nunavik</p></td><td><p class=\"texteCentre\">0</p></td></tr><tr><td><p>18 - Terres-Cries-de-la-Baie-James</p></td><td><p class=\"texteCentre\">0</p></td></tr><tr><td><p>Hors Québec</p></td><td><p class=\"texteCentre\">0</p></td></tr><tr><td><p>Région à déterminer</p></td><td><p class=\"texteCentre\">0</p></td></tr><tr><td><p>Total</p></td><td><p class=\"texteCentre\">3 940</p></td></tr></tbody></table>"
      ]
     },
     "execution_count": 58,
     "metadata": {},
     "output_type": "execute_result"
    }
   ],
   "source": [
    "donnees_deces"
   ]
  },
  {
   "cell_type": "code",
   "execution_count": 59,
   "metadata": {},
   "outputs": [],
   "source": [
    "# p_tag_deces = soup_deces.findall(\"p\")\n",
    "p_tag_deces = [str(i) for i in donnees_deces.find_all(\"p\")]"
   ]
  },
  {
   "cell_type": "code",
   "execution_count": 60,
   "metadata": {},
   "outputs": [
    {
     "data": {
      "text/plain": [
       "['<p>Régions</p>',\n",
       " '<p class=\"texteCentre\">Nombre de décès, en date du 23\\xa0mai, 13\\xa0h\\xa015</p>',\n",
       " '<p>Données cumulatives. Source\\xa0: V10, MSSS, 22\\xa0mai\\xa02020, 18\\xa0h</p>',\n",
       " '<p>01 - Bas-Saint-Laurent</p>',\n",
       " '<p class=\"texteCentre\">2</p>',\n",
       " '<p>02 - Saguenay – Lac-Saint-Jean</p>',\n",
       " '<p class=\"texteCentre\">26</p>',\n",
       " '<p>03 - Capitale-Nationale</p>',\n",
       " '<p class=\"texteCentre\">92</p>',\n",
       " '<p>04 - Mauricie-et-Centre-du-Québec</p>',\n",
       " '<p class=\"texteCentre\">170</p>',\n",
       " '<p>05 - Estrie</p>',\n",
       " '<p class=\"texteCentre\">25</p>',\n",
       " '<p>06 - Montréal</p>',\n",
       " '<p class=\"texteCentre\">2\\xa0508</p>',\n",
       " '<p>07 - Outaouais</p>',\n",
       " '<p class=\"texteCentre\">12</p>',\n",
       " '<p>08 - Abitibi-Témiscamingue</p>',\n",
       " '<p class=\"texteCentre\">3</p>',\n",
       " '<p>09 - Côte-Nord</p>',\n",
       " '<p class=\"texteCentre\">0</p>',\n",
       " '<p>10 - Nord-du-Québec</p>',\n",
       " '<p class=\"texteCentre\">0</p>',\n",
       " '<p>11 - Gaspésie-Îles-de-la-Madeleine</p>',\n",
       " '<p class=\"texteCentre\">8</p>',\n",
       " '<p>12 - Chaudière-Appalaches</p>',\n",
       " '<p class=\"texteCentre\">8</p>',\n",
       " '<p>13 - Laval</p>',\n",
       " '<p class=\"texteCentre\">484</p>',\n",
       " '<p>14 - Lanaudière</p>',\n",
       " '<p class=\"texteCentre\">164</p>',\n",
       " '<p>15 - Laurentides</p>',\n",
       " '<p class=\"texteCentre\">106</p>',\n",
       " '<p>16 - Montérégie</p>',\n",
       " '<p class=\"texteCentre\">332</p>',\n",
       " '<p>17 - Nunavik</p>',\n",
       " '<p class=\"texteCentre\">0</p>',\n",
       " '<p>18 - Terres-Cries-de-la-Baie-James</p>',\n",
       " '<p class=\"texteCentre\">0</p>',\n",
       " '<p>Hors Québec</p>',\n",
       " '<p class=\"texteCentre\">0</p>',\n",
       " '<p>Région à déterminer</p>',\n",
       " '<p class=\"texteCentre\">0</p>',\n",
       " '<p>Total</p>',\n",
       " '<p class=\"texteCentre\">3\\xa0940</p>']"
      ]
     },
     "execution_count": 60,
     "metadata": {},
     "output_type": "execute_result"
    }
   ],
   "source": [
    "p_tag_deces"
   ]
  },
  {
   "cell_type": "code",
   "execution_count": 61,
   "metadata": {},
   "outputs": [],
   "source": [
    "total_p_tag_deces = p_tag_deces[-1]"
   ]
  },
  {
   "cell_type": "code",
   "execution_count": 62,
   "metadata": {},
   "outputs": [
    {
     "data": {
      "text/plain": [
       "'<p class=\"texteCentre\">3\\xa0940</p>'"
      ]
     },
     "execution_count": 62,
     "metadata": {},
     "output_type": "execute_result"
    }
   ],
   "source": [
    "total_p_tag_deces"
   ]
  },
  {
   "cell_type": "code",
   "execution_count": 63,
   "metadata": {
    "scrolled": true
   },
   "outputs": [],
   "source": [
    "p_tag_deces = p_tag_deces[3:]"
   ]
  },
  {
   "cell_type": "code",
   "execution_count": 64,
   "metadata": {},
   "outputs": [
    {
     "data": {
      "text/plain": [
       "['<p class=\"texteCentre\">2</p>',\n",
       " '<p class=\"texteCentre\">26</p>',\n",
       " '<p class=\"texteCentre\">92</p>',\n",
       " '<p class=\"texteCentre\">170</p>',\n",
       " '<p class=\"texteCentre\">25</p>',\n",
       " '<p class=\"texteCentre\">2\\xa0508</p>',\n",
       " '<p class=\"texteCentre\">12</p>',\n",
       " '<p class=\"texteCentre\">3</p>',\n",
       " '<p class=\"texteCentre\">0</p>',\n",
       " '<p class=\"texteCentre\">0</p>',\n",
       " '<p class=\"texteCentre\">8</p>',\n",
       " '<p class=\"texteCentre\">8</p>',\n",
       " '<p class=\"texteCentre\">484</p>',\n",
       " '<p class=\"texteCentre\">164</p>',\n",
       " '<p class=\"texteCentre\">106</p>',\n",
       " '<p class=\"texteCentre\">332</p>',\n",
       " '<p class=\"texteCentre\">0</p>',\n",
       " '<p class=\"texteCentre\">0</p>',\n",
       " '<p class=\"texteCentre\">0</p>',\n",
       " '<p class=\"texteCentre\">0</p>',\n",
       " '<p class=\"texteCentre\">3\\xa0940</p>']"
      ]
     },
     "execution_count": 64,
     "metadata": {},
     "output_type": "execute_result"
    }
   ],
   "source": [
    "# cas_de_deces = p_tag_deces[1::2]\n",
    "p_tag_deces[1::2]"
   ]
  },
  {
   "cell_type": "code",
   "execution_count": 65,
   "metadata": {},
   "outputs": [
    {
     "data": {
      "text/plain": [
       "21"
      ]
     },
     "execution_count": 65,
     "metadata": {},
     "output_type": "execute_result"
    }
   ],
   "source": [
    "len(p_tag_deces[1::2])"
   ]
  },
  {
   "cell_type": "code",
   "execution_count": 66,
   "metadata": {},
   "outputs": [],
   "source": [
    "deces = nombre_de_cas(p_tag_deces[1::2])"
   ]
  },
  {
   "cell_type": "code",
   "execution_count": 67,
   "metadata": {},
   "outputs": [
    {
     "data": {
      "text/plain": [
       "[2,\n",
       " 26,\n",
       " 92,\n",
       " 170,\n",
       " 25,\n",
       " 2508,\n",
       " 12,\n",
       " 3,\n",
       " 0,\n",
       " 0,\n",
       " 8,\n",
       " 8,\n",
       " 484,\n",
       " 164,\n",
       " 106,\n",
       " 332,\n",
       " 0,\n",
       " 0,\n",
       " 0,\n",
       " 0,\n",
       " 3940]"
      ]
     },
     "execution_count": 67,
     "metadata": {},
     "output_type": "execute_result"
    }
   ],
   "source": [
    "deces"
   ]
  },
  {
   "cell_type": "code",
   "execution_count": 73,
   "metadata": {},
   "outputs": [
    {
     "data": {
      "text/plain": [
       "21"
      ]
     },
     "execution_count": 73,
     "metadata": {},
     "output_type": "execute_result"
    }
   ],
   "source": [
    "len(deces)"
   ]
  },
  {
   "cell_type": "code",
   "execution_count": 69,
   "metadata": {
    "scrolled": true
   },
   "outputs": [],
   "source": [
    "donnees_covid = []\n",
    "for i in range(len(confirmes)):\n",
    "    donnees_covid.append(dict(confirmés=confirmes[i], date=date,\n",
    "                  décès=deces[i],  région=regions[i]))"
   ]
  },
  {
   "cell_type": "code",
   "execution_count": 70,
   "metadata": {},
   "outputs": [
    {
     "data": {
      "text/plain": [
       "[{'confirmés': 47,\n",
       "  'date': '22 mai 2020',\n",
       "  'décès': 2,\n",
       "  'région': 'Bas-Saint-Laurent'},\n",
       " {'confirmés': 318,\n",
       "  'date': '22 mai 2020',\n",
       "  'décès': 26,\n",
       "  'région': 'Saguenay-Lac-Saint-Jean'},\n",
       " {'confirmés': 1354,\n",
       "  'date': '22 mai 2020',\n",
       "  'décès': 92,\n",
       "  'région': 'Capitale-Nationale'},\n",
       " {'confirmés': 1856,\n",
       "  'date': '22 mai 2020',\n",
       "  'décès': 170,\n",
       "  'région': 'Mauricie-et-Centre-du-Québec'},\n",
       " {'confirmés': 933, 'date': '22 mai 2020', 'décès': 25, 'région': 'Estrie'},\n",
       " {'confirmés': 23696,\n",
       "  'date': '22 mai 2020',\n",
       "  'décès': 2508,\n",
       "  'région': 'Montréal'},\n",
       " {'confirmés': 479, 'date': '22 mai 2020', 'décès': 12, 'région': 'Outaouais'},\n",
       " {'confirmés': 164,\n",
       "  'date': '22 mai 2020',\n",
       "  'décès': 3,\n",
       "  'région': 'Abitibi-Témiscamingue'},\n",
       " {'confirmés': 114, 'date': '22 mai 2020', 'décès': 0, 'région': 'Côte-Nord'},\n",
       " {'confirmés': 8,\n",
       "  'date': '22 mai 2020',\n",
       "  'décès': 0,\n",
       "  'région': 'Nord-du-Québec'},\n",
       " {'confirmés': 179,\n",
       "  'date': '22 mai 2020',\n",
       "  'décès': 8,\n",
       "  'région': 'Gaspésie-Îles-de-la-Madeleine'},\n",
       " {'confirmés': 484,\n",
       "  'date': '22 mai 2020',\n",
       "  'décès': 8,\n",
       "  'région': 'Chaudière-Appalaches'},\n",
       " {'confirmés': 5090, 'date': '22 mai 2020', 'décès': 484, 'région': 'Laval'},\n",
       " {'confirmés': 3708,\n",
       "  'date': '22 mai 2020',\n",
       "  'décès': 164,\n",
       "  'région': 'Lanaudière'},\n",
       " {'confirmés': 2589,\n",
       "  'date': '22 mai 2020',\n",
       "  'décès': 106,\n",
       "  'région': 'Laurentides'},\n",
       " {'confirmés': 5783,\n",
       "  'date': '22 mai 2020',\n",
       "  'décès': 332,\n",
       "  'région': 'Montérégie'},\n",
       " {'confirmés': 16, 'date': '22 mai 2020', 'décès': 0, 'région': 'Nunavik'},\n",
       " {'confirmés': 10,\n",
       "  'date': '22 mai 2020',\n",
       "  'décès': 0,\n",
       "  'région': 'Terres-Cries-de-la-Baie-James'},\n",
       " {'confirmés': 3, 'date': '22 mai 2020', 'décès': 0, 'région': 'Hors-Québec'},\n",
       " {'confirmés': 7,\n",
       "  'date': '22 mai 2020',\n",
       "  'décès': 0,\n",
       "  'région': 'Région-à-déterminer'},\n",
       " {'confirmés': 46838, 'date': '22 mai 2020', 'décès': 3940, 'région': 'Total'}]"
      ]
     },
     "execution_count": 70,
     "metadata": {},
     "output_type": "execute_result"
    }
   ],
   "source": [
    " donnees_covid "
   ]
  }
 ],
 "metadata": {
  "kernelspec": {
   "display_name": "Python 3.7.4 64-bit",
   "language": "python",
   "name": "python37464bit28eee607e8484323a139d6b32bf3ddd7"
  },
  "language_info": {
   "codemirror_mode": {
    "name": "ipython",
    "version": 3
   },
   "file_extension": ".py",
   "mimetype": "text/x-python",
   "name": "python",
   "nbconvert_exporter": "python",
   "pygments_lexer": "ipython3",
   "version": "3.7.4"
  }
 },
 "nbformat": 4,
 "nbformat_minor": 4
}
