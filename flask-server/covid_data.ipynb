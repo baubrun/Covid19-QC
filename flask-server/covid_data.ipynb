{
 "cells": [
  {
   "cell_type": "code",
   "execution_count": 1,
   "metadata": {},
   "outputs": [],
   "source": [
    "import httplib2\n",
    "from pprint import pprint\n",
    "import requests\n",
    "from bs4 import BeautifulSoup\n",
    "import webbrowser\n",
    "import re"
   ]
  },
  {
   "cell_type": "code",
   "execution_count": 2,
   "metadata": {},
   "outputs": [],
   "source": [
    "url = \"https://www.quebec.ca/sante/problemes-de-sante/a-z/coronavirus-2019/situation-coronavirus-quebec/\""
   ]
  },
  {
   "cell_type": "code",
   "execution_count": 3,
   "metadata": {},
   "outputs": [],
   "source": [
    "resp = requests.get(url)"
   ]
  },
  {
   "cell_type": "code",
   "execution_count": 4,
   "metadata": {},
   "outputs": [],
   "source": [
    "# resp"
   ]
  },
  {
   "cell_type": "code",
   "execution_count": 5,
   "metadata": {},
   "outputs": [],
   "source": [
    "soup = BeautifulSoup(resp.text, \"lxml\")"
   ]
  },
  {
   "cell_type": "code",
   "execution_count": 6,
   "metadata": {},
   "outputs": [],
   "source": [
    "# type(soup)"
   ]
  },
  {
   "cell_type": "code",
   "execution_count": 7,
   "metadata": {
    "scrolled": true
   },
   "outputs": [],
   "source": [
    "# pprint(soup)"
   ]
  },
  {
   "cell_type": "code",
   "execution_count": 8,
   "metadata": {},
   "outputs": [],
   "source": [
    "table = soup.find(\"table\")"
   ]
  },
  {
   "cell_type": "code",
   "execution_count": 9,
   "metadata": {},
   "outputs": [],
   "source": [
    "# print(table.prettify())"
   ]
  },
  {
   "cell_type": "code",
   "execution_count": 10,
   "metadata": {},
   "outputs": [],
   "source": [
    "# p_tag_in_table = table.find_all(\"p\")"
   ]
  },
  {
   "cell_type": "code",
   "execution_count": 11,
   "metadata": {},
   "outputs": [],
   "source": [
    "def get_p_tags(data):\n",
    "    return [str(i) for i in data.find_all(\"p\")]"
   ]
  },
  {
   "cell_type": "code",
   "execution_count": 12,
   "metadata": {},
   "outputs": [],
   "source": [
    "confirmes_p_tags = get_p_tags(table)"
   ]
  },
  {
   "cell_type": "code",
   "execution_count": 13,
   "metadata": {},
   "outputs": [
    {
     "data": {
      "text/plain": [
       "['<p>Régions</p>',\n",
       " '<p class=\"texteCentre\">Nombre de cas confirmés, en date du 3\\xa0juin, 11\\xa0h</p>',\n",
       " '<p>Données cumulatives. Source\\xa0: V10, MSSS, 2\\xa0juin\\xa02020, 18\\xa0h</p>',\n",
       " '<p>01 - Bas-Saint-Laurent</p>',\n",
       " '<p class=\"texteCentre\">48</p>',\n",
       " '<p>02 - Saguenay – Lac-Saint-Jean</p>',\n",
       " '<p class=\"texteCentre\">321</p>',\n",
       " '<p>03 - Capitale-Nationale</p>',\n",
       " '<p class=\"texteCentre\">1\\xa0630</p>',\n",
       " '<p>04 - Mauricie-et-Centre-du-Québec</p>',\n",
       " '<p class=\"texteCentre\">1\\xa0990</p>',\n",
       " '<p>05 - Estrie</p>',\n",
       " '<p class=\"texteCentre\">943</p>',\n",
       " '<p>06 - Montréal</p>',\n",
       " '<p class=\"texteCentre\">25\\xa0788</p>',\n",
       " '<p>07 - Outaouais</p>',\n",
       " '<p class=\"texteCentre\">547</p>',\n",
       " '<p>08 - Abitibi-Témiscamingue</p>',\n",
       " '<p class=\"texteCentre\">168</p>',\n",
       " '<p>09 - Côte-Nord</p>',\n",
       " '<p class=\"texteCentre\">115</p>',\n",
       " '<p>10 - Nord-du-Québec</p>',\n",
       " '<p class=\"texteCentre\">8</p>',\n",
       " '<p>11 - Gaspésie-Îles-de-la-Madeleine</p>',\n",
       " '<p class=\"texteCentre\">184</p>',\n",
       " '<p>12 - Chaudière-Appalaches</p>',\n",
       " '<p class=\"texteCentre\">500</p>',\n",
       " '<p>13 - Laval</p>',\n",
       " '<p class=\"texteCentre\">5\\xa0488</p>',\n",
       " '<p>14 - Lanaudière</p>',\n",
       " '<p class=\"texteCentre\">4\\xa0037</p>',\n",
       " '<p>15 - Laurentides</p>',\n",
       " '<p class=\"texteCentre\">2\\xa0984</p>',\n",
       " '<p>16 - Montérégie</p>',\n",
       " '<p class=\"texteCentre\">7\\xa0091</p>',\n",
       " '<p>17 - Nunavik</p>',\n",
       " '<p class=\"texteCentre\">16</p>',\n",
       " '<p>18 - Terres-Cries-de-la-Baie-James</p>',\n",
       " '<p class=\"texteCentre\">10</p>',\n",
       " '<p>Hors Québec</p>',\n",
       " '<p class=\"texteCentre\">13</p>',\n",
       " '<p>Région à déterminer</p>',\n",
       " '<p class=\"texteCentre\">3</p>',\n",
       " '<p>Total</p>',\n",
       " '<p class=\"texteCentre\">51\\xa0884</p>']"
      ]
     },
     "execution_count": 13,
     "metadata": {},
     "output_type": "execute_result"
    }
   ],
   "source": [
    "confirmes_p_tags"
   ]
  },
  {
   "cell_type": "code",
   "execution_count": 14,
   "metadata": {},
   "outputs": [],
   "source": [
    "def find_line(d):\n",
    "    l = []\n",
    "    for i in range(len(d)):\n",
    "        if d[i].startswith(\"<p>Données cumulatives\"):\n",
    "            l.append(d[i])\n",
    "    return l[0]"
   ]
  },
  {
   "cell_type": "code",
   "execution_count": 15,
   "metadata": {},
   "outputs": [],
   "source": [
    "date_str = find_line(confirmes_p_tags)"
   ]
  },
  {
   "cell_type": "code",
   "execution_count": 16,
   "metadata": {},
   "outputs": [
    {
     "data": {
      "text/plain": [
       "'<p>Données cumulatives. Source\\xa0: V10, MSSS, 2\\xa0juin\\xa02020, 18\\xa0h</p>'"
      ]
     },
     "execution_count": 16,
     "metadata": {},
     "output_type": "execute_result"
    }
   ],
   "source": [
    "date_str"
   ]
  },
  {
   "cell_type": "code",
   "execution_count": 17,
   "metadata": {},
   "outputs": [],
   "source": [
    "date_str_ignore_ascii = date_str.encode(\"ascii\", \"replace\")"
   ]
  },
  {
   "cell_type": "code",
   "execution_count": 18,
   "metadata": {},
   "outputs": [
    {
     "data": {
      "text/plain": [
       "b'<p>Donn?es cumulatives. Source?: V10, MSSS, 2?juin?2020, 18?h</p>'"
      ]
     },
     "execution_count": 18,
     "metadata": {},
     "output_type": "execute_result"
    }
   ],
   "source": [
    "date_str_ignore_ascii"
   ]
  },
  {
   "cell_type": "code",
   "execution_count": 19,
   "metadata": {},
   "outputs": [],
   "source": [
    "date_str_decode_utf8 = date_str_ignore_ascii.decode(\"UTF8\")"
   ]
  },
  {
   "cell_type": "code",
   "execution_count": 20,
   "metadata": {},
   "outputs": [
    {
     "data": {
      "text/plain": [
       "'<p>Donn?es cumulatives. Source?: V10, MSSS, 2?juin?2020, 18?h</p>'"
      ]
     },
     "execution_count": 20,
     "metadata": {},
     "output_type": "execute_result"
    }
   ],
   "source": [
    "date_str_decode_utf8"
   ]
  },
  {
   "cell_type": "code",
   "execution_count": 21,
   "metadata": {},
   "outputs": [],
   "source": [
    "date_str_regex = re.compile(\"\\d{1,2}\\W\\w+\\W\\d{4}\")"
   ]
  },
  {
   "cell_type": "code",
   "execution_count": 22,
   "metadata": {},
   "outputs": [
    {
     "data": {
      "text/plain": [
       "re.compile(r'\\d{1,2}\\W\\w+\\W\\d{4}', re.UNICODE)"
      ]
     },
     "execution_count": 22,
     "metadata": {},
     "output_type": "execute_result"
    }
   ],
   "source": [
    "date_str_regex"
   ]
  },
  {
   "cell_type": "code",
   "execution_count": 23,
   "metadata": {},
   "outputs": [],
   "source": [
    "date_found = date_str_regex.findall(date_str_decode_utf8)"
   ]
  },
  {
   "cell_type": "code",
   "execution_count": 24,
   "metadata": {},
   "outputs": [
    {
     "data": {
      "text/plain": [
       "['2?juin?2020']"
      ]
     },
     "execution_count": 24,
     "metadata": {},
     "output_type": "execute_result"
    }
   ],
   "source": [
    "date_found"
   ]
  },
  {
   "cell_type": "code",
   "execution_count": 25,
   "metadata": {},
   "outputs": [],
   "source": [
    "date = \" \".join(date_found[0].split(\"?\"))"
   ]
  },
  {
   "cell_type": "code",
   "execution_count": 26,
   "metadata": {},
   "outputs": [
    {
     "data": {
      "text/plain": [
       "'2 juin 2020'"
      ]
     },
     "execution_count": 26,
     "metadata": {},
     "output_type": "execute_result"
    }
   ],
   "source": [
    "date"
   ]
  },
  {
   "cell_type": "code",
   "execution_count": 27,
   "metadata": {},
   "outputs": [],
   "source": [
    " donnees_confirmes = confirmes_p_tags[3:]"
   ]
  },
  {
   "cell_type": "code",
   "execution_count": 28,
   "metadata": {},
   "outputs": [
    {
     "data": {
      "text/plain": [
       "['<p>01 - Bas-Saint-Laurent</p>',\n",
       " '<p class=\"texteCentre\">48</p>',\n",
       " '<p>02 - Saguenay – Lac-Saint-Jean</p>',\n",
       " '<p class=\"texteCentre\">321</p>',\n",
       " '<p>03 - Capitale-Nationale</p>',\n",
       " '<p class=\"texteCentre\">1\\xa0630</p>',\n",
       " '<p>04 - Mauricie-et-Centre-du-Québec</p>',\n",
       " '<p class=\"texteCentre\">1\\xa0990</p>',\n",
       " '<p>05 - Estrie</p>',\n",
       " '<p class=\"texteCentre\">943</p>',\n",
       " '<p>06 - Montréal</p>',\n",
       " '<p class=\"texteCentre\">25\\xa0788</p>',\n",
       " '<p>07 - Outaouais</p>',\n",
       " '<p class=\"texteCentre\">547</p>',\n",
       " '<p>08 - Abitibi-Témiscamingue</p>',\n",
       " '<p class=\"texteCentre\">168</p>',\n",
       " '<p>09 - Côte-Nord</p>',\n",
       " '<p class=\"texteCentre\">115</p>',\n",
       " '<p>10 - Nord-du-Québec</p>',\n",
       " '<p class=\"texteCentre\">8</p>',\n",
       " '<p>11 - Gaspésie-Îles-de-la-Madeleine</p>',\n",
       " '<p class=\"texteCentre\">184</p>',\n",
       " '<p>12 - Chaudière-Appalaches</p>',\n",
       " '<p class=\"texteCentre\">500</p>',\n",
       " '<p>13 - Laval</p>',\n",
       " '<p class=\"texteCentre\">5\\xa0488</p>',\n",
       " '<p>14 - Lanaudière</p>',\n",
       " '<p class=\"texteCentre\">4\\xa0037</p>',\n",
       " '<p>15 - Laurentides</p>',\n",
       " '<p class=\"texteCentre\">2\\xa0984</p>',\n",
       " '<p>16 - Montérégie</p>',\n",
       " '<p class=\"texteCentre\">7\\xa0091</p>',\n",
       " '<p>17 - Nunavik</p>',\n",
       " '<p class=\"texteCentre\">16</p>',\n",
       " '<p>18 - Terres-Cries-de-la-Baie-James</p>',\n",
       " '<p class=\"texteCentre\">10</p>',\n",
       " '<p>Hors Québec</p>',\n",
       " '<p class=\"texteCentre\">13</p>',\n",
       " '<p>Région à déterminer</p>',\n",
       " '<p class=\"texteCentre\">3</p>',\n",
       " '<p>Total</p>',\n",
       " '<p class=\"texteCentre\">51\\xa0884</p>']"
      ]
     },
     "execution_count": 28,
     "metadata": {},
     "output_type": "execute_result"
    }
   ],
   "source": [
    "donnees_confirmes"
   ]
  },
  {
   "cell_type": "markdown",
   "metadata": {},
   "source": [
    "#### Slice Regions"
   ]
  },
  {
   "cell_type": "code",
   "execution_count": 29,
   "metadata": {},
   "outputs": [],
   "source": [
    "slice_regions = donnees_confirmes[0::2]"
   ]
  },
  {
   "cell_type": "code",
   "execution_count": 30,
   "metadata": {},
   "outputs": [],
   "source": [
    "# slice_regions"
   ]
  },
  {
   "cell_type": "markdown",
   "metadata": {},
   "source": [
    "#### Regex Régions"
   ]
  },
  {
   "cell_type": "code",
   "execution_count": 31,
   "metadata": {},
   "outputs": [],
   "source": [
    "def regex_regions(r):\n",
    "    regex = [re.findall(r\"\\w+\", noms) for noms in r]\n",
    "    les_noms = []\n",
    "    regex_tranches = [i for i in regex]\n",
    "    for m in regex_tranches:\n",
    "        if len(m) > 1:\n",
    "            nom = \"-\".join(m)\n",
    "            les_noms.append(nom)\n",
    "        else:\n",
    "            les_noms.append(m[0])\n",
    "    les_noms_2 = []\n",
    "    for i in les_noms:\n",
    "        les_noms_2.append(re.sub(\"p-\\d.-|p-|-p\", \"\", i))\n",
    "    return les_noms_2        "
   ]
  },
  {
   "cell_type": "code",
   "execution_count": 32,
   "metadata": {},
   "outputs": [],
   "source": [
    "regions = regex_regions(slice_regions)"
   ]
  },
  {
   "cell_type": "code",
   "execution_count": 33,
   "metadata": {},
   "outputs": [],
   "source": [
    "# regions"
   ]
  },
  {
   "cell_type": "markdown",
   "metadata": {},
   "source": [
    "#### Slice Confirmés"
   ]
  },
  {
   "cell_type": "code",
   "execution_count": 34,
   "metadata": {},
   "outputs": [],
   "source": [
    "# donnees_confirmes[1::2]"
   ]
  },
  {
   "cell_type": "code",
   "execution_count": 35,
   "metadata": {},
   "outputs": [],
   "source": [
    "slice_confirmes = donnees_confirmes[1::2]"
   ]
  },
  {
   "cell_type": "code",
   "execution_count": 36,
   "metadata": {},
   "outputs": [],
   "source": [
    "# slice_confirmes"
   ]
  },
  {
   "cell_type": "markdown",
   "metadata": {},
   "source": [
    "#### Regex Nombres"
   ]
  },
  {
   "cell_type": "code",
   "execution_count": 37,
   "metadata": {},
   "outputs": [],
   "source": [
    "def nombre_de_cas(c):\n",
    "    if len(c) == 1:\n",
    "        regions_a_determine = []\n",
    "        regex = re.findall(r\"\\d+\", c[0])\n",
    "        regions_a_determine = int(regex[0])\n",
    "        return regions_a_determine\n",
    "    else:\n",
    "        les_cas = []\n",
    "        for i in c:\n",
    "            chiffre_regex = re.findall(r\"\\d+\", i)\n",
    "            les_cas.append(int(\"\".join(chiffre_regex)))\n",
    "        return les_cas"
   ]
  },
  {
   "cell_type": "code",
   "execution_count": 38,
   "metadata": {},
   "outputs": [],
   "source": [
    "confirmes = nombre_de_cas(donnees_confirmes[1::2]) # error"
   ]
  },
  {
   "cell_type": "code",
   "execution_count": 39,
   "metadata": {},
   "outputs": [
    {
     "data": {
      "text/plain": [
       "[48,\n",
       " 321,\n",
       " 1630,\n",
       " 1990,\n",
       " 943,\n",
       " 25788,\n",
       " 547,\n",
       " 168,\n",
       " 115,\n",
       " 8,\n",
       " 184,\n",
       " 500,\n",
       " 5488,\n",
       " 4037,\n",
       " 2984,\n",
       " 7091,\n",
       " 16,\n",
       " 10,\n",
       " 13,\n",
       " 3,\n",
       " 51884]"
      ]
     },
     "execution_count": 39,
     "metadata": {},
     "output_type": "execute_result"
    }
   ],
   "source": [
    "confirmes"
   ]
  },
  {
   "cell_type": "markdown",
   "metadata": {},
   "source": [
    "#### Régions Aleat"
   ]
  },
  {
   "cell_type": "code",
   "execution_count": 40,
   "metadata": {},
   "outputs": [],
   "source": [
    "# # total 21\n",
    "# len(confirmes)"
   ]
  },
  {
   "cell_type": "markdown",
   "metadata": {},
   "source": [
    "### Cas de Décès"
   ]
  },
  {
   "cell_type": "code",
   "execution_count": 41,
   "metadata": {},
   "outputs": [],
   "source": [
    "soup_deces = soup.find_all(\"table\")"
   ]
  },
  {
   "cell_type": "code",
   "execution_count": 42,
   "metadata": {},
   "outputs": [],
   "source": [
    "# len(soup_deces)"
   ]
  },
  {
   "cell_type": "code",
   "execution_count": 43,
   "metadata": {},
   "outputs": [],
   "source": [
    "# soup_deces"
   ]
  },
  {
   "cell_type": "code",
   "execution_count": 44,
   "metadata": {},
   "outputs": [],
   "source": [
    "donnees_deces = soup_deces[2]"
   ]
  },
  {
   "cell_type": "code",
   "execution_count": 45,
   "metadata": {},
   "outputs": [
    {
     "data": {
      "text/plain": [
       "<table class=\"contenttable\"><thead><tr><th class=\"align-top\"><p>Régions</p></th><th><p class=\"texteCentre\">Nombre de décès, en date du 3 juin, 11 h</p></th></tr></thead><tfoot><tr><td colspan=\"2\"><p>Données cumulatives. Source : V10, MSSS, 2 juin 2020, 18 h</p></td></tr></tfoot><tbody><tr><td><p>01 - Bas-Saint-Laurent</p></td><td><p class=\"texteCentre\">2</p></td></tr><tr><td><p>02 - Saguenay – Lac-Saint-Jean</p></td><td><p class=\"texteCentre\">26</p></td></tr><tr><td><p>03 - Capitale-Nationale</p></td><td><p class=\"texteCentre\">128</p></td></tr><tr><td><p>04 - Mauricie-et-Centre-du-Québec</p></td><td><p class=\"texteCentre\">203</p></td></tr><tr><td><p>05 - Estrie</p></td><td><p class=\"texteCentre\">25</p></td></tr><tr><td><p>06 - Montréal</p></td><td><p class=\"texteCentre\">2 982</p></td></tr><tr><td><p>07 - Outaouais</p></td><td><p class=\"texteCentre\">22</p></td></tr><tr><td><p>08 - Abitibi-Témiscamingue</p></td><td><p class=\"texteCentre\">3</p></td></tr><tr><td><p>09 - Côte-Nord</p></td><td><p class=\"texteCentre\">0</p></td></tr><tr><td><p>10 - Nord-du-Québec</p></td><td><p class=\"texteCentre\">0</p></td></tr><tr><td><p>11 - Gaspésie-Îles-de-la-Madeleine</p></td><td><p class=\"texteCentre\">8</p></td></tr><tr><td><p>12 - Chaudière-Appalaches</p></td><td><p class=\"texteCentre\">8</p></td></tr><tr><td><p>13 - Laval</p></td><td><p class=\"texteCentre\">623</p></td></tr><tr><td><p>14 - Lanaudière</p></td><td><p class=\"texteCentre\">192</p></td></tr><tr><td><p>15 - Laurentides</p></td><td><p class=\"texteCentre\">148</p></td></tr><tr><td><p>16 - Montérégie</p></td><td><p class=\"texteCentre\">424</p></td></tr><tr><td><p>17 - Nunavik</p></td><td><p class=\"texteCentre\">0</p></td></tr><tr><td><p>18 - Terres-Cries-de-la-Baie-James</p></td><td><p class=\"texteCentre\">0</p></td></tr><tr><td><p>Hors Québec</p></td><td><p class=\"texteCentre\">0</p></td></tr><tr><td><p>Région à déterminer</p></td><td><p class=\"texteCentre\">0</p></td></tr><tr><td><p>Total</p></td><td><p class=\"texteCentre\">4 794</p></td></tr></tbody></table>"
      ]
     },
     "execution_count": 45,
     "metadata": {},
     "output_type": "execute_result"
    }
   ],
   "source": [
    "donnees_deces"
   ]
  },
  {
   "cell_type": "code",
   "execution_count": null,
   "metadata": {},
   "outputs": [],
   "source": []
  },
  {
   "cell_type": "code",
   "execution_count": 46,
   "metadata": {},
   "outputs": [],
   "source": [
    "p_tag_deces = get_p_tags(donnees_deces)\n",
    "# p_tag_deces = [str(i) for i in donnees_deces.find_all(\"p\")]"
   ]
  },
  {
   "cell_type": "code",
   "execution_count": 47,
   "metadata": {},
   "outputs": [],
   "source": [
    "# p_tag_deces[4::2]"
   ]
  },
  {
   "cell_type": "code",
   "execution_count": 48,
   "metadata": {},
   "outputs": [],
   "source": [
    "# len(p_tag_deces[1::2])"
   ]
  },
  {
   "cell_type": "code",
   "execution_count": 49,
   "metadata": {},
   "outputs": [],
   "source": [
    "deces = nombre_de_cas(p_tag_deces[4::2])"
   ]
  },
  {
   "cell_type": "code",
   "execution_count": 50,
   "metadata": {},
   "outputs": [],
   "source": [
    "# deces"
   ]
  },
  {
   "cell_type": "code",
   "execution_count": 51,
   "metadata": {},
   "outputs": [],
   "source": [
    "# len(deces)"
   ]
  },
  {
   "cell_type": "code",
   "execution_count": 52,
   "metadata": {
    "scrolled": true
   },
   "outputs": [],
   "source": [
    "donnees_covid = []\n",
    "for i in range(len(confirmes)):\n",
    "    donnees_covid.append(dict(confirmes=confirmes[i], date=date,\n",
    "                  deces=deces[i],  region=regions[i]))"
   ]
  },
  {
   "cell_type": "code",
   "execution_count": 53,
   "metadata": {},
   "outputs": [],
   "source": [
    " data = donnees_covid "
   ]
  },
  {
   "cell_type": "code",
   "execution_count": 54,
   "metadata": {},
   "outputs": [
    {
     "data": {
      "text/plain": [
       "[{'confirmes': 48,\n",
       "  'date': '2 juin 2020',\n",
       "  'deces': 2,\n",
       "  'region': 'Bas-Saint-Laurent'},\n",
       " {'confirmes': 321,\n",
       "  'date': '2 juin 2020',\n",
       "  'deces': 26,\n",
       "  'region': 'Saguenay-Lac-Saint-Jean'},\n",
       " {'confirmes': 1630,\n",
       "  'date': '2 juin 2020',\n",
       "  'deces': 128,\n",
       "  'region': 'Capitale-Nationale'},\n",
       " {'confirmes': 1990,\n",
       "  'date': '2 juin 2020',\n",
       "  'deces': 203,\n",
       "  'region': 'Mauricie-et-Centre-du-Québec'},\n",
       " {'confirmes': 943, 'date': '2 juin 2020', 'deces': 25, 'region': 'Estrie'},\n",
       " {'confirmes': 25788,\n",
       "  'date': '2 juin 2020',\n",
       "  'deces': 2982,\n",
       "  'region': 'Montréal'},\n",
       " {'confirmes': 547, 'date': '2 juin 2020', 'deces': 22, 'region': 'Outaouais'},\n",
       " {'confirmes': 168,\n",
       "  'date': '2 juin 2020',\n",
       "  'deces': 3,\n",
       "  'region': 'Abitibi-Témiscamingue'},\n",
       " {'confirmes': 115, 'date': '2 juin 2020', 'deces': 0, 'region': 'Côte-Nord'},\n",
       " {'confirmes': 8,\n",
       "  'date': '2 juin 2020',\n",
       "  'deces': 0,\n",
       "  'region': 'Nord-du-Québec'},\n",
       " {'confirmes': 184,\n",
       "  'date': '2 juin 2020',\n",
       "  'deces': 8,\n",
       "  'region': 'Gaspésie-Îles-de-la-Madeleine'},\n",
       " {'confirmes': 500,\n",
       "  'date': '2 juin 2020',\n",
       "  'deces': 8,\n",
       "  'region': 'Chaudière-Appalaches'},\n",
       " {'confirmes': 5488, 'date': '2 juin 2020', 'deces': 623, 'region': 'Laval'},\n",
       " {'confirmes': 4037,\n",
       "  'date': '2 juin 2020',\n",
       "  'deces': 192,\n",
       "  'region': 'Lanaudière'},\n",
       " {'confirmes': 2984,\n",
       "  'date': '2 juin 2020',\n",
       "  'deces': 148,\n",
       "  'region': 'Laurentides'},\n",
       " {'confirmes': 7091,\n",
       "  'date': '2 juin 2020',\n",
       "  'deces': 424,\n",
       "  'region': 'Montérégie'},\n",
       " {'confirmes': 16, 'date': '2 juin 2020', 'deces': 0, 'region': 'Nunavik'},\n",
       " {'confirmes': 10,\n",
       "  'date': '2 juin 2020',\n",
       "  'deces': 0,\n",
       "  'region': 'Terres-Cries-de-la-Baie-James'},\n",
       " {'confirmes': 13, 'date': '2 juin 2020', 'deces': 0, 'region': 'Hors-Québec'},\n",
       " {'confirmes': 3,\n",
       "  'date': '2 juin 2020',\n",
       "  'deces': 0,\n",
       "  'region': 'Région-à-déterminer'},\n",
       " {'confirmes': 51884, 'date': '2 juin 2020', 'deces': 4794, 'region': 'Total'}]"
      ]
     },
     "execution_count": 54,
     "metadata": {},
     "output_type": "execute_result"
    }
   ],
   "source": [
    "data"
   ]
  }
 ],
 "metadata": {
  "kernelspec": {
   "display_name": "Python 3.7.4 64-bit",
   "language": "python",
   "name": "python37464bit28eee607e8484323a139d6b32bf3ddd7"
  },
  "language_info": {
   "codemirror_mode": {
    "name": "ipython",
    "version": 3
   },
   "file_extension": ".py",
   "mimetype": "text/x-python",
   "name": "python",
   "nbconvert_exporter": "python",
   "pygments_lexer": "ipython3",
   "version": "3.7.4"
  }
 },
 "nbformat": 4,
 "nbformat_minor": 4
}
